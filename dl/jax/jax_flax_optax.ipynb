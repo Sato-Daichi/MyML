{
  "nbformat": 4,
  "nbformat_minor": 0,
  "metadata": {
    "colab": {
      "provenance": []
    },
    "kernelspec": {
      "name": "python3",
      "display_name": "Python 3"
    },
    "language_info": {
      "name": "python"
    }
  },
  "cells": [
    {
      "cell_type": "markdown",
      "source": [
        "## __Jax, Flax, Optax__"
      ],
      "metadata": {
        "id": "CfF4WGGFU5iy"
      }
    },
    {
      "cell_type": "markdown",
      "source": [
        "### __jax.numpy__"
      ],
      "metadata": {
        "id": "m3his_VtXru-"
      }
    },
    {
      "cell_type": "markdown",
      "source": [
        "- numpyと同様に配列を操作できる"
      ],
      "metadata": {
        "id": "8vM2D0TxwHv_"
      }
    },
    {
      "cell_type": "code",
      "execution_count": 1,
      "metadata": {
        "id": "nXE1lMG0UtqV"
      },
      "outputs": [],
      "source": [
        "import jax.numpy as jnp"
      ]
    },
    {
      "cell_type": "code",
      "source": [
        "a = jnp.array([\n",
        "    [1, 2, 3],\n",
        "    [4, 5, 6],\n",
        "])\n",
        "\n",
        "a"
      ],
      "metadata": {
        "colab": {
          "base_uri": "https://localhost:8080/"
        },
        "id": "UWK8wRsWU_Fh",
        "outputId": "cce23905-5e05-4d79-90e9-5ac8bde340b9"
      },
      "execution_count": 2,
      "outputs": [
        {
          "output_type": "execute_result",
          "data": {
            "text/plain": [
              "Array([[1, 2, 3],\n",
              "       [4, 5, 6]], dtype=int32)"
            ]
          },
          "metadata": {},
          "execution_count": 2
        }
      ]
    },
    {
      "cell_type": "code",
      "source": [
        "a.shape"
      ],
      "metadata": {
        "colab": {
          "base_uri": "https://localhost:8080/"
        },
        "id": "ChDz00jOwNz_",
        "outputId": "7a064b86-b379-4315-e5b4-1fb982173e8a"
      },
      "execution_count": 3,
      "outputs": [
        {
          "output_type": "execute_result",
          "data": {
            "text/plain": [
              "(2, 3)"
            ]
          },
          "metadata": {},
          "execution_count": 3
        }
      ]
    },
    {
      "cell_type": "code",
      "source": [
        "a.dtype"
      ],
      "metadata": {
        "colab": {
          "base_uri": "https://localhost:8080/"
        },
        "id": "BU4AC09lwPgV",
        "outputId": "f02b5a14-b062-4057-f602-a546f3e9c6fd"
      },
      "execution_count": 4,
      "outputs": [
        {
          "output_type": "execute_result",
          "data": {
            "text/plain": [
              "dtype('int32')"
            ]
          },
          "metadata": {},
          "execution_count": 4
        }
      ]
    },
    {
      "cell_type": "markdown",
      "source": [
        "### __乱数生成__\n",
        "\n",
        "- numpyとは異なり乱数のシードは変数(状態変数)で指定する\n",
        "\n",
        "- デフォルトはfloat32であることに注意"
      ],
      "metadata": {
        "id": "17Puv_g7Zo6n"
      }
    },
    {
      "cell_type": "code",
      "source": [
        "import jax\n",
        "\n",
        "key = jax.random.key(0)\n",
        "key"
      ],
      "metadata": {
        "colab": {
          "base_uri": "https://localhost:8080/"
        },
        "id": "ZfqIZbVYVLWz",
        "outputId": "60dc3437-2bd2-4d96-a60d-c345836234eb"
      },
      "execution_count": 5,
      "outputs": [
        {
          "output_type": "execute_result",
          "data": {
            "text/plain": [
              "Array((), dtype=key<fry>) overlaying:\n",
              "[0 0]"
            ]
          },
          "metadata": {},
          "execution_count": 5
        }
      ]
    },
    {
      "cell_type": "code",
      "source": [
        "# 乱数生成のキーは1度しか使えないため、使用する用と保存するように分割する\n",
        "key, _ = jax.random.split(key)"
      ],
      "metadata": {
        "id": "98T3K7JHzDKU"
      },
      "execution_count": 6,
      "outputs": []
    },
    {
      "cell_type": "code",
      "source": [
        "random_array = jax.random.normal(key, (10000,))\n",
        "random_array"
      ],
      "metadata": {
        "colab": {
          "base_uri": "https://localhost:8080/"
        },
        "id": "rxN-h86GdwYN",
        "outputId": "f8e3c558-448c-4867-9755-71d2c6f965b8"
      },
      "execution_count": 7,
      "outputs": [
        {
          "output_type": "execute_result",
          "data": {
            "text/plain": [
              "Array([ 0.19083706,  0.2970768 ,  1.7548186 , ...,  0.41046736,\n",
              "       -0.15044403,  0.8289169 ], dtype=float32)"
            ]
          },
          "metadata": {},
          "execution_count": 7
        }
      ]
    },
    {
      "cell_type": "markdown",
      "source": [
        "### __自動微分__"
      ],
      "metadata": {
        "id": "yVE4Y55KZuQE"
      }
    },
    {
      "cell_type": "markdown",
      "source": [
        "jax.grad関数で勾配を計算できる"
      ],
      "metadata": {
        "id": "VNEXY1GGwZhe"
      }
    },
    {
      "cell_type": "code",
      "source": [
        "def square(x):\n",
        "    return x ** 2\n",
        "\n",
        "# 勾配を返す関数\n",
        "grad_square = jax.grad(square)\n",
        "grad_square"
      ],
      "metadata": {
        "id": "5TR51OA4V1Cn",
        "colab": {
          "base_uri": "https://localhost:8080/",
          "height": 103
        },
        "outputId": "514939f0-6dcd-40e7-bf80-359872f9bb0b"
      },
      "execution_count": 8,
      "outputs": [
        {
          "output_type": "execute_result",
          "data": {
            "text/plain": [
              "<function __main__.square(x)>"
            ],
            "text/html": [
              "<div style=\"max-width:800px; border: 1px solid var(--colab-border-color);\"><style>\n",
              "      pre.function-repr-contents {\n",
              "        overflow-x: auto;\n",
              "        padding: 8px 12px;\n",
              "        max-height: 500px;\n",
              "      }\n",
              "\n",
              "      pre.function-repr-contents.function-repr-contents-collapsed {\n",
              "        cursor: pointer;\n",
              "        max-height: 100px;\n",
              "      }\n",
              "    </style>\n",
              "    <pre style=\"white-space: initial; background:\n",
              "         var(--colab-secondary-surface-color); padding: 8px 12px;\n",
              "         border-bottom: 1px solid var(--colab-border-color);\"><b>square</b><br/>def square(x)</pre><pre class=\"function-repr-contents function-repr-contents-collapsed\" style=\"\"><a class=\"filepath\" style=\"display:none\" href=\"#\">/content/&lt;ipython-input-8-f3826a0569fa&gt;</a>Gradient of square with respect to positional argument(s) 0. Takes the same arguments as square but returns the gradient, which has the same shape as the arguments at positions 0.</pre></div>"
            ]
          },
          "metadata": {},
          "execution_count": 8
        }
      ]
    },
    {
      "cell_type": "code",
      "source": [
        "# 勾配を計算\n",
        "grad_square(2.0)"
      ],
      "metadata": {
        "colab": {
          "base_uri": "https://localhost:8080/"
        },
        "id": "olz2Xv7YX_yU",
        "outputId": "c939cdc3-6f0b-4ce4-b19e-42e41c18b165"
      },
      "execution_count": 9,
      "outputs": [
        {
          "output_type": "execute_result",
          "data": {
            "text/plain": [
              "Array(4., dtype=float32, weak_type=True)"
            ]
          },
          "metadata": {},
          "execution_count": 9
        }
      ]
    },
    {
      "cell_type": "markdown",
      "source": [
        "### __vmap__"
      ],
      "metadata": {
        "id": "yS6m4MqcZxhz"
      }
    },
    {
      "cell_type": "code",
      "source": [
        "vectorized_square = jax.vmap(square)\n",
        "vectorized_square"
      ],
      "metadata": {
        "colab": {
          "base_uri": "https://localhost:8080/",
          "height": 103
        },
        "id": "Zut5kcS3Y-gK",
        "outputId": "c73496b0-a052-4d71-9ea5-de826c16940d"
      },
      "execution_count": 10,
      "outputs": [
        {
          "output_type": "execute_result",
          "data": {
            "text/plain": [
              "<function __main__.square(x)>"
            ],
            "text/html": [
              "<div style=\"max-width:800px; border: 1px solid var(--colab-border-color);\"><style>\n",
              "      pre.function-repr-contents {\n",
              "        overflow-x: auto;\n",
              "        padding: 8px 12px;\n",
              "        max-height: 500px;\n",
              "      }\n",
              "\n",
              "      pre.function-repr-contents.function-repr-contents-collapsed {\n",
              "        cursor: pointer;\n",
              "        max-height: 100px;\n",
              "      }\n",
              "    </style>\n",
              "    <pre style=\"white-space: initial; background:\n",
              "         var(--colab-secondary-surface-color); padding: 8px 12px;\n",
              "         border-bottom: 1px solid var(--colab-border-color);\"><b>square</b><br/>def square(x)</pre><pre class=\"function-repr-contents function-repr-contents-collapsed\" style=\"\"><a class=\"filepath\" style=\"display:none\" href=\"#\">/content/&lt;ipython-input-8-f3826a0569fa&gt;</a>Vectorized version of square. Takes similar arguments as square but with additional array axes over which square is mapped.</pre></div>"
            ]
          },
          "metadata": {},
          "execution_count": 10
        }
      ]
    },
    {
      "cell_type": "code",
      "source": [
        "# vmapを使う場合\n",
        "%%time\n",
        "vectorized_square(random_array)"
      ],
      "metadata": {
        "colab": {
          "base_uri": "https://localhost:8080/"
        },
        "id": "HMbm6z79abfu",
        "outputId": "43a266e7-5f36-4521-832a-c25a24f69b68"
      },
      "execution_count": 11,
      "outputs": [
        {
          "output_type": "stream",
          "name": "stdout",
          "text": [
            "CPU times: user 43.3 ms, sys: 315 µs, total: 43.6 ms\n",
            "Wall time: 142 ms\n"
          ]
        },
        {
          "output_type": "execute_result",
          "data": {
            "text/plain": [
              "Array([0.03641878, 0.08825462, 3.0793881 , ..., 0.16848345, 0.02263341,\n",
              "       0.6871032 ], dtype=float32)"
            ]
          },
          "metadata": {},
          "execution_count": 11
        }
      ]
    },
    {
      "cell_type": "code",
      "source": [
        "# vmapを使わない場合\n",
        "%%time\n",
        "jnp.array([square(x) for x in random_array])"
      ],
      "metadata": {
        "colab": {
          "base_uri": "https://localhost:8080/"
        },
        "id": "4eUmO7L5amwg",
        "outputId": "88f5abaa-ebd1-4d86-d048-08039835cedf"
      },
      "execution_count": 12,
      "outputs": [
        {
          "output_type": "stream",
          "name": "stdout",
          "text": [
            "CPU times: user 5.3 s, sys: 277 ms, total: 5.57 s\n",
            "Wall time: 13.9 s\n"
          ]
        },
        {
          "output_type": "execute_result",
          "data": {
            "text/plain": [
              "Array([0.03641878, 0.08825462, 3.0793881 , ..., 0.16848345, 0.02263341,\n",
              "       0.6871032 ], dtype=float32)"
            ]
          },
          "metadata": {},
          "execution_count": 12
        }
      ]
    },
    {
      "cell_type": "markdown",
      "source": [
        "### __Flax__"
      ],
      "metadata": {
        "id": "qnKqk_gltSMa"
      }
    },
    {
      "cell_type": "code",
      "source": [
        "import flax.linen as nn\n",
        "\n",
        "# モデルの構造定義\n",
        "# modelはモデルのパラメータを保持しない\n",
        "# featuresに出力次元を定義する\n",
        "# 入力次元は入力データから計算される\n",
        "model = nn.Dense(features=3)\n",
        "model"
      ],
      "metadata": {
        "colab": {
          "base_uri": "https://localhost:8080/"
        },
        "id": "o75DDp5q1jZQ",
        "outputId": "33852776-489d-45a1-e8fa-b7d000fbf4e7"
      },
      "execution_count": 13,
      "outputs": [
        {
          "output_type": "execute_result",
          "data": {
            "text/plain": [
              "Dense(\n",
              "    # attributes\n",
              "    features = 3\n",
              "    use_bias = True\n",
              "    dtype = None\n",
              "    param_dtype = float32\n",
              "    precision = None\n",
              "    kernel_init = init\n",
              "    bias_init = zeros\n",
              "    dot_general = None\n",
              "    dot_general_cls = None\n",
              ")"
            ]
          },
          "metadata": {},
          "execution_count": 13
        }
      ]
    },
    {
      "cell_type": "code",
      "source": [
        "# パラメータの初期化\n",
        "key = jax.random.PRNGKey(0)\n",
        "key, model_init_key = jax.random.split(key)\n",
        "\n",
        "# 入力次元数を与えるためにダミーの入力データを作成する\n",
        "dummy_input = jnp.ones((1, 5))\n",
        "dummy_input\n",
        "\n",
        "params = model.init(model_init_key, dummy_input)\n",
        "params"
      ],
      "metadata": {
        "colab": {
          "base_uri": "https://localhost:8080/"
        },
        "id": "xwcSO75haqAH",
        "outputId": "03bdb6bc-707c-46da-ce5e-60bb72d95681"
      },
      "execution_count": 14,
      "outputs": [
        {
          "output_type": "execute_result",
          "data": {
            "text/plain": [
              "{'params': {'kernel': Array([[ 0.26148954, -0.6129929 , -0.23358513],\n",
              "         [ 0.11150402, -0.8755793 ,  0.9810635 ],\n",
              "         [ 0.36360955,  0.18376349, -0.68460613],\n",
              "         [-0.8509373 , -0.64067173, -0.48081222],\n",
              "         [-0.6876102 , -0.33887318, -0.05798903]], dtype=float32),\n",
              "  'bias': Array([0., 0., 0.], dtype=float32)}}"
            ]
          },
          "metadata": {},
          "execution_count": 14
        }
      ]
    },
    {
      "cell_type": "code",
      "source": [
        "params[\"params\"][\"kernel\"]"
      ],
      "metadata": {
        "colab": {
          "base_uri": "https://localhost:8080/"
        },
        "id": "PA-6Xw7V38eK",
        "outputId": "4d40efa3-1517-43d2-f19e-53a1da5acd8d"
      },
      "execution_count": 15,
      "outputs": [
        {
          "output_type": "execute_result",
          "data": {
            "text/plain": [
              "Array([[ 0.26148954, -0.6129929 , -0.23358513],\n",
              "       [ 0.11150402, -0.8755793 ,  0.9810635 ],\n",
              "       [ 0.36360955,  0.18376349, -0.68460613],\n",
              "       [-0.8509373 , -0.64067173, -0.48081222],\n",
              "       [-0.6876102 , -0.33887318, -0.05798903]], dtype=float32)"
            ]
          },
          "metadata": {},
          "execution_count": 15
        }
      ]
    },
    {
      "cell_type": "code",
      "source": [
        "params[\"params\"][\"bias\"]"
      ],
      "metadata": {
        "colab": {
          "base_uri": "https://localhost:8080/"
        },
        "id": "fVT6vSiH4WrO",
        "outputId": "bddb6111-0672-4bff-f9f2-30726f17824b"
      },
      "execution_count": 16,
      "outputs": [
        {
          "output_type": "execute_result",
          "data": {
            "text/plain": [
              "Array([0., 0., 0.], dtype=float32)"
            ]
          },
          "metadata": {},
          "execution_count": 16
        }
      ]
    },
    {
      "cell_type": "code",
      "source": [
        "# 推論\n",
        "# モデル内部にある(はずの)paramsと入力データxを与えて推論できる\n",
        "model.apply(params, dummy_input)"
      ],
      "metadata": {
        "colab": {
          "base_uri": "https://localhost:8080/"
        },
        "id": "cvH3T-Kc4hBI",
        "outputId": "caf388ab-e88c-4237-93a6-d99fd27389ad"
      },
      "execution_count": 17,
      "outputs": [
        {
          "output_type": "execute_result",
          "data": {
            "text/plain": [
              "Array([[-0.8019444 , -2.2843535 , -0.47592902]], dtype=float32)"
            ]
          },
          "metadata": {},
          "execution_count": 17
        }
      ]
    },
    {
      "cell_type": "markdown",
      "source": [
        "### __最適化関数__"
      ],
      "metadata": {
        "id": "pDVCx3J5y6tt"
      }
    },
    {
      "cell_type": "markdown",
      "source": [
        "- optaxライブラリで実装されている\n",
        "\n",
        "- transformationの略であるtxという変数名がよく使われる\n",
        "\n",
        "- optimizer内部の状態は外部の変数として扱う"
      ],
      "metadata": {
        "id": "MrcqTwFmxz7Z"
      }
    },
    {
      "cell_type": "code",
      "source": [
        "import optax\n",
        "\n",
        "# optimizer\n",
        "# txとはtransformationの略\n",
        "tx = optax.sgd(learning_rate=0.1, momentum=0.9)\n",
        "tx"
      ],
      "metadata": {
        "colab": {
          "base_uri": "https://localhost:8080/"
        },
        "id": "rg8xIDThvtN1",
        "outputId": "44f2c37e-ea33-4d2b-a387-91da4c61dcde"
      },
      "execution_count": 18,
      "outputs": [
        {
          "output_type": "execute_result",
          "data": {
            "text/plain": [
              "GradientTransformationExtraArgs(init=<function chain.<locals>.init_fn at 0x7b35d490a7a0>, update=<function chain.<locals>.update_fn at 0x7b35d490a950>)"
            ]
          },
          "metadata": {},
          "execution_count": 18
        }
      ]
    },
    {
      "cell_type": "code",
      "source": [
        "# optimizerの内部状態\n",
        "opt_state = tx.init(params)\n",
        "opt_state"
      ],
      "metadata": {
        "colab": {
          "base_uri": "https://localhost:8080/"
        },
        "id": "U_H3l3yS5XCX",
        "outputId": "5701f18e-3cba-4bd8-d8fc-85d23b4e6b4a"
      },
      "execution_count": 19,
      "outputs": [
        {
          "output_type": "execute_result",
          "data": {
            "text/plain": [
              "(TraceState(trace={'params': {'bias': Array([0., 0., 0.], dtype=float32), 'kernel': Array([[0., 0., 0.],\n",
              "        [0., 0., 0.],\n",
              "        [0., 0., 0.],\n",
              "        [0., 0., 0.],\n",
              "        [0., 0., 0.]], dtype=float32)}}),\n",
              " EmptyState())"
            ]
          },
          "metadata": {},
          "execution_count": 19
        }
      ]
    },
    {
      "cell_type": "markdown",
      "source": [
        "### __損失関数__"
      ],
      "metadata": {
        "id": "c3UQTVK_y40_"
      }
    },
    {
      "cell_type": "markdown",
      "source": [
        "- optaxライブラリで実装されている"
      ],
      "metadata": {
        "id": "EbfGfzgJyHW4"
      }
    },
    {
      "cell_type": "code",
      "source": [
        "# 損失関数の例\n",
        "\n",
        "# ダミーの入力\n",
        "pred = model.apply(params, dummy_input)\n",
        "y = jnp.array([[1.0, 2.0, 3.0]])\n",
        "\n",
        "# これは単純に要素ごとに誤差の2乗を計算するので、それを後で平均する必要がある\n",
        "optax.l2_loss(pred, y)"
      ],
      "metadata": {
        "colab": {
          "base_uri": "https://localhost:8080/"
        },
        "id": "KCDRg1nC6nwi",
        "outputId": "083a0dbb-1563-494b-d7a6-76bfff3a84d5"
      },
      "execution_count": 20,
      "outputs": [
        {
          "output_type": "execute_result",
          "data": {
            "text/plain": [
              "Array([[1.6235018, 9.177841 , 6.0410414]], dtype=float32)"
            ]
          },
          "metadata": {},
          "execution_count": 20
        }
      ]
    },
    {
      "cell_type": "code",
      "source": [
        "# 損失関数\n",
        "\n",
        "def loss_fn(params, x, y):\n",
        "    # 推論\n",
        "    pred = model.apply(params, x)\n",
        "\n",
        "    # 損失\n",
        "    loss = optax.l2_loss(pred, y).mean()\n",
        "\n",
        "    return loss"
      ],
      "metadata": {
        "id": "FNRoW0cr6NFx"
      },
      "execution_count": 21,
      "outputs": []
    },
    {
      "cell_type": "markdown",
      "source": [
        "### __勾配関数__"
      ],
      "metadata": {
        "id": "09UjDOdly3RD"
      }
    },
    {
      "cell_type": "markdown",
      "source": [
        "関数$f$の勾配は以下の式で求まる\n",
        "\n",
        "$$\n",
        "∇f(x) = (\\frac{∂f}{∂x_1}, \\frac{∂f}{∂x_2}, ... \\frac{∂f}{∂x_n})\n",
        "$$\n",
        "\n",
        "`jax.value_and_grad`関数は関数$f$を入力として、以下のような関数$g$を返す\n",
        "\n",
        "$$\n",
        "g(x)=(f(x),∇f(x))\n",
        "$$\n",
        "\n",
        "関数$f$を損失関数とすれば、モデルのパラメータを変更する際に必要となる勾配が求まる"
      ],
      "metadata": {
        "id": "h3QAWZO7ufu9"
      }
    },
    {
      "cell_type": "code",
      "source": [
        "value_grad_fn = jax.value_and_grad(loss_fn)\n",
        "value_grad_fn"
      ],
      "metadata": {
        "colab": {
          "base_uri": "https://localhost:8080/",
          "height": 103
        },
        "id": "IKec6u84s3fz",
        "outputId": "98f81c13-c9a3-4f3e-b4e2-f435c88917a7"
      },
      "execution_count": 22,
      "outputs": [
        {
          "output_type": "execute_result",
          "data": {
            "text/plain": [
              "<function __main__.loss_fn(params, x, y)>"
            ],
            "text/html": [
              "<div style=\"max-width:800px; border: 1px solid var(--colab-border-color);\"><style>\n",
              "      pre.function-repr-contents {\n",
              "        overflow-x: auto;\n",
              "        padding: 8px 12px;\n",
              "        max-height: 500px;\n",
              "      }\n",
              "\n",
              "      pre.function-repr-contents.function-repr-contents-collapsed {\n",
              "        cursor: pointer;\n",
              "        max-height: 100px;\n",
              "      }\n",
              "    </style>\n",
              "    <pre style=\"white-space: initial; background:\n",
              "         var(--colab-secondary-surface-color); padding: 8px 12px;\n",
              "         border-bottom: 1px solid var(--colab-border-color);\"><b>loss_fn</b><br/>def loss_fn(params, x, y)</pre><pre class=\"function-repr-contents function-repr-contents-collapsed\" style=\"\"><a class=\"filepath\" style=\"display:none\" href=\"#\">/content/&lt;ipython-input-21-27e19503b7ca&gt;</a>Value and gradient of loss_fn with respect to positional argument(s) 0. Takes the same arguments as loss_fn but returns a two-element tuple where the first element is the value of loss_fn and the second element is the gradient, which has the same shape as the arguments at positions 0.</pre></div>"
            ]
          },
          "metadata": {},
          "execution_count": 22
        }
      ]
    },
    {
      "cell_type": "markdown",
      "source": [
        "### __学習__"
      ],
      "metadata": {
        "id": "wD1v2cQxxwgT"
      }
    },
    {
      "cell_type": "markdown",
      "source": [
        "TrainStateを使わずに素で書いた場合、3つのステップで学習を行う\n",
        "\n",
        "\n",
        "1. 損失と勾配を計算\n",
        "\n",
        "2. 最適化関数に従ってパラメータの更新量を計算\n",
        "\n",
        "3. パラメータを更新"
      ],
      "metadata": {
        "id": "S7G5Z0gQKasA"
      }
    },
    {
      "cell_type": "code",
      "source": [
        "# サンプルデータの作成\n",
        "n_samples = 20\n",
        "x_dim = 5\n",
        "y_dim = 3\n",
        "y_std = 0.1\n",
        "\n",
        "key_w, key_b, key_sample, key_noise, _ = jax.random.split(_, 5)\n",
        "x_sample = jax.random.normal(key_sample, (n_samples, x_dim))\n",
        "\n",
        "W = jax.random.normal(key_w, (x_dim, y_dim))\n",
        "b = jax.random.normal(key_b, (y_dim,))\n",
        "\n",
        "y_noise = jax.random.normal(key_noise, (n_samples, y_dim))\n",
        "y_sample = jnp.dot(x_sample, W) + b + y_std * y_noise"
      ],
      "metadata": {
        "id": "8dgBKiRcxpWZ"
      },
      "execution_count": 23,
      "outputs": []
    },
    {
      "cell_type": "code",
      "source": [
        "loss_history = []\n",
        "\n",
        "for i in range(100):\n",
        "    # ① 勾配と損失を計算\n",
        "    loss, grads = value_grad_fn(params, x_sample, y_sample)\n",
        "\n",
        "    # ② 最適化関数に従ってパラメータの更新量(updates)を計算\n",
        "    updates, opt_state = tx.update(grads, opt_state)\n",
        "\n",
        "    # ③ パラメータを更新\n",
        "    params = optax.apply_updates(params, updates)\n",
        "\n",
        "    loss_history.append(loss.item())"
      ],
      "metadata": {
        "id": "m3iJf8UL0zud"
      },
      "execution_count": 24,
      "outputs": []
    },
    {
      "cell_type": "code",
      "source": [
        "from matplotlib import pyplot as plt\n",
        "\n",
        "plt.plot(loss_history)\n",
        "plt.title(\"loss curve\")\n",
        "plt.xlabel(\"epoch\")\n",
        "plt.ylabel(\"loss\")\n",
        "plt.show()"
      ],
      "metadata": {
        "colab": {
          "base_uri": "https://localhost:8080/",
          "height": 472
        },
        "id": "3uUayJLmFE6W",
        "outputId": "f4cd07d2-78d3-4202-9628-f2f81f7554f5"
      },
      "execution_count": 25,
      "outputs": [
        {
          "output_type": "display_data",
          "data": {
            "text/plain": [
              "<Figure size 640x480 with 1 Axes>"
            ],
            "image/png": "[encoded data removed]"
          },
          "metadata": {}
        }
      ]
    },
    {
      "cell_type": "markdown",
      "source": [
        "### __モデルIO__"
      ],
      "metadata": {
        "id": "BwBiiJvBKI3G"
      }
    },
    {
      "cell_type": "code",
      "source": [
        "import flax\n",
        "\n",
        "bytes_save = flax.serialization.to_bytes(params)\n",
        "bytes_save"
      ],
      "metadata": {
        "colab": {
          "base_uri": "https://localhost:8080/"
        },
        "id": "frUkF1uDFVXf",
        "outputId": "a9acf05b-9e03-409a-f0ea-a87647ff2493"
      },
      "execution_count": 26,
      "outputs": [
        {
          "output_type": "execute_result",
          "data": {
            "text/plain": [
              "b\"\\x81\\xa6params\\x82\\xa4bias\\xc7\\x19\\x01\\x93\\x91\\x03\\xa7float32\\xc4\\x0c7/\\xa1\\xbfJ\\xc7\\n\\xc0\\x0c\\xa1\\x0b?\\xa6kernel\\xc7J\\x01\\x93\\x92\\x05\\x03\\xa7float32\\xc4<\\xd8\\xa9\\xb5?\\x8ae'\\xbf.\\x001\\xbfI\\xe7\\xc5>+\\xce\\x1c=\\xb8:\\x02>\\xce\\xfc\\x9b\\xbe3\\xd4^?^\\x90\\xab\\xbe\\x0c\\xc9n?\\t\\xb3\\xb9>\\x9c\\xd7}=\\x1a\\xf2\\x98\\xbf\\xee\\x86\\x16\\xc0H'3?\""
            ]
          },
          "metadata": {},
          "execution_count": 26
        }
      ]
    },
    {
      "cell_type": "code",
      "source": [
        "# モデルの保存\n",
        "with open(\"params.bin\", \"wb\") as f:\n",
        "    f.write(bytes_save)"
      ],
      "metadata": {
        "id": "K9dWr-pmFuy0"
      },
      "execution_count": 27,
      "outputs": []
    },
    {
      "cell_type": "code",
      "source": [
        "# モデルの読み込み\n",
        "with open(\"params.bin\", \"rb\") as f:\n",
        "    bytes_load = f.read()\n",
        "\n",
        "flax.serialization.from_bytes(params, bytes_load)"
      ],
      "metadata": {
        "colab": {
          "base_uri": "https://localhost:8080/"
        },
        "id": "rsC5FaO5F0an",
        "outputId": "3533f2ab-4fb3-4b23-af4e-9229734089cc"
      },
      "execution_count": 28,
      "outputs": [
        {
          "output_type": "execute_result",
          "data": {
            "text/plain": [
              "{'params': {'bias': array([-1.2592534 , -2.1684136 ,  0.54542613], dtype=float32),\n",
              "  'kernel': array([[ 1.4192457 , -0.6538931 , -0.691409  ],\n",
              "         [ 0.3865302 ,  0.03828255,  0.12717712],\n",
              "         [-0.30466312,  0.8704254 , -0.3350858 ],\n",
              "         [ 0.93275523,  0.36269405,  0.0619732 ],\n",
              "         [-1.1948884 , -2.3519855 ,  0.69981813]], dtype=float32)}}"
            ]
          },
          "metadata": {},
          "execution_count": 28
        }
      ]
    },
    {
      "cell_type": "markdown",
      "source": [
        "### __TrainState__"
      ],
      "metadata": {
        "id": "i9rU7W6jHp62"
      }
    },
    {
      "cell_type": "markdown",
      "source": [
        "TrainStateのメリット\n",
        "\n",
        "- モデルや最適化関数の内部状態を簡単に管理できる"
      ],
      "metadata": {
        "id": "GDTBKE_SKFqB"
      }
    },
    {
      "cell_type": "code",
      "source": [
        "from flax.training.train_state import TrainState\n",
        "\n",
        "params = model.init(model_init_key, dummy_input)\n",
        "tx = optax.sgd(learning_rate=0.1, momentum=0.9)\n",
        "\n",
        "state = TrainState.create(\n",
        "    apply_fn=model.apply,\n",
        "    params=params,\n",
        "    tx=tx,\n",
        ")\n",
        "state"
      ],
      "metadata": {
        "colab": {
          "base_uri": "https://localhost:8080/"
        },
        "id": "VHPn-JuqwqbL",
        "outputId": "a85996fe-4a27-4043-e0df-b8465eca3f98"
      },
      "execution_count": 29,
      "outputs": [
        {
          "output_type": "execute_result",
          "data": {
            "text/plain": [
              "TrainState(step=0, apply_fn=<bound method Module.apply of Dense(\n",
              "    # attributes\n",
              "    features = 3\n",
              "    use_bias = True\n",
              "    dtype = None\n",
              "    param_dtype = float32\n",
              "    precision = None\n",
              "    kernel_init = init\n",
              "    bias_init = zeros\n",
              "    dot_general = None\n",
              "    dot_general_cls = None\n",
              ")>, params={'params': {'kernel': Array([[ 0.26148954, -0.6129929 , -0.23358513],\n",
              "       [ 0.11150402, -0.8755793 ,  0.9810635 ],\n",
              "       [ 0.36360955,  0.18376349, -0.68460613],\n",
              "       [-0.8509373 , -0.64067173, -0.48081222],\n",
              "       [-0.6876102 , -0.33887318, -0.05798903]], dtype=float32), 'bias': Array([0., 0., 0.], dtype=float32)}}, tx=GradientTransformationExtraArgs(init=<function chain.<locals>.init_fn at 0x7b35d3824d30>, update=<function chain.<locals>.update_fn at 0x7b35d3824dc0>), opt_state=(TraceState(trace={'params': {'bias': Array([0., 0., 0.], dtype=float32), 'kernel': Array([[0., 0., 0.],\n",
              "       [0., 0., 0.],\n",
              "       [0., 0., 0.],\n",
              "       [0., 0., 0.],\n",
              "       [0., 0., 0.]], dtype=float32)}}), EmptyState()))"
            ]
          },
          "metadata": {},
          "execution_count": 29
        }
      ]
    },
    {
      "cell_type": "code",
      "source": [
        "state.params"
      ],
      "metadata": {
        "colab": {
          "base_uri": "https://localhost:8080/"
        },
        "id": "GZTUE3wNYoqf",
        "outputId": "8e657c95-5dfe-4fca-8126-394a42aa0505"
      },
      "execution_count": 30,
      "outputs": [
        {
          "output_type": "execute_result",
          "data": {
            "text/plain": [
              "{'params': {'kernel': Array([[ 0.26148954, -0.6129929 , -0.23358513],\n",
              "         [ 0.11150402, -0.8755793 ,  0.9810635 ],\n",
              "         [ 0.36360955,  0.18376349, -0.68460613],\n",
              "         [-0.8509373 , -0.64067173, -0.48081222],\n",
              "         [-0.6876102 , -0.33887318, -0.05798903]], dtype=float32),\n",
              "  'bias': Array([0., 0., 0.], dtype=float32)}}"
            ]
          },
          "metadata": {},
          "execution_count": 30
        }
      ]
    },
    {
      "cell_type": "code",
      "source": [
        "state.tx"
      ],
      "metadata": {
        "colab": {
          "base_uri": "https://localhost:8080/"
        },
        "id": "Ii3c0EF-YqN0",
        "outputId": "db8a482c-b161-4242-cf1a-b6f1f19e84c5"
      },
      "execution_count": 31,
      "outputs": [
        {
          "output_type": "execute_result",
          "data": {
            "text/plain": [
              "GradientTransformationExtraArgs(init=<function chain.<locals>.init_fn at 0x7b35d3824d30>, update=<function chain.<locals>.update_fn at 0x7b35d3824dc0>)"
            ]
          },
          "metadata": {},
          "execution_count": 31
        }
      ]
    },
    {
      "cell_type": "code",
      "source": [
        "state.apply_fn"
      ],
      "metadata": {
        "colab": {
          "base_uri": "https://localhost:8080/",
          "height": 238
        },
        "id": "e1LOPH0jYsiB",
        "outputId": "89ba481c-c49a-4275-93e0-70a4743af5e6"
      },
      "execution_count": 32,
      "outputs": [
        {
          "output_type": "execute_result",
          "data": {
            "text/plain": [
              "<bound method Module.apply of Dense(\n",
              "    # attributes\n",
              "    features = 3\n",
              "    use_bias = True\n",
              "    dtype = None\n",
              "    param_dtype = float32\n",
              "    precision = None\n",
              "    kernel_init = init\n",
              "    bias_init = zeros\n",
              "    dot_general = None\n",
              "    dot_general_cls = None\n",
              ")>"
            ],
            "text/html": [
              "<div style=\"max-width:800px; border: 1px solid var(--colab-border-color);\"><style>\n",
              "      pre.function-repr-contents {\n",
              "        overflow-x: auto;\n",
              "        padding: 8px 12px;\n",
              "        max-height: 500px;\n",
              "      }\n",
              "\n",
              "      pre.function-repr-contents.function-repr-contents-collapsed {\n",
              "        cursor: pointer;\n",
              "        max-height: 100px;\n",
              "      }\n",
              "    </style>\n",
              "    <pre style=\"white-space: initial; background:\n",
              "         var(--colab-secondary-surface-color); padding: 8px 12px;\n",
              "         border-bottom: 1px solid var(--colab-border-color);\"><b>flax.linen.module.Module.apply</b><br/>def apply(variables: VariableDict, *args, rngs: Optional[Union[PRNGKey, RNGSequences]]=None, method: Union[Callable[..., Any], str, None]=None, mutable: CollectionFilter=False, capture_intermediates: Union[bool, Callable[[&#x27;Module&#x27;, str], bool]]=False, **kwargs) -&gt; Union[Any, Tuple[Any, Union[FrozenVariableDict, Dict[str, Any]]]]</pre><pre class=\"function-repr-contents function-repr-contents-collapsed\" style=\"\"><a class=\"filepath\" style=\"display:none\" href=\"#\">/usr/local/lib/python3.10/dist-packages/flax/linen/module.py</a>Applies a module method to variables and returns output and modified variables.\n",
              "\n",
              "Note that ``method`` should be set if one would like to call ``apply`` on a\n",
              "different class method than ``__call__``. For instance, suppose a\n",
              "Transformer modules has a method called ``encode``, then the following calls\n",
              "``apply`` on that method::\n",
              "\n",
              "  &gt;&gt;&gt; import flax.linen as nn\n",
              "  &gt;&gt;&gt; import jax, jax.numpy as jnp\n",
              "  &gt;&gt;&gt; import numpy as np\n",
              "\n",
              "  &gt;&gt;&gt; class Transformer(nn.Module):\n",
              "  ...   def encode(self, x):\n",
              "  ...     ...\n",
              "\n",
              "  &gt;&gt;&gt; x = jnp.ones((16, 9))\n",
              "  &gt;&gt;&gt; model = Transformer()\n",
              "  &gt;&gt;&gt; variables = model.init(jax.random.key(0), x, method=Transformer.encode)\n",
              "\n",
              "  &gt;&gt;&gt; encoded = model.apply(variables, x, method=Transformer.encode)\n",
              "\n",
              "If a function instance is provided, the unbound function is used. For\n",
              "instance, the example below is equivalent to the one above::\n",
              "\n",
              "  &gt;&gt;&gt; encoded = model.apply(variables, x, method=model.encode)\n",
              "\n",
              "You can also pass a string to a callable attribute of the module. For\n",
              "example, the previous can be written as::\n",
              "\n",
              "  &gt;&gt;&gt; encoded = model.apply(variables, x, method=&#x27;encode&#x27;)\n",
              "\n",
              "Note ``method`` can also be a function that is not defined in\n",
              "``Transformer``. In that case, the function should have at least one\n",
              "argument representing an instance of the Module class::\n",
              "\n",
              "  &gt;&gt;&gt; def other_fn(instance, x):\n",
              "  ...   # instance.some_module_attr(...)\n",
              "  ...   instance.encode\n",
              "  ...   ...\n",
              "\n",
              "  &gt;&gt;&gt; model.apply(variables, x, method=other_fn)\n",
              "\n",
              "If you pass a single ``PRNGKey``, Flax will use it to feed the ``&#x27;params&#x27;``\n",
              "RNG stream.  If you want to use a different RNG stream or need to use\n",
              "multiple streams, you can pass a dictionary mapping each RNG stream name\n",
              "to its corresponding ``PRNGKey`` to ``apply``. If ``self.make_rng(name)``\n",
              "is called on an RNG stream name that isn&#x27;t passed by the user, it will\n",
              "default to using the ``&#x27;params&#x27;`` RNG stream.\n",
              "\n",
              "Example::\n",
              "\n",
              "  &gt;&gt;&gt; class Foo(nn.Module):\n",
              "  ...   @nn.compact\n",
              "  ...   def __call__(self, x, add_noise=False):\n",
              "  ...     x = nn.Dense(16)(x)\n",
              "  ...     x = nn.relu(x)\n",
              "  ...\n",
              "  ...     if add_noise:\n",
              "  ...       # Add gaussian noise\n",
              "  ...       noise_key = self.make_rng(&#x27;noise&#x27;)\n",
              "  ...       x = x + jax.random.normal(noise_key, x.shape)\n",
              "  ...\n",
              "  ...     return nn.Dense(1)(x)\n",
              "\n",
              "  &gt;&gt;&gt; x = jnp.empty((1, 7))\n",
              "  &gt;&gt;&gt; module = Foo()\n",
              "  &gt;&gt;&gt; rngs = {&#x27;params&#x27;: jax.random.key(0), &#x27;noise&#x27;: jax.random.key(1)}\n",
              "  &gt;&gt;&gt; variables = module.init(rngs, x)\n",
              "  &gt;&gt;&gt; out0 = module.apply(variables, x, add_noise=True, rngs=rngs)\n",
              "\n",
              "  &gt;&gt;&gt; rngs[&#x27;noise&#x27;] = jax.random.key(0)\n",
              "  &gt;&gt;&gt; out1 = module.apply(variables, x, add_noise=True, rngs=rngs)\n",
              "  &gt;&gt;&gt; # different output (key(1) vs key(0))\n",
              "  &gt;&gt;&gt; np.testing.assert_raises(AssertionError, np.testing.assert_allclose, out0, out1)\n",
              "\n",
              "  &gt;&gt;&gt; del rngs[&#x27;noise&#x27;]\n",
              "  &gt;&gt;&gt; # self.make_rng(&#x27;noise&#x27;) will default to using the &#x27;params&#x27; RNG stream\n",
              "  &gt;&gt;&gt; out2 = module.apply(variables, x, add_noise=True, rngs=rngs)\n",
              "  &gt;&gt;&gt; # same output (key(0))\n",
              "  &gt;&gt;&gt; np.testing.assert_allclose(out1, out2)\n",
              "\n",
              "  &gt;&gt;&gt; # passing in a single key is equivalent to passing in {&#x27;params&#x27;: key}\n",
              "  &gt;&gt;&gt; out3 = module.apply(variables, x, add_noise=True, rngs=jax.random.key(0))\n",
              "  &gt;&gt;&gt; # same output (key(0))\n",
              "  &gt;&gt;&gt; np.testing.assert_allclose(out2, out3)\n",
              "\n",
              "Args:\n",
              "  variables: A dictionary containing variables keyed by variable\n",
              "    collections. See :mod:`flax.core.variables` for more details about\n",
              "    variables.\n",
              "  *args: Named arguments passed to the specified apply method.\n",
              "  rngs: a dict of PRNGKeys to initialize the PRNG sequences. The &quot;params&quot;\n",
              "    PRNG sequence is used to initialize parameters.\n",
              "  method: A function to call apply on. This is generally a function in the\n",
              "    module. If provided, applies this method. If not provided, applies the\n",
              "    ``__call__`` method of the module. A string can also be provided to\n",
              "    specify a method by name.\n",
              "  mutable: Can be bool, str, or list. Specifies which collections should be\n",
              "    treated as mutable: ``bool``: all/no collections are mutable. ``str``:\n",
              "    The name of a single mutable collection. ``list``: A list of names of\n",
              "    mutable collections.\n",
              "  capture_intermediates: If ``True``, captures intermediate return values of\n",
              "    all Modules inside the &quot;intermediates&quot; collection. By default, only the\n",
              "    return values of all ``__call__`` methods are stored. A function can be\n",
              "    passed to change the filter behavior. The filter function takes the\n",
              "    Module instance and method name and returns a bool indicating whether\n",
              "    the output of that method invocation should be stored.\n",
              "  **kwargs: Keyword arguments passed to the specified apply method.\n",
              "\n",
              "Returns:\n",
              "  If ``mutable`` is False, returns output. If any collections are\n",
              "  mutable, returns ``(output, vars)``, where ``vars`` are is a dict\n",
              "  of the modified collections.</pre>\n",
              "      <script>\n",
              "      if (google.colab.kernel.accessAllowed && google.colab.files && google.colab.files.view) {\n",
              "        for (const element of document.querySelectorAll('.filepath')) {\n",
              "          element.style.display = 'block'\n",
              "          element.onclick = (event) => {\n",
              "            event.preventDefault();\n",
              "            event.stopPropagation();\n",
              "            google.colab.files.view(element.textContent, 2099);\n",
              "          };\n",
              "        }\n",
              "      }\n",
              "      for (const element of document.querySelectorAll('.function-repr-contents')) {\n",
              "        element.onclick = (event) => {\n",
              "          event.preventDefault();\n",
              "          event.stopPropagation();\n",
              "          element.classList.toggle('function-repr-contents-collapsed');\n",
              "        };\n",
              "      }\n",
              "      </script>\n",
              "      </div>"
            ]
          },
          "metadata": {},
          "execution_count": 32
        }
      ]
    },
    {
      "cell_type": "code",
      "source": [
        "@jax.jit\n",
        "def train_step(state, batch: dict):\n",
        "\n",
        "    # ①\n",
        "    loss, grads = value_grad_fn(state.params, batch[\"x\"], batch[\"y\"])\n",
        "\n",
        "    # ②と③をまとめた関数\n",
        "    state = state.apply_gradients(grads=grads)\n",
        "    return state, loss"
      ],
      "metadata": {
        "id": "UV2dIEBYxos8"
      },
      "execution_count": 33,
      "outputs": []
    },
    {
      "cell_type": "code",
      "source": [
        "loss_history = []\n",
        "\n",
        "# 簡単のために全データで学習\n",
        "batch = {\"x\": x_sample, \"y\": y_sample}\n",
        "for i in range(100):\n",
        "    state, loss = train_step(state, batch)\n",
        "    loss_history.append(loss.item())\n",
        "\n",
        "# 学習曲線\n",
        "plt.plot(loss_history)\n",
        "plt.title(\"loss curve\")\n",
        "plt.xlabel(\"epoch\")\n",
        "plt.ylabel(\"loss\")\n",
        "plt.show()"
      ],
      "metadata": {
        "id": "HYN_f3kzyKMd",
        "colab": {
          "base_uri": "https://localhost:8080/",
          "height": 472
        },
        "outputId": "8678f10e-b423-4760-d7f5-bb9f49ba4cb4"
      },
      "execution_count": 34,
      "outputs": [
        {
          "output_type": "display_data",
          "data": {
            "text/plain": [
              "<Figure size 640x480 with 1 Axes>"
            ],
            "image/png": "[encoded data removed]"
          },
          "metadata": {}
        }
      ]
    },
    {
      "cell_type": "code",
      "source": [],
      "metadata": {
        "id": "XidznmMMaJCG"
      },
      "execution_count": 34,
      "outputs": []
    }
  ]
}