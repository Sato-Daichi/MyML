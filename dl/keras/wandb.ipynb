{
  "cells": [
    {
      "cell_type": "markdown",
      "metadata": {
        "id": "wS95smjO2CNg"
      },
      "source": [
        "### __W&BでKeras__\n",
        "\n",
        "W&BとKerasを用いてMNISTデータの多値分類を行う\n",
        "\n",
        "参考 https://github.com/MLHPC/wandb_tutorial"
      ]
    },
    {
      "cell_type": "markdown",
      "metadata": {
        "id": "6JvkPCUF2GUW"
      },
      "source": [
        "#### __準備__"
      ]
    },
    {
      "cell_type": "code",
      "execution_count": 1,
      "metadata": {
        "id": "nYWwXnMEZ8mn"
      },
      "outputs": [],
      "source": [
        "%%capture\n",
        "!pip install wandb"
      ]
    },
    {
      "cell_type": "code",
      "execution_count": 2,
      "metadata": {
        "id": "s6pmysqMaAta"
      },
      "outputs": [],
      "source": [
        "import tensorflow as tf\n",
        "from tensorflow.keras.models import Sequential\n",
        "from tensorflow.keras import layers\n",
        "import tensorflow.keras.optimizers as optim\n",
        "\n",
        "import wandb\n",
        "from tqdm.notebook import tqdm"
      ]
    },
    {
      "cell_type": "code",
      "execution_count": 3,
      "metadata": {
        "colab": {
          "base_uri": "https://localhost:8080/",
          "height": 106
        },
        "id": "Ao7_j-iOWqeJ",
        "outputId": "0bb95af5-83fb-4919-8ac5-bb1d90b7d17e"
      },
      "outputs": [
        {
          "name": "stderr",
          "output_type": "stream",
          "text": [
            "ERROR:wandb.jupyter:Failed to detect the name of this notebook, you can set it manually with the WANDB_NOTEBOOK_NAME environment variable to enable code saving.\n"
          ]
        },
        {
          "data": {
            "application/javascript": "\n        window._wandbApiKey = new Promise((resolve, reject) => {\n            function loadScript(url) {\n            return new Promise(function(resolve, reject) {\n                let newScript = document.createElement(\"script\");\n                newScript.onerror = reject;\n                newScript.onload = resolve;\n                document.body.appendChild(newScript);\n                newScript.src = url;\n            });\n            }\n            loadScript(\"https://cdn.jsdelivr.net/npm/postmate/build/postmate.min.js\").then(() => {\n            const iframe = document.createElement('iframe')\n            iframe.style.cssText = \"width:0;height:0;border:none\"\n            document.body.appendChild(iframe)\n            const handshake = new Postmate({\n                container: iframe,\n                url: 'https://wandb.ai/authorize'\n            });\n            const timeout = setTimeout(() => reject(\"Couldn't auto authenticate\"), 5000)\n            handshake.then(function(child) {\n                child.on('authorize', data => {\n                    clearTimeout(timeout)\n                    resolve(data)\n                });\n            });\n            })\n        });\n    ",
            "text/plain": [
              "<IPython.core.display.Javascript object>"
            ]
          },
          "metadata": {},
          "output_type": "display_data"
        },
        {
          "name": "stderr",
          "output_type": "stream",
          "text": [
            "\u001b[34m\u001b[1mwandb\u001b[0m: Appending key for api.wandb.ai to your netrc file: /root/.netrc\n"
          ]
        },
        {
          "data": {
            "text/plain": [
              "True"
            ]
          },
          "execution_count": 3,
          "metadata": {},
          "output_type": "execute_result"
        }
      ],
      "source": [
        "# API keyを求められた場合は「Setting」→「Danger Zone」から取得\n",
        "\n",
        "wandb.login()"
      ]
    },
    {
      "cell_type": "markdown",
      "metadata": {
        "id": "ycvGkiuILqKo"
      },
      "source": [
        "#### __設定__"
      ]
    },
    {
      "cell_type": "code",
      "execution_count": 4,
      "metadata": {
        "colab": {
          "base_uri": "https://localhost:8080/",
          "height": 86
        },
        "id": "FXbFEqwgcgXP",
        "outputId": "378c6dc4-5e58-4647-c7e0-5aa9204d6aa8"
      },
      "outputs": [
        {
          "name": "stderr",
          "output_type": "stream",
          "text": [
            "\u001b[34m\u001b[1mwandb\u001b[0m: Currently logged in as: \u001b[33msatodaichi\u001b[0m. Use \u001b[1m`wandb login --relogin`\u001b[0m to force relogin\n"
          ]
        },
        {
          "data": {
            "text/html": [
              "Tracking run with wandb version 0.13.4"
            ],
            "text/plain": [
              "<IPython.core.display.HTML object>"
            ]
          },
          "metadata": {},
          "output_type": "display_data"
        },
        {
          "data": {
            "text/html": [
              "Run data is saved locally in <code>/content/wandb/run-20221023_103810-36lb98d4</code>"
            ],
            "text/plain": [
              "<IPython.core.display.HTML object>"
            ]
          },
          "metadata": {},
          "output_type": "display_data"
        },
        {
          "data": {
            "text/html": [
              "Syncing run <strong><a href=\"https://wandb.ai/satodaichi/tutorial/runs/36lb98d4\" target=\"_blank\">keras_0</a></strong> to <a href=\"https://wandb.ai/satodaichi/tutorial\" target=\"_blank\">Weights & Biases</a> (<a href=\"https://wandb.me/run\" target=\"_blank\">docs</a>)<br/>"
            ],
            "text/plain": [
              "<IPython.core.display.HTML object>"
            ]
          },
          "metadata": {},
          "output_type": "display_data"
        }
      ],
      "source": [
        "wandb.init(\n",
        "    project=\"tutorial\",\n",
        "    name=\"keras_0\",\n",
        "    entity=\"satodaichi\",\n",
        "    config={\n",
        "        \"lr\": 0.01,\n",
        "        \"batch_size\": 512,\n",
        "        \"epochs\": 20,\n",
        "        \"n_input\": 28*28,\n",
        "        \"n_hidden\": 128,\n",
        "        \"n_output\": 10, # 10クラス分類\n",
        "        \"ndigits\": 5, # 表示する小数点以下の桁数\n",
        "        }\n",
        ")\n",
        "\n",
        "config = wandb.config"
      ]
    },
    {
      "cell_type": "markdown",
      "metadata": {
        "id": "79lAG7nv2MQ0"
      },
      "source": [
        "#### __データの準備__"
      ]
    },
    {
      "cell_type": "code",
      "execution_count": 5,
      "metadata": {
        "colab": {
          "base_uri": "https://localhost:8080/"
        },
        "id": "MWWGAIh0WI9z",
        "outputId": "7523f7cb-2ddb-48a8-f226-1eca25beceae"
      },
      "outputs": [
        {
          "name": "stdout",
          "output_type": "stream",
          "text": [
            "Downloading data from https://storage.googleapis.com/tensorflow/tf-keras-datasets/mnist.npz\n",
            "11490434/11490434 [==============================] - 0s 0us/step\n"
          ]
        }
      ],
      "source": [
        "(X_train, y_train), (X_test, y_test) = tf.keras.datasets.mnist.load_data()\n",
        "\n",
        "# データ加工\n",
        "X_train  = X_train.reshape(-1, config.n_input).astype('float32') / 255.\n",
        "X_test   = X_test.reshape(-1, config.n_input).astype('float32') / 255.\n",
        "y_train  = tf.keras.utils.to_categorical(y_train, config.n_output)\n",
        "y_test   = tf.keras.utils.to_categorical(y_test, config.n_output)"
      ]
    },
    {
      "cell_type": "markdown",
      "metadata": {
        "id": "hD6RKu-42PhW"
      },
      "source": [
        "#### __モデル__"
      ]
    },
    {
      "cell_type": "code",
      "execution_count": 6,
      "metadata": {
        "id": "02D49bCZcy34"
      },
      "outputs": [],
      "source": [
        "# モデルの構築\n",
        "model = Sequential([\n",
        "    layers.Dense(config.n_hidden, activation='relu'),\n",
        "    layers.Dense(config.n_output, activation='softmax'),\n",
        "])\n",
        "\n",
        "model.compile(\n",
        "    loss=tf.keras.metrics.categorical_crossentropy,\n",
        "    optimizer=optim.Adam(learning_rate=config.lr),\n",
        "    metrics=['acc']\n",
        ")"
      ]
    },
    {
      "cell_type": "markdown",
      "metadata": {
        "id": "FnnOCGba2TOu"
      },
      "source": [
        "#### __学習__"
      ]
    },
    {
      "cell_type": "code",
      "execution_count": 7,
      "metadata": {
        "colab": {
          "base_uri": "https://localhost:8080/",
          "height": 1000
        },
        "id": "NoFDETmrgnuA",
        "outputId": "d01ba060-b945-4c6f-f5db-7d046a5d06fc"
      },
      "outputs": [
        {
          "name": "stderr",
          "output_type": "stream",
          "text": [
            "\u001b[34m\u001b[1mwandb\u001b[0m: \u001b[33mWARNING\u001b[0m The save_model argument by default saves the model in the HDF5 format that cannot save custom objects like subclassed models and custom layers. This behavior will be deprecated in a future release in favor of the SavedModel format. Meanwhile, the HDF5 model is saved as W&B files and the SavedModel as W&B Artifacts.\n"
          ]
        },
        {
          "name": "stdout",
          "output_type": "stream",
          "text": [
            "Epoch 1/20\n",
            "115/118 [============================>.] - ETA: 0s - loss: 0.2983 - acc: 0.9095"
          ]
        },
        {
          "name": "stderr",
          "output_type": "stream",
          "text": [
            "\u001b[34m\u001b[1mwandb\u001b[0m: Adding directory to artifact (/content/wandb/run-20221023_103810-36lb98d4/files/model-best)... Done. 0.1s\n"
          ]
        },
        {
          "name": "stdout",
          "output_type": "stream",
          "text": [
            "\b\b\b\b\b\b\b\b\b\b\b\b\b\b\b\b\b\b\b\b\b\b\b\b\b\b\b\b\b\b\b\b\b\b\b\b\b\b\b\b\b\b\b\b\b\b\b\b\b\b\b\b\b\b\b\b\b\b\b\b\b\b\b\b\b\b\b\b\b\b\b\b\b\b\b\b\b\b\b\r118/118 [==============================] - 3s 18ms/step - loss: 0.2960 - acc: 0.9103 - val_loss: 0.1356 - val_acc: 0.9591\n",
            "Epoch 2/20\n",
            "115/118 [============================>.] - ETA: 0s - loss: 0.1157 - acc: 0.9650"
          ]
        },
        {
          "name": "stderr",
          "output_type": "stream",
          "text": [
            "\u001b[34m\u001b[1mwandb\u001b[0m: Adding directory to artifact (/content/wandb/run-20221023_103810-36lb98d4/files/model-best)... Done. 0.1s\n"
          ]
        },
        {
          "name": "stdout",
          "output_type": "stream",
          "text": [
            "\b\b\b\b\b\b\b\b\b\b\b\b\b\b\b\b\b\b\b\b\b\b\b\b\b\b\b\b\b\b\b\b\b\b\b\b\b\b\b\b\b\b\b\b\b\b\b\b\b\b\b\b\b\b\b\b\b\b\b\b\b\b\b\b\b\b\b\b\b\b\b\b\b\b\b\b\b\b\b\r118/118 [==============================] - 2s 15ms/step - loss: 0.1152 - acc: 0.9651 - val_loss: 0.1050 - val_acc: 0.9681\n",
            "Epoch 3/20\n",
            "115/118 [============================>.] - ETA: 0s - loss: 0.0826 - acc: 0.9738"
          ]
        },
        {
          "name": "stderr",
          "output_type": "stream",
          "text": [
            "\u001b[34m\u001b[1mwandb\u001b[0m: Adding directory to artifact (/content/wandb/run-20221023_103810-36lb98d4/files/model-best)... Done. 0.1s\n"
          ]
        },
        {
          "name": "stdout",
          "output_type": "stream",
          "text": [
            "\b\b\b\b\b\b\b\b\b\b\b\b\b\b\b\b\b\b\b\b\b\b\b\b\b\b\b\b\b\b\b\b\b\b\b\b\b\b\b\b\b\b\b\b\b\b\b\b\b\b\b\b\b\b\b\b\b\b\b\b\b\b\b\b\b\b\b\b\b\b\b\b\b\b\b\b\b\b\b\r118/118 [==============================] - 2s 16ms/step - loss: 0.0823 - acc: 0.9739 - val_loss: 0.0924 - val_acc: 0.9715\n",
            "Epoch 4/20\n",
            "118/118 [==============================] - 1s 10ms/step - loss: 0.0588 - acc: 0.9809 - val_loss: 0.0964 - val_acc: 0.9702\n",
            "Epoch 5/20\n",
            "113/118 [===========================>..] - ETA: 0s - loss: 0.0484 - acc: 0.9844"
          ]
        },
        {
          "name": "stderr",
          "output_type": "stream",
          "text": [
            "\u001b[34m\u001b[1mwandb\u001b[0m: Adding directory to artifact (/content/wandb/run-20221023_103810-36lb98d4/files/model-best)... Done. 0.1s\n"
          ]
        },
        {
          "name": "stdout",
          "output_type": "stream",
          "text": [
            "\b\b\b\b\b\b\b\b\b\b\b\b\b\b\b\b\b\b\b\b\b\b\b\b\b\b\b\b\b\b\b\b\b\b\b\b\b\b\b\b\b\b\b\b\b\b\b\b\b\b\b\b\b\b\b\b\b\b\b\b\b\b\b\b\b\b\b\b\b\b\b\b\b\b\b\b\b\b\b\r118/118 [==============================] - 2s 15ms/step - loss: 0.0484 - acc: 0.9844 - val_loss: 0.0869 - val_acc: 0.9751\n",
            "Epoch 6/20\n",
            "112/118 [===========================>..] - ETA: 0s - loss: 0.0352 - acc: 0.9882"
          ]
        },
        {
          "name": "stderr",
          "output_type": "stream",
          "text": [
            "\u001b[34m\u001b[1mwandb\u001b[0m: Adding directory to artifact (/content/wandb/run-20221023_103810-36lb98d4/files/model-best)... Done. 0.1s\n"
          ]
        },
        {
          "name": "stdout",
          "output_type": "stream",
          "text": [
            "\b\b\b\b\b\b\b\b\b\b\b\b\b\b\b\b\b\b\b\b\b\b\b\b\b\b\b\b\b\b\b\b\b\b\b\b\b\b\b\b\b\b\b\b\b\b\b\b\b\b\b\b\b\b\b\b\b\b\b\b\b\b\b\b\b\b\b\b\b\b\b\b\b\b\b\b\b\b\b\r118/118 [==============================] - 2s 15ms/step - loss: 0.0351 - acc: 0.9883 - val_loss: 0.0861 - val_acc: 0.9747\n",
            "Epoch 7/20\n",
            "118/118 [==============================] - 1s 9ms/step - loss: 0.0293 - acc: 0.9907 - val_loss: 0.1005 - val_acc: 0.9726\n",
            "Epoch 8/20\n",
            "118/118 [==============================] - 1s 9ms/step - loss: 0.0271 - acc: 0.9909 - val_loss: 0.1060 - val_acc: 0.9742\n",
            "Epoch 9/20\n",
            "118/118 [==============================] - 1s 9ms/step - loss: 0.0272 - acc: 0.9907 - val_loss: 0.0943 - val_acc: 0.9767\n",
            "Epoch 10/20\n",
            "118/118 [==============================] - 1s 9ms/step - loss: 0.0195 - acc: 0.9934 - val_loss: 0.0943 - val_acc: 0.9771\n",
            "Epoch 11/20\n",
            "118/118 [==============================] - 1s 8ms/step - loss: 0.0162 - acc: 0.9945 - val_loss: 0.1208 - val_acc: 0.9741\n",
            "Epoch 12/20\n",
            "118/118 [==============================] - 1s 8ms/step - loss: 0.0160 - acc: 0.9943 - val_loss: 0.1162 - val_acc: 0.9736\n",
            "Epoch 13/20\n",
            "118/118 [==============================] - 1s 8ms/step - loss: 0.0173 - acc: 0.9938 - val_loss: 0.0982 - val_acc: 0.9780\n",
            "Epoch 14/20\n",
            "118/118 [==============================] - 1s 8ms/step - loss: 0.0148 - acc: 0.9948 - val_loss: 0.1160 - val_acc: 0.9764\n",
            "Epoch 15/20\n",
            "118/118 [==============================] - 1s 8ms/step - loss: 0.0227 - acc: 0.9921 - val_loss: 0.1713 - val_acc: 0.9652\n",
            "Epoch 16/20\n",
            "118/118 [==============================] - 1s 8ms/step - loss: 0.0275 - acc: 0.9908 - val_loss: 0.1401 - val_acc: 0.9741\n",
            "Epoch 17/20\n",
            "118/118 [==============================] - 1s 8ms/step - loss: 0.0206 - acc: 0.9928 - val_loss: 0.1210 - val_acc: 0.9783\n",
            "Epoch 18/20\n",
            "118/118 [==============================] - 1s 8ms/step - loss: 0.0194 - acc: 0.9936 - val_loss: 0.1431 - val_acc: 0.9759\n",
            "Epoch 19/20\n",
            "118/118 [==============================] - 1s 8ms/step - loss: 0.0258 - acc: 0.9917 - val_loss: 0.1606 - val_acc: 0.9726\n",
            "Epoch 20/20\n",
            "118/118 [==============================] - 1s 8ms/step - loss: 0.0245 - acc: 0.9923 - val_loss: 0.1630 - val_acc: 0.9737\n"
          ]
        },
        {
          "data": {
            "text/html": [
              "Waiting for W&B process to finish... <strong style=\"color:green\">(success).</strong>"
            ],
            "text/plain": [
              "<IPython.core.display.HTML object>"
            ]
          },
          "metadata": {},
          "output_type": "display_data"
        },
        {
          "data": {
            "text/html": [
              "<style>\n",
              "    table.wandb td:nth-child(1) { padding: 0 10px; text-align: left ; width: auto;} td:nth-child(2) {text-align: left ; width: 100%}\n",
              "    .wandb-row { display: flex; flex-direction: row; flex-wrap: wrap; justify-content: flex-start; width: 100% }\n",
              "    .wandb-col { display: flex; flex-direction: column; flex-basis: 100%; flex: 1; padding: 10px; }\n",
              "    </style>\n",
              "<div class=\"wandb-row\"><div class=\"wandb-col\"><h3>Run history:</h3><br/><table class=\"wandb\"><tr><td>acc</td><td>▁▆▆▇▇▇██████████████</td></tr><tr><td>epoch</td><td>▁▁▂▂▂▃▃▄▄▄▅▅▅▆▆▇▇▇██</td></tr><tr><td>loss</td><td>█▃▃▂▂▂▁▁▁▁▁▁▁▁▁▁▁▁▁▁</td></tr><tr><td>val_acc</td><td>▁▄▆▅▇▇▆▇▇█▆▆█▇▃▆█▇▆▆</td></tr><tr><td>val_loss</td><td>▅▃▂▂▁▁▂▃▂▂▄▃▂▃█▅▄▆▇▇</td></tr></table><br/></div><div class=\"wandb-col\"><h3>Run summary:</h3><br/><table class=\"wandb\"><tr><td>acc</td><td>0.99233</td></tr><tr><td>best_epoch</td><td>5</td></tr><tr><td>best_val_loss</td><td>0.08612</td></tr><tr><td>epoch</td><td>19</td></tr><tr><td>loss</td><td>0.02453</td></tr><tr><td>val_acc</td><td>0.9737</td></tr><tr><td>val_loss</td><td>0.16296</td></tr></table><br/></div></div>"
            ],
            "text/plain": [
              "<IPython.core.display.HTML object>"
            ]
          },
          "metadata": {},
          "output_type": "display_data"
        },
        {
          "data": {
            "text/html": [
              "Synced <strong style=\"color:#cdcd00\">keras_0</strong>: <a href=\"https://wandb.ai/satodaichi/tutorial/runs/36lb98d4\" target=\"_blank\">https://wandb.ai/satodaichi/tutorial/runs/36lb98d4</a><br/>Synced 5 W&B file(s), 1 media file(s), 16 artifact file(s) and 1 other file(s)"
            ],
            "text/plain": [
              "<IPython.core.display.HTML object>"
            ]
          },
          "metadata": {},
          "output_type": "display_data"
        },
        {
          "data": {
            "text/html": [
              "Find logs at: <code>./wandb/run-20221023_103810-36lb98d4/logs</code>"
            ],
            "text/plain": [
              "<IPython.core.display.HTML object>"
            ]
          },
          "metadata": {},
          "output_type": "display_data"
        }
      ],
      "source": [
        "# 学習\n",
        "history = model.fit(\n",
        "    X_train,\n",
        "    y_train,\n",
        "    batch_size=config.batch_size,\n",
        "    epochs=config.epochs,\n",
        "    validation_data=(X_test, y_test),\n",
        "    shuffle=True,\n",
        "    callbacks=[wandb.keras.WandbCallback()]\n",
        ")\n",
        "\n",
        "wandb.finish()"
      ]
    },
    {
      "cell_type": "code",
      "execution_count": 7,
      "metadata": {
        "id": "MhoRF8KtaoIt"
      },
      "outputs": [],
      "source": []
    }
  ],
  "metadata": {
    "colab": {
      "collapsed_sections": [],
      "provenance": []
    },
    "kernelspec": {
      "display_name": "Python 3.10.2 64-bit",
      "language": "python",
      "name": "python3"
    },
    "language_info": {
      "name": "python",
      "version": "3.10.2"
    },
    "vscode": {
      "interpreter": {
        "hash": "aee8b7b246df8f9039afb4144a1f6fd8d2ca17a180786b69acc140d282b71a49"
      }
    }
  },
  "nbformat": 4,
  "nbformat_minor": 0
}
