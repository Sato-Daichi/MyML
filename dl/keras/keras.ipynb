{
  "nbformat": 4,
  "nbformat_minor": 0,
  "metadata": {
    "colab": {
      "provenance": [],
      "collapsed_sections": [
        "-CUrPCjyqPLE"
      ]
    },
    "kernelspec": {
      "name": "python3",
      "display_name": "Python 3"
    },
    "language_info": {
      "name": "python"
    }
  },
  "cells": [
    {
      "cell_type": "markdown",
      "source": [
        "### __Kerasのクラス・関数まとめ__"
      ],
      "metadata": {
        "id": "6BBBJVjEz-PN"
      }
    },
    {
      "cell_type": "markdown",
      "source": [
        "#### __dataset__"
      ],
      "metadata": {
        "id": "afa5mjwE0E8V"
      }
    },
    {
      "cell_type": "markdown",
      "source": [
        "`tensorflow.keras.datasets`モジュール https://www.tensorflow.org/api_docs/python/tf/keras/datasets\n",
        "\n",
        "- `boston_housing`: ボストンの住宅価格 (回帰)\n",
        "\n",
        "- `cifar10`: CIFAR10 (画像分類)\n",
        "\n",
        "- `cifar100`: CIFAR100 (画像分類)\n",
        "\n",
        "- `fashion_mnist`: Fashion-MNIST (画像分類)\n",
        "\n",
        "- `imdb`: IMDB感情分類 (文章分類)\n",
        "\n",
        "- `mnist`: MNIST 手書き文字 (画像分類)\n",
        "\n",
        "- `reuters`: ロイター通信の文章トピック分類 (文章分類)"
      ],
      "metadata": {
        "id": "Zf-W9TbiqKFJ"
      }
    },
    {
      "cell_type": "code",
      "execution_count": 5,
      "metadata": {
        "colab": {
          "base_uri": "https://localhost:8080/"
        },
        "id": "thopFmnQzejH",
        "outputId": "f28db3ad-f500-48ec-f22e-24cdda3383cb"
      },
      "outputs": [
        {
          "output_type": "stream",
          "name": "stdout",
          "text": [
            "Downloading data from https://storage.googleapis.com/tensorflow/tf-keras-datasets/reuters.npz\n",
            "2110848/2110848 [==============================] - 0s 0us/step\n"
          ]
        }
      ],
      "source": [
        "from tensorflow.keras.datasets import mnist\n",
        "\n",
        "(x_train, y_train), (x_test, y_test) = mnist.load_data()"
      ]
    },
    {
      "cell_type": "markdown",
      "source": [
        "#### __layers__"
      ],
      "metadata": {
        "id": "2bxm5m781fSV"
      }
    },
    {
      "cell_type": "markdown",
      "source": [
        "`tensorflow.keras.layers`モジュール\n",
        "\n",
        "- `Dense`: 全結合層\n",
        "\n",
        "    - `units`: 出力ベクトルの次元数\n",
        "\n",
        "- `Activation`: 活性化関数\n",
        "\n",
        "    - 活性化関数名を指定〜`\"relu\"`、`\"softmax\"`、`\"sigmoid\"`、`\"tanh\"`、...\n",
        "\n",
        "    - 他のlayerの`activation`引数でも指定可能\n",
        "\n",
        "- `Flatten`: 1次元化\n",
        "\n",
        "- `Reshape`: 変形\n",
        "\n",
        "    - `target_shape`: サイズをリストで指定\n",
        "\n",
        "- `Add`: 足し算\n",
        "\n",
        "    - 足し算したい値をリストで指定\n",
        "\n",
        "- `BatchNormalization`: バッチ正則化\n",
        "\n",
        "- `Dropout`: ドロップアウト\n",
        "\n",
        "    - `rate`: ドロップアウトの割合 (0〜1)\n",
        "\n",
        "    - `seed`: シード値\n",
        "\n",
        "- `Conv2D`: CNN\n",
        "\n",
        "    - `filters`: 出力チャンネル数\n",
        "\n",
        "    - `kernel_size`: カーネルサイズ\n",
        "\n",
        "    - `strides`: ストライド\n",
        "\n",
        "    - `padding=\"valid\"`: パディング\n",
        "\n",
        "        - `\"valid\"`: パディングなし\n",
        "\n",
        "        - `\"same\"`: パディングあり\n",
        "\n",
        "- `MaxPooling2D`: マックスプーリング\n",
        "\n",
        "    - `pool_size`: プールサイズ\n",
        "\n",
        "    - `strides`: ストライド\n",
        "\n",
        "    - `padding`: パディング\n",
        "\n",
        "- `SimpleRNN`: RNN\n",
        "\n",
        "    - `units`: 出力ベクトルの次元数\n",
        "\n",
        "    - `return_sequences`: `False`なら系列の最後の出力を返す。`True`なら全系列を返す\n",
        "\n",
        "    - `return_state`: Trueのときは出力とともに最後の状態を返す\n",
        "\n",
        "- `LSTM`: LSTM\n",
        "\n",
        "    - 引数は`SimpleRNN`と基本的に同じ\n",
        "\n",
        "- `GRU`: GRU\n",
        "\n",
        "    - 引数は`SimpleRNN`と基本的に同じ"
      ],
      "metadata": {
        "id": "iNj4maf_37jx"
      }
    },
    {
      "cell_type": "markdown",
      "source": [
        "__よく使われるオプション引数__\n",
        "\n",
        "- `activation`: 活性化関数\n",
        "\n",
        "- `use-bias`: バイアス項あり/なし\n",
        "\n",
        "- `kernel_regularizer`: 正則化項\n",
        "\n",
        "    - `tensorflow.keras.regularizers.l1(l1)`: L1正則化\n",
        "\n",
        "    - `tensorflow.keras.regularizers.l2(l2)`: L2正則化\n",
        "\n",
        "    - `tensorflow.keras.regularizers.l1_l2(l1, l2)`: ElasticNet\n",
        "\n",
        "- `kernel_initializer`: 初期値\n",
        "\n",
        "    - `\"glorot_uniform\"`, `\"glorot_normal\"`: Glorot(Xavier)の初期値 (一様分布・正規分布)\n",
        "        - sigmoid関数やtanh関数で使用\n",
        "\n",
        "    - `\"he_uniform\"`, `\"he_normal\"`: Heの初期値 (一様分布・正規分布)\n",
        "        - ReLU関数で使用\n"
      ],
      "metadata": {
        "id": "gwAV6uxN6Se-"
      }
    },
    {
      "cell_type": "markdown",
      "source": [
        "#### __最適化関数__"
      ],
      "metadata": {
        "id": "iMxCrDDu5dyn"
      }
    },
    {
      "cell_type": "markdown",
      "source": [
        "- `SGD`: SGDとMomentum\n",
        "\n",
        "    - 確率的勾配降下法\n",
        "\n",
        "    - `lr=0.001`: 学習率\n",
        "\n",
        "    - `momentum=0.0`: 前ステップの使用割合。Momentumで使用(0.9が一般的)\n",
        "\n",
        "- `Adagrad`: Agagrad\n",
        "\n",
        "    - 学習率を過去の勾配の全蓄積で割ることで、以前勾配が大きかった方向の学習率を下げ、小さかった方向の学習率を大きめに取る\n",
        "\n",
        "    - 一度大きな勾配を取ると、それ以降の学習率が非常に小さくなり、学習が止まってしまうという問題がある\n",
        "\n",
        "    - `lr=0.001`: 学習率\n",
        "\n",
        "- `RMSprop`: RMSprop (Root Mean Square)\n",
        "\n",
        "    - 過去の勾配の2乗の指数移動平均で学習率を割る (Adagradの改善)\n",
        "\n",
        "    - `lr=0.001`: 学習率\n",
        "\n",
        "    - `rho=0.9`: 指数移動平均の減衰率\n",
        "\n",
        "- `Adadelta`: Adadelta\n",
        "\n",
        "    - 勾配の2乗の指数移動平均と更新量の2乗の指数移動平均の比とする (Adagradの改善)\n",
        "\n",
        "    - `lr=0.001`: 学習率 (`rho`の値から自動的に決定されるため設定は不要)\n",
        "\n",
        "    - `rho=0.95`: 指数移動平均の減衰率。0.95が推奨値\n",
        "\n",
        "- `Adam`: Adam\n",
        "\n",
        "    - 勾配自体を指数移動平均による推定値に置き換える (Adagradの改善)\n",
        "\n",
        "    - `lr=0.001`: 学習率\n",
        "\n",
        "    - `beta_1=0.9`, `beta_2=0.999`: 過去の勾配・勾配の2乗の採用割合。基本的にデフォルト値でOK"
      ],
      "metadata": {
        "id": "RMXitP715gWr"
      }
    },
    {
      "cell_type": "markdown",
      "source": [
        "#### __コールバック関数__"
      ],
      "metadata": {
        "id": "-CUrPCjyqPLE"
      }
    },
    {
      "cell_type": "markdown",
      "source": [
        "`tensorflow.keras.callbacks`モジュール\n",
        "\n",
        "- `EarlyStopping`: アーリーストッピング\n",
        "\n",
        "    - `monitor=\"val_loss\"`: 監視対象のスコア\n",
        "\n",
        "    - `patience=0`: スコアの悪化を何回まで許容するか\n",
        "\n",
        "- `TensorBoard`: TensorBoard\n",
        "\n",
        "    - `log_dir`: logファイルを書き出すディレクトリの指定"
      ],
      "metadata": {
        "id": "LDt8d0aeqSEn"
      }
    },
    {
      "cell_type": "markdown",
      "source": [
        "#### __コンパイル__"
      ],
      "metadata": {
        "id": "6IpGTi29z5HX"
      }
    },
    {
      "cell_type": "markdown",
      "source": [
        "```python\n",
        "model.compile(\n",
        "    optimizer='rmsprop',\n",
        "    loss='sparse_categorical_crossentropy'\n",
        "    metrics=[\"accuracy\"]\n",
        ")\n",
        "```\n",
        "\n",
        " いずれも文字列かインスタンスで指定\n",
        "\n",
        "- `optimizer`: 最適化関数\n",
        "\n",
        "- `loss`: 損失関数\n",
        "\n",
        "- `metrics`: 評価関数\n",
        "\n",
        "    "
      ],
      "metadata": {
        "id": "haUXQr0Dz8Yc"
      }
    },
    {
      "cell_type": "markdown",
      "source": [
        "#### __学習__"
      ],
      "metadata": {
        "id": "1hb_lhEM1eak"
      }
    },
    {
      "cell_type": "markdown",
      "source": [
        "```python\n",
        "model.fit(\n",
        "    X_train,\n",
        "    Y_train,\n",
        "    batch_size=128,\n",
        "    epochs=20,\n",
        "    verbose=0,\n",
        "    validation_data=(X_test, Y_test),\n",
        "    callbacks=[]\n",
        ")\n",
        "```\n",
        "\n",
        "- `batch_size`: バッチサイズ\n",
        "    \n",
        "- `epochs`: エポック数\n",
        "    \n",
        "- `verbose`: ログの出力\n",
        "\n",
        "    - 0: しない、1： バーで出力、2: エポックごとに出力\n",
        "\n",
        "- `validation_split`/`validation_data`: （いずれかのみ指定可能）\n",
        "\n",
        "    - 検証用に用いるデータの割合（0～１の実数）、または検証用データそのもの\n",
        "\n",
        "- `shuffle`： シャッフルする/しない\n",
        "\n",
        "- `callbacks`： callback関数"
      ],
      "metadata": {
        "id": "Tj2g6KvI4k4g"
      }
    },
    {
      "cell_type": "markdown",
      "source": [
        "#### __モデルの可視化__\n",
        "\n",
        "```python\n",
        "from tensorflow.keras.utils import plot_model\n",
        "plot_model(\n",
        "    model,\n",
        "    show_shapes=True,\n",
        "    to_file='model.png',\n",
        ")\n",
        "```"
      ],
      "metadata": {
        "id": "JPR7oxCMuFTj"
      }
    },
    {
      "cell_type": "code",
      "source": [],
      "metadata": {
        "id": "GhVw-Z-zBLaP"
      },
      "execution_count": null,
      "outputs": []
    }
  ]
}