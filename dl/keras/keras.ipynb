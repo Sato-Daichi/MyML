{
  "cells": [
    {
      "cell_type": "markdown",
      "metadata": {
        "id": "6BBBJVjEz-PN"
      },
      "source": [
        "## __Kerasのクラス・関数まとめ__"
      ]
    },
    {
      "cell_type": "markdown",
      "metadata": {
        "id": "afa5mjwE0E8V"
      },
      "source": [
        "### __dataset__"
      ]
    },
    {
      "cell_type": "markdown",
      "metadata": {
        "id": "Zf-W9TbiqKFJ"
      },
      "source": [
        "`tensorflow.keras.datasets`モジュール https://www.tensorflow.org/api_docs/python/tf/keras/datasets\n",
        "\n",
        "- `boston_housing`: ボストンの住宅価格 (回帰)\n",
        "\n",
        "- `cifar10`: CIFAR10 (画像分類)\n",
        "\n",
        "- `cifar100`: CIFAR100 (画像分類)\n",
        "\n",
        "- `fashion_mnist`: Fashion-MNIST (画像分類)\n",
        "\n",
        "- `imdb`: IMDB感情分類 (文章分類)\n",
        "\n",
        "- `mnist`: MNIST 手書き文字 (画像分類)\n",
        "\n",
        "- `reuters`: ロイター通信の文章トピック分類 (文章分類)"
      ]
    },
    {
      "cell_type": "code",
      "execution_count": 5,
      "metadata": {
        "colab": {
          "base_uri": "https://localhost:8080/"
        },
        "id": "thopFmnQzejH",
        "outputId": "f28db3ad-f500-48ec-f22e-24cdda3383cb"
      },
      "outputs": [
        {
          "name": "stdout",
          "output_type": "stream",
          "text": [
            "Downloading data from https://storage.googleapis.com/tensorflow/tf-keras-datasets/reuters.npz\n",
            "2110848/2110848 [==============================] - 0s 0us/step\n"
          ]
        }
      ],
      "source": [
        "from tensorflow.keras.datasets import mnist\n",
        "\n",
        "(x_train, y_train), (x_test, y_test) = mnist.load_data()"
      ]
    },
    {
      "cell_type": "markdown",
      "metadata": {
        "id": "2bxm5m781fSV"
      },
      "source": [
        "### __layers__"
      ]
    },
    {
      "cell_type": "markdown",
      "metadata": {
        "id": "iNj4maf_37jx"
      },
      "source": [
        "`tensorflow.keras.layers`モジュール\n",
        "\n",
        "- `Dense`: 全結合層\n",
        "\n",
        "    - `units`: 出力ベクトルの次元数\n",
        "\n",
        "- `Activation`: 活性化関数\n",
        "\n",
        "    - 活性化関数名を指定〜`\"relu\"`、`\"softmax\"`、`\"sigmoid\"`、`\"tanh\"`、...\n",
        "\n",
        "    - 他のlayerの`activation`引数でも指定可能\n",
        "\n",
        "- `Flatten`: 1次元化\n",
        "\n",
        "- `Reshape`: 変形\n",
        "\n",
        "    - `target_shape`: サイズをリストで指定\n",
        "\n",
        "- `Add`: 足し算\n",
        "\n",
        "    - 足し算したい値をリストで指定\n",
        "\n",
        "- `BatchNormalization`: バッチ正則化\n",
        "\n",
        "- `Dropout`: ドロップアウト\n",
        "\n",
        "    - `rate`: ドロップアウトの割合 (0〜1)\n",
        "\n",
        "    - `seed`: シード値\n",
        "\n",
        "- `Conv2D`: CNN\n",
        "\n",
        "    - `filters`: 出力チャンネル数\n",
        "\n",
        "    - `kernel_size`: カーネルサイズ\n",
        "\n",
        "    - `strides`: ストライド\n",
        "\n",
        "    - `padding=\"valid\"`: パディング\n",
        "\n",
        "        - `\"valid\"`: パディングなし\n",
        "\n",
        "        - `\"same\"`: パディングあり\n",
        "\n",
        "- `MaxPooling2D`: マックスプーリング\n",
        "\n",
        "    - `pool_size`: プールサイズ\n",
        "\n",
        "    - `strides`: ストライド\n",
        "\n",
        "    - `padding`: パディング\n",
        "\n",
        "- `SimpleRNN`: RNN\n",
        "\n",
        "    - `units`: 出力ベクトルの次元数\n",
        "\n",
        "    - `return_sequences`: `False`なら系列の最後の出力を返す。`True`なら全系列を返す\n",
        "\n",
        "    - `return_state`: Trueのときは出力とともに最後の状態を返す\n",
        "\n",
        "- `LSTM`: LSTM\n",
        "\n",
        "    - 引数は`SimpleRNN`と基本的に同じ\n",
        "\n",
        "- `GRU`: GRU\n",
        "\n",
        "    - 引数は`SimpleRNN`と基本的に同じ"
      ]
    },
    {
      "cell_type": "markdown",
      "metadata": {
        "id": "gwAV6uxN6Se-"
      },
      "source": [
        "__よく使われるオプション引数__\n",
        "\n",
        "- `activation`: 活性化関数\n",
        "\n",
        "- `use-bias`: バイアス項あり/なし\n",
        "\n",
        "- `kernel_regularizer`: 正則化項\n",
        "\n",
        "    - `tensorflow.keras.regularizers.l1(l1)`: L1正則化\n",
        "\n",
        "    - `tensorflow.keras.regularizers.l2(l2)`: L2正則化\n",
        "\n",
        "    - `tensorflow.keras.regularizers.l1_l2(l1, l2)`: ElasticNet\n",
        "\n",
        "- `kernel_initializer`: 初期値\n",
        "\n",
        "    - `\"glorot_uniform\"`, `\"glorot_normal\"`: Glorot(Xavier)の初期値 (一様分布・正規分布)\n",
        "        - sigmoid関数やtanh関数で使用\n",
        "\n",
        "    - `\"he_uniform\"`, `\"he_normal\"`: Heの初期値 (一様分布・正規分布)\n",
        "        - ReLU関数で使用\n"
      ]
    },
    {
      "cell_type": "markdown",
      "metadata": {
        "id": "iMxCrDDu5dyn"
      },
      "source": [
        "### __最適化関数__"
      ]
    },
    {
      "cell_type": "markdown",
      "metadata": {
        "id": "RMXitP715gWr"
      },
      "source": [
        "- `SGD`: SGDとMomentum\n",
        "\n",
        "    - 確率的勾配降下法\n",
        "\n",
        "    - `lr=0.001`: 学習率\n",
        "\n",
        "    - `momentum=0.0`: 前ステップの使用割合。Momentumで使用(0.9が一般的)\n",
        "\n",
        "- `Adagrad`: Agagrad\n",
        "\n",
        "    - 学習率を過去の勾配の全蓄積で割ることで、以前勾配が大きかった方向の学習率を下げ、小さかった方向の学習率を大きめに取る\n",
        "\n",
        "    - 一度大きな勾配を取ると、それ以降の学習率が非常に小さくなり、学習が止まってしまうという問題がある\n",
        "\n",
        "    - `lr=0.001`: 学習率\n",
        "\n",
        "- `RMSprop`: RMSprop (Root Mean Square)\n",
        "\n",
        "    - 過去の勾配の2乗の指数移動平均で学習率を割る (Adagradの改善)\n",
        "\n",
        "    - `lr=0.001`: 学習率\n",
        "\n",
        "    - `rho=0.9`: 指数移動平均の減衰率\n",
        "\n",
        "- `Adadelta`: Adadelta\n",
        "\n",
        "    - 勾配の2乗の指数移動平均と更新量の2乗の指数移動平均の比とする (Adagradの改善)\n",
        "\n",
        "    - `lr=0.001`: 学習率 (`rho`の値から自動的に決定されるため設定は不要)\n",
        "\n",
        "    - `rho=0.95`: 指数移動平均の減衰率。0.95が推奨値\n",
        "\n",
        "- `Adam`: Adam\n",
        "\n",
        "    - 勾配自体を指数移動平均による推定値に置き換える (Adagradの改善)\n",
        "\n",
        "    - `lr=0.001`: 学習率\n",
        "\n",
        "    - `beta_1=0.9`, `beta_2=0.999`: 過去の勾配・勾配の2乗の採用割合。基本的にデフォルト値でOK"
      ]
    },
    {
      "cell_type": "markdown",
      "metadata": {
        "id": "-CUrPCjyqPLE"
      },
      "source": [
        "### __コールバック関数__"
      ]
    },
    {
      "cell_type": "markdown",
      "metadata": {
        "id": "LDt8d0aeqSEn"
      },
      "source": [
        "`tensorflow.keras.callbacks`モジュール\n",
        "\n",
        "- `EarlyStopping`: アーリーストッピング\n",
        "\n",
        "    - `monitor=\"val_loss\"`: 監視対象のスコア\n",
        "\n",
        "    - `patience=0`: スコアの悪化を何回まで許容するか\n",
        "\n",
        "- `TensorBoard`: TensorBoard\n",
        "\n",
        "    - `log_dir`: logファイルを書き出すディレクトリの指定"
      ]
    },
    {
      "cell_type": "markdown",
      "metadata": {
        "id": "6IpGTi29z5HX"
      },
      "source": [
        "### __コンパイル__"
      ]
    },
    {
      "cell_type": "markdown",
      "metadata": {
        "id": "haUXQr0Dz8Yc"
      },
      "source": [
        "```python\n",
        "model.compile(\n",
        "    optimizer='rmsprop',\n",
        "    loss='sparse_categorical_crossentropy'\n",
        "    metrics=[\"accuracy\"]\n",
        ")\n",
        "```\n",
        "\n",
        " いずれも文字列かインスタンスで指定\n",
        "\n",
        "- `optimizer`: 最適化関数\n",
        "\n",
        "- `loss`: 損失関数\n",
        "\n",
        "- `metrics`: 評価関数\n",
        "\n",
        "    "
      ]
    },
    {
      "cell_type": "markdown",
      "metadata": {
        "id": "1hb_lhEM1eak"
      },
      "source": [
        "### __学習__"
      ]
    },
    {
      "cell_type": "markdown",
      "metadata": {
        "id": "Tj2g6KvI4k4g"
      },
      "source": [
        "```python\n",
        "model.fit(\n",
        "    X_train,\n",
        "    Y_train,\n",
        "    batch_size=128,\n",
        "    epochs=20,\n",
        "    verbose=0,\n",
        "    validation_data=(X_test, Y_test),\n",
        "    callbacks=[]\n",
        ")\n",
        "```\n",
        "\n",
        "- `batch_size`: バッチサイズ\n",
        "    \n",
        "- `epochs`: エポック数\n",
        "    \n",
        "- `verbose`: ログの出力\n",
        "\n",
        "    - 0: しない、1： バーで出力、2: エポックごとに出力\n",
        "\n",
        "- `validation_split`/`validation_data`: （いずれかのみ指定可能）\n",
        "\n",
        "    - 検証用に用いるデータの割合（0～１の実数）、または検証用データそのもの\n",
        "\n",
        "- `shuffle`： シャッフルする/しない\n",
        "\n",
        "- `callbacks`： callback関数"
      ]
    },
    {
      "cell_type": "markdown",
      "metadata": {
        "id": "JPR7oxCMuFTj"
      },
      "source": [
        "### __モデルの可視化__\n",
        "\n",
        "```python\n",
        "from tensorflow.keras.utils import plot_model\n",
        "plot_model(\n",
        "    model,\n",
        "    show_shapes=True,\n",
        "    to_file='model.png',\n",
        ")\n",
        "```"
      ]
    },
    {
      "cell_type": "code",
      "execution_count": null,
      "metadata": {
        "id": "GhVw-Z-zBLaP"
      },
      "outputs": [],
      "source": []
    }
  ],
  "metadata": {
    "colab": {
      "collapsed_sections": [
        "-CUrPCjyqPLE"
      ],
      "provenance": []
    },
    "kernelspec": {
      "display_name": "Python 3",
      "name": "python3"
    },
    "language_info": {
      "name": "python"
    }
  },
  "nbformat": 4,
  "nbformat_minor": 0
}
