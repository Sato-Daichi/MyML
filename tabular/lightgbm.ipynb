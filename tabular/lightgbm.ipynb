{
  "cells": [
    {
      "cell_type": "markdown",
      "metadata": {
        "id": "8mSecIiMSeaq"
      },
      "source": [
        "### __LightGBMの使い方__\n",
        "\n",
        "- `'metric'`: 評価指標 [一覧](https://lightgbm.readthedocs.io/en/latest/Parameters.html#metric-parameters)"
      ]
    },
    {
      "cell_type": "markdown",
      "metadata": {
        "id": "M5XkeSFxSiUu"
      },
      "source": [
        "#### __準備__"
      ]
    },
    {
      "cell_type": "code",
      "execution_count": 1,
      "metadata": {
        "id": "4jSsXB2bM0yC"
      },
      "outputs": [],
      "source": [
        "import numpy as np\n",
        "import pandas as pd\n",
        "import matplotlib.pyplot as plt\n",
        "from sklearn.model_selection import KFold, StratifiedKFold, train_test_split\n",
        "from sklearn.datasets import load_breast_cancer, load_iris\n",
        "import lightgbm as lgb"
      ]
    },
    {
      "cell_type": "code",
      "execution_count": 2,
      "metadata": {
        "id": "N6qJkuVYM0yL"
      },
      "outputs": [],
      "source": [
        "# LightGBMでCross Valdiationを行う\n",
        "\n",
        "def lightgbm_cv(\n",
        "    X: pd.DataFrame, # 学習データ\n",
        "    y: pd.Series, # 学習データ\n",
        "    X_test: pd.DataFrame, # テストデータ\n",
        "    metric_name: str, # 評価指標\n",
        "    params: dict, # LightGBMのパラメータ\n",
        "    folds: int = 5, # fold数\n",
        "    seed: int = 42, # シード値\n",
        "    num_boost_round: int = 1000, # イテレーション関数\n",
        "    stopping_rounds: int = 10, # アーリーストッピングの限界値\n",
        "    stratified: bool = False, # StratifiedKFoldの有無\n",
        "):\n",
        "    if stratified:\n",
        "        kf = StratifiedKFold(n_splits=folds, shuffle=True, random_state=seed)\n",
        "    else:\n",
        "        kf = KFold(n_splits=folds, shuffle=True, random_state=seed)\n",
        "\n",
        "    y_preds = []\n",
        "    valid_scores, results, models = [], [], []\n",
        "\n",
        "    for fold, (train_indices, valid_indices) in enumerate(kf.split(X, y)):\n",
        "        X_train, X_valid = X.iloc[train_indices], X.iloc[valid_indices]\n",
        "        y_train, y_valid = y.iloc[train_indices], y.iloc[valid_indices]\n",
        "\n",
        "        lgb_train = lgb.Dataset(X_train, y_train)\n",
        "        lgb_valid = lgb.Dataset(X_valid, y_valid, reference=lgb_train)\n",
        "\n",
        "        result = {}\n",
        "        model = lgb.train(\n",
        "            params=params,\n",
        "            train_set=lgb_train, # 学習データ\n",
        "            valid_sets=[lgb_train, lgb_valid], # 検証データ\n",
        "            valid_names=['train', 'valid'], # 学習経過で表示する名称\n",
        "            num_boost_round=num_boost_round, # イテレーションの回数\n",
        "            verbose_eval=False, # 出力を抑える\n",
        "            callbacks=[\n",
        "                lgb.early_stopping(stopping_rounds=stopping_rounds, verbose=False), # アーリーストッピング\n",
        "                lgb.callback.record_evaluation(result) # ログの記録\n",
        "            ],\n",
        "        )\n",
        "        results.append(result)\n",
        "        models.append(model)        \n",
        "\n",
        "        score = result[\"valid\"][metric_name][-1]\n",
        "        valid_scores.append(score)\n",
        "        print(f'Fold: {fold+1}  {metric_name.upper()}: {score}')\n",
        "\n",
        "        # 推論\n",
        "        y_preds.append(model.predict(X_test).tolist())\n",
        "\n",
        "    cv_score = np.mean(valid_scores)\n",
        "    print(f'CV: {np.mean(cv_score)}')\n",
        "\n",
        "    y_pred = np.mean(y_preds, axis=0)\n",
        "    return y_pred, results, models"
      ]
    },
    {
      "cell_type": "markdown",
      "metadata": {
        "id": "XL3ZUomDDMF1"
      },
      "source": [
        "#### __回帰__\n",
        "\n",
        "変更点\n",
        "\n",
        "- `METRIC_NAME = 'rmse'`\n",
        "\n",
        "- `'objective': 'regression'`"
      ]
    },
    {
      "cell_type": "code",
      "execution_count": 3,
      "metadata": {
        "colab": {
          "base_uri": "https://localhost:8080/"
        },
        "id": "2vrby3VeYBn7",
        "outputId": "e42e2c4e-717f-41e9-fb97-99385d4aca91"
      },
      "outputs": [
        {
          "name": "stdout",
          "output_type": "stream",
          "text": [
            "Fold: 1  RMSE: 45819.07987045218\n",
            "Fold: 2  RMSE: 45191.96855901596\n",
            "Fold: 3  RMSE: 44976.875599406434\n",
            "Fold: 4  RMSE: 44207.50959121845\n",
            "Fold: 5  RMSE: 46506.702687754674\n",
            "CV: 45340.427261569544\n"
          ]
        }
      ],
      "source": [
        "# 評価指標\n",
        "METRIC_NAME = 'rmse'\n",
        "\n",
        "# パラメータ\n",
        "FOLDS = 5\n",
        "SEED = 42\n",
        "params = {\n",
        "    'objective': 'regression', # 回帰\n",
        "    'metric': METRIC_NAME, # 評価指標\n",
        "    'seed': 42,\n",
        "    'num_leaves': 63,\n",
        "    'learning_rate': 0.01,  # 学習率\n",
        "    'feature_fraction': 0.8,\n",
        "    'bagging_freq': 1,\n",
        "    'bagging_fraction': 0.8,\n",
        "}\n",
        "\n",
        "# データ\n",
        "train = pd.read_csv('sample_data/california_housing_train.csv')\n",
        "X_test = pd.read_csv('sample_data/california_housing_test.csv')\n",
        "X = train.drop(columns='median_house_value')\n",
        "y = train['median_house_value']\n",
        "\n",
        "y_pred, results, models = lightgbm_cv(X, y, X_test, metric_name=METRIC_NAME, params=params, folds=FOLDS, seed=SEED)"
      ]
    },
    {
      "cell_type": "code",
      "execution_count": 4,
      "metadata": {
        "colab": {
          "base_uri": "https://localhost:8080/",
          "height": 1000
        },
        "id": "4zo-cJKVdtsk",
        "outputId": "2bad88ca-4d96-45e4-b1ca-5663be4595e1"
      },
      "outputs": [
        {
          "data": {
            "image/png": "[encoded data removed]",
            "text/plain": [
              "<Figure size 360x1440 with 5 Axes>"
            ]
          },
          "metadata": {
            "needs_background": "light"
          },
          "output_type": "display_data"
        }
      ],
      "source": [
        "# fold毎に学習曲線を表示\n",
        "plt.figure(figsize=(5, FOLDS*4))\n",
        "for fold in range(FOLDS):\n",
        "    plt.subplot(FOLDS, 1, fold+1)\n",
        "    plt.plot(results[fold]['train'][METRIC_NAME], label=f\"Train {METRIC_NAME.upper()}\")\n",
        "    plt.plot(results[fold]['valid'][METRIC_NAME], label=f\"Vaild {METRIC_NAME.upper()}\")\n",
        "    plt.title(f'Fold: {fold+1}')\n",
        "    plt.legend()\n",
        "plt.show()"
      ]
    },
    {
      "cell_type": "code",
      "execution_count": 5,
      "metadata": {
        "colab": {
          "base_uri": "https://localhost:8080/",
          "height": 300
        },
        "id": "W8gF_eS1M0yM",
        "outputId": "c1415f46-e097-4769-a172-5f0abe6350d1"
      },
      "outputs": [
        {
          "data": {
            "text/html": [
              "\n",
              "  <div id=\"df-10635652-dd0a-4dc5-9b8b-cbf02773d42b\">\n",
              "    <div class=\"colab-df-container\">\n",
              "      <div>\n",
              "<style scoped>\n",
              "    .dataframe tbody tr th:only-of-type {\n",
              "        vertical-align: middle;\n",
              "    }\n",
              "\n",
              "    .dataframe tbody tr th {\n",
              "        vertical-align: top;\n",
              "    }\n",
              "\n",
              "    .dataframe thead th {\n",
              "        text-align: right;\n",
              "    }\n",
              "</style>\n",
              "<table border=\"1\" class=\"dataframe\">\n",
              "  <thead>\n",
              "    <tr style=\"text-align: right;\">\n",
              "      <th></th>\n",
              "      <th>importance</th>\n",
              "    </tr>\n",
              "  </thead>\n",
              "  <tbody>\n",
              "    <tr>\n",
              "      <th>median_income</th>\n",
              "      <td>3.264151e+15</td>\n",
              "    </tr>\n",
              "    <tr>\n",
              "      <th>longitude</th>\n",
              "      <td>1.315784e+15</td>\n",
              "    </tr>\n",
              "    <tr>\n",
              "      <th>latitude</th>\n",
              "      <td>1.238697e+15</td>\n",
              "    </tr>\n",
              "    <tr>\n",
              "      <th>housing_median_age</th>\n",
              "      <td>3.398282e+14</td>\n",
              "    </tr>\n",
              "    <tr>\n",
              "      <th>population</th>\n",
              "      <td>3.029256e+14</td>\n",
              "    </tr>\n",
              "    <tr>\n",
              "      <th>total_rooms</th>\n",
              "      <td>1.720914e+14</td>\n",
              "    </tr>\n",
              "    <tr>\n",
              "      <th>total_bedrooms</th>\n",
              "      <td>1.615871e+14</td>\n",
              "    </tr>\n",
              "    <tr>\n",
              "      <th>households</th>\n",
              "      <td>1.477423e+14</td>\n",
              "    </tr>\n",
              "  </tbody>\n",
              "</table>\n",
              "</div>\n",
              "      <button class=\"colab-df-convert\" onclick=\"convertToInteractive('df-10635652-dd0a-4dc5-9b8b-cbf02773d42b')\"\n",
              "              title=\"Convert this dataframe to an interactive table.\"\n",
              "              style=\"display:none;\">\n",
              "        \n",
              "  <svg xmlns=\"http://www.w3.org/2000/svg\" height=\"24px\"viewBox=\"0 0 24 24\"\n",
              "       width=\"24px\">\n",
              "    <path d=\"M0 0h24v24H0V0z\" fill=\"none\"/>\n",
              "    <path d=\"M18.56 5.44l.94 2.06.94-2.06 2.06-.94-2.06-.94-.94-2.06-.94 2.06-2.06.94zm-11 1L8.5 8.5l.94-2.06 2.06-.94-2.06-.94L8.5 2.5l-.94 2.06-2.06.94zm10 10l.94 2.06.94-2.06 2.06-.94-2.06-.94-.94-2.06-.94 2.06-2.06.94z\"/><path d=\"M17.41 7.96l-1.37-1.37c-.4-.4-.92-.59-1.43-.59-.52 0-1.04.2-1.43.59L10.3 9.45l-7.72 7.72c-.78.78-.78 2.05 0 2.83L4 21.41c.39.39.9.59 1.41.59.51 0 1.02-.2 1.41-.59l7.78-7.78 2.81-2.81c.8-.78.8-2.07 0-2.86zM5.41 20L4 18.59l7.72-7.72 1.47 1.35L5.41 20z\"/>\n",
              "  </svg>\n",
              "      </button>\n",
              "      \n",
              "  <style>\n",
              "    .colab-df-container {\n",
              "      display:flex;\n",
              "      flex-wrap:wrap;\n",
              "      gap: 12px;\n",
              "    }\n",
              "\n",
              "    .colab-df-convert {\n",
              "      background-color: #E8F0FE;\n",
              "      border: none;\n",
              "      border-radius: 50%;\n",
              "      cursor: pointer;\n",
              "      display: none;\n",
              "      fill: #1967D2;\n",
              "      height: 32px;\n",
              "      padding: 0 0 0 0;\n",
              "      width: 32px;\n",
              "    }\n",
              "\n",
              "    .colab-df-convert:hover {\n",
              "      background-color: #E2EBFA;\n",
              "      box-shadow: 0px 1px 2px rgba(60, 64, 67, 0.3), 0px 1px 3px 1px rgba(60, 64, 67, 0.15);\n",
              "      fill: #174EA6;\n",
              "    }\n",
              "\n",
              "    [theme=dark] .colab-df-convert {\n",
              "      background-color: #3B4455;\n",
              "      fill: #D2E3FC;\n",
              "    }\n",
              "\n",
              "    [theme=dark] .colab-df-convert:hover {\n",
              "      background-color: #434B5C;\n",
              "      box-shadow: 0px 1px 3px 1px rgba(0, 0, 0, 0.15);\n",
              "      filter: drop-shadow(0px 1px 2px rgba(0, 0, 0, 0.3));\n",
              "      fill: #FFFFFF;\n",
              "    }\n",
              "  </style>\n",
              "\n",
              "      <script>\n",
              "        const buttonEl =\n",
              "          document.querySelector('#df-10635652-dd0a-4dc5-9b8b-cbf02773d42b button.colab-df-convert');\n",
              "        buttonEl.style.display =\n",
              "          google.colab.kernel.accessAllowed ? 'block' : 'none';\n",
              "\n",
              "        async function convertToInteractive(key) {\n",
              "          const element = document.querySelector('#df-10635652-dd0a-4dc5-9b8b-cbf02773d42b');\n",
              "          const dataTable =\n",
              "            await google.colab.kernel.invokeFunction('convertToInteractive',\n",
              "                                                     [key], {});\n",
              "          if (!dataTable) return;\n",
              "\n",
              "          const docLinkHtml = 'Like what you see? Visit the ' +\n",
              "            '<a target=\"_blank\" href=https://colab.research.google.com/notebooks/data_table.ipynb>data table notebook</a>'\n",
              "            + ' to learn more about interactive tables.';\n",
              "          element.innerHTML = '';\n",
              "          dataTable['output_type'] = 'display_data';\n",
              "          await google.colab.output.renderOutput(dataTable, element);\n",
              "          const docLink = document.createElement('div');\n",
              "          docLink.innerHTML = docLinkHtml;\n",
              "          element.appendChild(docLink);\n",
              "        }\n",
              "      </script>\n",
              "    </div>\n",
              "  </div>\n",
              "  "
            ],
            "text/plain": [
              "                      importance\n",
              "median_income       3.264151e+15\n",
              "longitude           1.315784e+15\n",
              "latitude            1.238697e+15\n",
              "housing_median_age  3.398282e+14\n",
              "population          3.029256e+14\n",
              "total_rooms         1.720914e+14\n",
              "total_bedrooms      1.615871e+14\n",
              "households          1.477423e+14"
            ]
          },
          "execution_count": 5,
          "metadata": {},
          "output_type": "execute_result"
        }
      ],
      "source": [
        "# 特徴量の重要度\n",
        "importance = pd.DataFrame(np.mean([models[i].feature_importance(importance_type='gain') for i in range(FOLDS)], axis=0))\n",
        "importance.index = X.columns\n",
        "importance.columns = ['importance']\n",
        "importance = importance.sort_values('importance', ascending=False)\n",
        "importance"
      ]
    },
    {
      "cell_type": "code",
      "execution_count": 6,
      "metadata": {
        "colab": {
          "base_uri": "https://localhost:8080/",
          "height": 278
        },
        "id": "K5cXB81xM0yN",
        "outputId": "22fb651c-491f-401f-f87e-f901485ec659"
      },
      "outputs": [
        {
          "data": {
            "image/png": "[encoded data removed]",
            "text/plain": [
              "<Figure size 432x288 with 1 Axes>"
            ]
          },
          "metadata": {
            "needs_background": "light"
          },
          "output_type": "display_data"
        }
      ],
      "source": [
        "# 特徴量の重要度を可視化\n",
        "plt.barh(importance.index[::-1], importance.importance[::-1])\n",
        "plt.show()"
      ]
    },
    {
      "cell_type": "markdown",
      "metadata": {
        "id": "xqGlWm0LS3JI"
      },
      "source": [
        "#### __2値分類__\n",
        "\n",
        "変更点\n",
        "\n",
        "- `METRIC_NAME = 'auc'`\n",
        "\n",
        "- `'objective': 'binary'`"
      ]
    },
    {
      "cell_type": "code",
      "execution_count": 7,
      "metadata": {
        "colab": {
          "base_uri": "https://localhost:8080/"
        },
        "id": "2GCnIC70S3JR",
        "outputId": "e5cbcd0e-c689-4f5f-c759-c2fdf61b8ed6"
      },
      "outputs": [
        {
          "name": "stdout",
          "output_type": "stream",
          "text": [
            "Fold: 1  AUC: 0.9801020408163266\n",
            "Fold: 2  AUC: 0.9923469387755102\n",
            "Fold: 3  AUC: 0.9887755102040816\n",
            "Fold: 4  AUC: 0.9551020408163265\n",
            "Fold: 5  AUC: 0.9535714285714286\n",
            "CV: 0.9739795918367345\n"
          ]
        }
      ],
      "source": [
        "# 評価指標\n",
        "METRIC_NAME = 'auc'\n",
        "\n",
        "# パラメータ\n",
        "FOLDS = 5\n",
        "SEED = 42\n",
        "params = {\n",
        "    'objective': 'binary', # 2値分類\n",
        "    'metric': METRIC_NAME, # 評価指標\n",
        "    'seed': 42,\n",
        "    'num_leaves': 63,\n",
        "    'learning_rate': 0.01,  # 学習率\n",
        "    'feature_fraction': 0.8,\n",
        "    'bagging_freq': 1,\n",
        "    'bagging_fraction': 0.8,\n",
        "}\n",
        "\n",
        "# データ\n",
        "dataset = load_breast_cancer()\n",
        "X, X_test, y, y_test = train_test_split(pd.DataFrame(dataset['data']), pd.Series(dataset['target']), train_size=0.8)\n",
        "\n",
        "y_pred, results, models = lightgbm_cv(X, y, X_test, metric_name=METRIC_NAME, params=params, folds=FOLDS, seed=SEED, stratified=True)"
      ]
    },
    {
      "cell_type": "markdown",
      "metadata": {
        "id": "Cql7ig1qVu4q"
      },
      "source": [
        "#### __多クラス分類__\n",
        "\n",
        "変更点\n",
        "\n",
        "- `METRIC_NAME = 'multi_logloss'`\n",
        "\n",
        "- `'objective': 'multiclass'`\n",
        "\n",
        "- `'num_class': クラス数`"
      ]
    },
    {
      "cell_type": "code",
      "execution_count": 8,
      "metadata": {
        "colab": {
          "base_uri": "https://localhost:8080/"
        },
        "id": "Zv9r-4qhVu4q",
        "outputId": "77ef65aa-4293-45a2-be7a-c96fd38bc1c8"
      },
      "outputs": [
        {
          "name": "stdout",
          "output_type": "stream",
          "text": [
            "Fold: 1  MULTI_LOGLOSS: 0.14086765812274124\n",
            "Fold: 2  MULTI_LOGLOSS: 0.20022091546385345\n",
            "Fold: 3  MULTI_LOGLOSS: 0.02534238417680404\n",
            "Fold: 4  MULTI_LOGLOSS: 0.14855622171687496\n",
            "Fold: 5  MULTI_LOGLOSS: 0.11484364952184274\n",
            "CV: 0.1259661658004233\n"
          ]
        }
      ],
      "source": [
        "# 評価指標\n",
        "METRIC_NAME = 'multi_logloss'\n",
        "\n",
        "# パラメータ\n",
        "FOLDS = 5\n",
        "SEED = 42\n",
        "params = {\n",
        "    'objective': 'multiclass', # 多クラス分類\n",
        "    'metric': METRIC_NAME, # 評価指標\n",
        "    'seed': 42,\n",
        "    'num_leaves': 63,\n",
        "    'learning_rate': 0.01,  # 学習率\n",
        "    'feature_fraction': 0.8,\n",
        "    'bagging_freq': 1,\n",
        "    'bagging_fraction': 0.8,\n",
        "    'num_class': len(load_iris()['target_names']), # クラス数を指定\n",
        "}\n",
        "\n",
        "# データ\n",
        "dataset = load_iris()\n",
        "X, X_test, y, y_test = train_test_split(pd.DataFrame(dataset['data']), pd.Series(dataset['target']), train_size=0.8)\n",
        "\n",
        "y_pred, results, models = lightgbm_cv(X, y, X_test, metric_name=METRIC_NAME, params=params, folds=FOLDS, seed=SEED, stratified=True)"
      ]
    },
    {
      "cell_type": "code",
      "execution_count": 8,
      "metadata": {
        "id": "BatMjehMnpXE"
      },
      "outputs": [],
      "source": []
    }
  ],
  "metadata": {
    "colab": {
      "provenance": []
    },
    "kernelspec": {
      "display_name": "Python 3.8.5 ('.venv_comp2': venv)",
      "language": "python",
      "name": "python3"
    },
    "language_info": {
      "codemirror_mode": {
        "name": "ipython",
        "version": 3
      },
      "file_extension": ".py",
      "mimetype": "text/x-python",
      "name": "python",
      "nbconvert_exporter": "python",
      "pygments_lexer": "ipython3",
      "version": "3.8.5"
    },
    "orig_nbformat": 4,
    "vscode": {
      "interpreter": {
        "hash": "cd6638a43abbcfd5164b575c7eae2406c5f3baff1c3edb13806cb0c1c506ab67"
      }
    }
  },
  "nbformat": 4,
  "nbformat_minor": 0
}
