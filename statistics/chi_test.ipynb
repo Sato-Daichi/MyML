{
  "nbformat": 4,
  "nbformat_minor": 0,
  "metadata": {
    "colab": {
      "provenance": []
    },
    "kernelspec": {
      "name": "ir",
      "display_name": "R"
    },
    "language_info": {
      "name": "R"
    }
  },
  "cells": [
    {
      "cell_type": "markdown",
      "source": [
        "## __2×2分割表の検定__\n",
        "\n",
        "このNotebookはRで書かれている."
      ],
      "metadata": {
        "id": "NRCZUhckmk7y"
      }
    },
    {
      "cell_type": "code",
      "source": [
        "# 分割表\n",
        "table = matrix(c(30, 60, 70, 40), nrow=2)\n",
        "table"
      ],
      "metadata": {
        "id": "GUyE62hTeGty",
        "colab": {
          "base_uri": "https://localhost:8080/",
          "height": 132
        },
        "outputId": "26025077-4699-45b6-df4f-591620e32391"
      },
      "execution_count": 1,
      "outputs": [
        {
          "output_type": "display_data",
          "data": {
            "text/html": [
              "<table class=\"dataframe\">\n",
              "<caption>A matrix: 2 × 2 of type dbl</caption>\n",
              "<tbody>\n",
              "\t<tr><td>30</td><td>70</td></tr>\n",
              "\t<tr><td>60</td><td>40</td></tr>\n",
              "</tbody>\n",
              "</table>\n"
            ],
            "text/markdown": "\nA matrix: 2 × 2 of type dbl\n\n| 30 | 70 |\n| 60 | 40 |\n\n",
            "text/latex": "A matrix: 2 × 2 of type dbl\n\\begin{tabular}{ll}\n\t 30 & 70\\\\\n\t 60 & 40\\\\\n\\end{tabular}\n",
            "text/plain": [
              "     [,1] [,2]\n",
              "[1,] 30   70  \n",
              "[2,] 60   40  "
            ]
          },
          "metadata": {}
        }
      ]
    },
    {
      "cell_type": "code",
      "source": [
        "# χ^2検定\n",
        "result = chisq.test(table)\n",
        "result"
      ],
      "metadata": {
        "colab": {
          "base_uri": "https://localhost:8080/",
          "height": 107
        },
        "id": "BPQibmX7eB0S",
        "outputId": "837565ef-e85d-4536-f4eb-70f001e418c6"
      },
      "execution_count": 2,
      "outputs": [
        {
          "output_type": "display_data",
          "data": {
            "text/plain": [
              "\n",
              "\tPearson's Chi-squared test with Yates' continuity correction\n",
              "\n",
              "data:  table\n",
              "X-squared = 16.99, df = 1, p-value = 3.758e-05\n"
            ]
          },
          "metadata": {}
        }
      ]
    },
    {
      "cell_type": "code",
      "source": [
        "# ファイ係数\n",
        "sqrt(as.numeric(result$statistic) / sum(table))"
      ],
      "metadata": {
        "colab": {
          "base_uri": "https://localhost:8080/",
          "height": 34
        },
        "id": "sCP6mgWpe9Pl",
        "outputId": "5b4e71fc-74d6-4912-8629-8cef318681dd"
      },
      "execution_count": 3,
      "outputs": [
        {
          "output_type": "display_data",
          "data": {
            "text/html": [
              "0.291460966425171"
            ],
            "text/markdown": "0.291460966425171",
            "text/latex": "0.291460966425171",
            "text/plain": [
              "[1] 0.291461"
            ]
          },
          "metadata": {}
        }
      ]
    },
    {
      "cell_type": "code",
      "source": [
        "# フィッシャーの正確確率検定\n",
        "fisher.test(table)"
      ],
      "metadata": {
        "colab": {
          "base_uri": "https://localhost:8080/",
          "height": 215
        },
        "id": "T2EdGi21tYeB",
        "outputId": "6c0cac65-0b0a-46a4-c988-43e1f032770d"
      },
      "execution_count": 4,
      "outputs": [
        {
          "output_type": "display_data",
          "data": {
            "text/plain": [
              "\n",
              "\tFisher's Exact Test for Count Data\n",
              "\n",
              "data:  table\n",
              "p-value = 3.305e-05\n",
              "alternative hypothesis: true odds ratio is not equal to 1\n",
              "95 percent confidence interval:\n",
              " 0.1522789 0.5339334\n",
              "sample estimates:\n",
              "odds ratio \n",
              " 0.2876339 \n"
            ]
          },
          "metadata": {}
        }
      ]
    },
    {
      "cell_type": "code",
      "source": [],
      "metadata": {
        "id": "0JWwbyf0RG9F"
      },
      "execution_count": null,
      "outputs": []
    }
  ]
}