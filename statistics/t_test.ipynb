{
  "nbformat": 4,
  "nbformat_minor": 0,
  "metadata": {
    "colab": {
      "provenance": []
    },
    "kernelspec": {
      "name": "ir",
      "display_name": "R"
    },
    "language_info": {
      "name": "R"
    }
  },
  "cells": [
    {
      "cell_type": "markdown",
      "source": [
        "## __2標本t検定__\n",
        "\n",
        "このNotebookはRで書かれている."
      ],
      "metadata": {
        "id": "cXC09beTfc9-"
      }
    },
    {
      "cell_type": "code",
      "execution_count": 1,
      "metadata": {
        "colab": {
          "base_uri": "https://localhost:8080/"
        },
        "id": "vg-wt65Has2O",
        "outputId": "c6edf453-c3a7-4f25-b14a-65f2b10d9bba"
      },
      "outputs": [
        {
          "output_type": "stream",
          "name": "stdout",
          "text": [
            "[1] FALSE\n"
          ]
        }
      ],
      "source": [
        "# 対応の有無\n",
        "PAIRED = \"FALSE\" #@param [\"FALSE\", \"TRUE\"]\n",
        "PAIRED = as.logical(PAIRED)\n",
        "print(PAIRED)"
      ]
    },
    {
      "cell_type": "code",
      "source": [
        "# データ\n",
        "c1 = c(10.1, 12.3, 14.2, 16.1, 13.6)  # before\n",
        "c2 = c(12.5, 13.8, 14.0, 17.0, 16.4)  # after"
      ],
      "metadata": {
        "id": "pazmiOX5bY71"
      },
      "execution_count": 2,
      "outputs": []
    },
    {
      "cell_type": "code",
      "source": [
        "# 平均\n",
        "mean(c1)\n",
        "mean(c2)\n",
        "\n",
        "# 分散\n",
        "var(c1)\n",
        "var(c2)\n",
        "\n",
        "# 対応のある場合は差分についても計算\n",
        "if (PAIRED) {\n",
        "    mean(c1 - c2)\n",
        "    var(c1 - c2)\n",
        "}"
      ],
      "metadata": {
        "colab": {
          "base_uri": "https://localhost:8080/",
          "height": 86
        },
        "id": "oPiGr0fddDVq",
        "outputId": "de15b3df-c648-4f95-b1a0-572a0ba8bb37"
      },
      "execution_count": 3,
      "outputs": [
        {
          "output_type": "display_data",
          "data": {
            "text/html": [
              "13.26"
            ],
            "text/markdown": "13.26",
            "text/latex": "13.26",
            "text/plain": [
              "[1] 13.26"
            ]
          },
          "metadata": {}
        },
        {
          "output_type": "display_data",
          "data": {
            "text/html": [
              "14.74"
            ],
            "text/markdown": "14.74",
            "text/latex": "14.74",
            "text/plain": [
              "[1] 14.74"
            ]
          },
          "metadata": {}
        },
        {
          "output_type": "display_data",
          "data": {
            "text/html": [
              "4.993"
            ],
            "text/markdown": "4.993",
            "text/latex": "4.993",
            "text/plain": [
              "[1] 4.993"
            ]
          },
          "metadata": {}
        },
        {
          "output_type": "display_data",
          "data": {
            "text/html": [
              "3.578"
            ],
            "text/markdown": "3.578",
            "text/latex": "3.578",
            "text/plain": [
              "[1] 3.578"
            ]
          },
          "metadata": {}
        }
      ]
    },
    {
      "cell_type": "code",
      "source": [
        "# 2標本t検定(両側)\n",
        "result = t.test(c1, c2, paired=PAIRED)               # 等分散性を仮定しない\n",
        "# result = t.test(c1, c2, paired=PAIRED, var.equal=T)  # 等分散性を仮定\n",
        "result"
      ],
      "metadata": {
        "colab": {
          "base_uri": "https://localhost:8080/",
          "height": 215
        },
        "id": "2F1J-0aQavUJ",
        "outputId": "222dfee1-67d4-4520-f4b1-aad9737acbda"
      },
      "execution_count": 4,
      "outputs": [
        {
          "output_type": "display_data",
          "data": {
            "text/plain": [
              "\n",
              "\tWelch Two Sample t-test\n",
              "\n",
              "data:  c1 and c2\n",
              "t = -1.1304, df = 7.7877, p-value = 0.2919\n",
              "alternative hypothesis: true difference in means is not equal to 0\n",
              "95 percent confidence interval:\n",
              " -4.513576  1.553576\n",
              "sample estimates:\n",
              "mean of x mean of y \n",
              "    13.26     14.74 \n"
            ]
          },
          "metadata": {}
        }
      ]
    },
    {
      "cell_type": "code",
      "source": [
        "# 標本数\n",
        "n1 = length(c1)\n",
        "n2 = length(c2)\n",
        "print(n1)\n",
        "\n",
        "# 割る数\n",
        "divider = ifelse(PAIRED, sqrt(n1), sqrt(n1*n2/(n1+n2)))\n",
        "print(divider)\n",
        "\n",
        "# 効果量\n",
        "t_value = as.numeric(result$statistic)\n",
        "effect_size = t_value / divider\n",
        "effect_size"
      ],
      "metadata": {
        "colab": {
          "base_uri": "https://localhost:8080/",
          "height": 70
        },
        "id": "joLS3E2FfbTX",
        "outputId": "6c7e4174-fb2a-4555-9e5e-dacd708654cf"
      },
      "execution_count": 5,
      "outputs": [
        {
          "output_type": "stream",
          "name": "stdout",
          "text": [
            "[1] 5\n",
            "[1] 1.581139\n"
          ]
        },
        {
          "output_type": "display_data",
          "data": {
            "text/html": [
              "-0.71492579284692"
            ],
            "text/markdown": "-0.71492579284692",
            "text/latex": "-0.71492579284692",
            "text/plain": [
              "[1] -0.7149258"
            ]
          },
          "metadata": {}
        }
      ]
    },
    {
      "cell_type": "code",
      "source": [
        "type = ifelse(PAIRED, \"paired\", \"two.sample\")\n",
        "print(type)\n",
        "\n",
        "# 検出力0.8のときのn\n",
        "power.t.test(power=0.8, delta=effect_size, sig.level=0.05, type=type)"
      ],
      "metadata": {
        "colab": {
          "base_uri": "https://localhost:8080/",
          "height": 233
        },
        "id": "F3bIAglJmwdN",
        "outputId": "d39530f3-9461-427e-9baf-7fac3783951c"
      },
      "execution_count": 6,
      "outputs": [
        {
          "output_type": "stream",
          "name": "stdout",
          "text": [
            "[1] \"two.sample\"\n"
          ]
        },
        {
          "output_type": "display_data",
          "data": {
            "text/plain": [
              "\n",
              "     Two-sample t test power calculation \n",
              "\n",
              "              n = 31.70215\n",
              "          delta = 0.7149258\n",
              "             sd = 1\n",
              "      sig.level = 0.05\n",
              "          power = 0.8\n",
              "    alternative = two.sided\n",
              "\n",
              "NOTE: n is number in *each* group\n"
            ]
          },
          "metadata": {}
        }
      ]
    },
    {
      "cell_type": "code",
      "source": [
        "# 検出力\n",
        "if (n1==n2) {\n",
        "    power.t.test(delta=effect_size, sig.level=0.05, n=n1, type=type)\n",
        "}"
      ],
      "metadata": {
        "colab": {
          "base_uri": "https://localhost:8080/",
          "height": 215
        },
        "id": "EEYAIXUYF_uL",
        "outputId": "b8d8ae71-ecf9-48a1-e142-dfa3d753266f"
      },
      "execution_count": 7,
      "outputs": [
        {
          "output_type": "display_data",
          "data": {
            "text/plain": [
              "\n",
              "     Two-sample t test power calculation \n",
              "\n",
              "              n = 5\n",
              "          delta = 0.7149258\n",
              "             sd = 1\n",
              "      sig.level = 0.05\n",
              "          power = 0.1683459\n",
              "    alternative = two.sided\n",
              "\n",
              "NOTE: n is number in *each* group\n"
            ]
          },
          "metadata": {}
        }
      ]
    },
    {
      "cell_type": "code",
      "source": [],
      "metadata": {
        "id": "yQLBRCzArVjK"
      },
      "execution_count": 8,
      "outputs": []
    }
  ]
}