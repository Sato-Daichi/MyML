{
  "nbformat": 4,
  "nbformat_minor": 0,
  "metadata": {
    "colab": {
      "provenance": []
    },
    "kernelspec": {
      "name": "python3",
      "display_name": "Python 3"
    },
    "language_info": {
      "name": "python"
    }
  },
  "cells": [
    {
      "cell_type": "markdown",
      "source": [
        "## __Faissの使い方__\n",
        "\n",
        "- ベクトル検索ライブラリ\n",
        "\n",
        "- Facebookが開発\n",
        "\n",
        "- [Github](https://github.com/facebookresearch/faiss)\n",
        "\n",
        "- CPU/GPU対応\n",
        "\n",
        "- PythonとC++で仕様可\n",
        "\n",
        "- 横ベクトルを使用"
      ],
      "metadata": {
        "id": "sB5dwkSRxLuu"
      }
    },
    {
      "cell_type": "markdown",
      "source": [
        "### __準備__\n",
        "\n",
        "- ベクトルとして日本語単語ベクトルモデル chiVe を使用する\n",
        "\n",
        "- [Github](https://github.com/WorksApplications/chiVe)"
      ],
      "metadata": {
        "id": "wE9CAas_4Qy2"
      }
    },
    {
      "cell_type": "code",
      "execution_count": 1,
      "metadata": {
        "colab": {
          "base_uri": "https://localhost:8080/"
        },
        "id": "h7v0tHOBw_kp",
        "outputId": "2c39cdcc-eed8-467a-aa74-d35febf56845"
      },
      "outputs": [
        {
          "output_type": "stream",
          "name": "stdout",
          "text": [
            "Successfully installed faiss-cpu-1.7.3\n"
          ]
        }
      ],
      "source": [
        "!pip install faiss-cpu | tail -n 1"
      ]
    },
    {
      "cell_type": "code",
      "source": [
        "import numpy as np\n",
        "import pandas as pd\n",
        "import faiss\n",
        "import gensim"
      ],
      "metadata": {
        "id": "f56wrYAAyKE7"
      },
      "execution_count": 40,
      "outputs": []
    },
    {
      "cell_type": "code",
      "source": [
        "# モデルのダウンロード\n",
        "!wget https://sudachi.s3-ap-northeast-1.amazonaws.com/chive/chive-1.1-mc90_gensim.tar.gz"
      ],
      "metadata": {
        "colab": {
          "base_uri": "https://localhost:8080/"
        },
        "id": "bjvBaKY26hLm",
        "outputId": "07ca83da-1f7d-4463-f3e0-2a57358ef8c1"
      },
      "execution_count": 5,
      "outputs": [
        {
          "output_type": "stream",
          "name": "stdout",
          "text": [
            "--2023-02-05 18:58:25--  https://sudachi.s3-ap-northeast-1.amazonaws.com/chive/chive-1.1-mc90_gensim.tar.gz\n",
            "Resolving sudachi.s3-ap-northeast-1.amazonaws.com (sudachi.s3-ap-northeast-1.amazonaws.com)... 52.219.136.218, 3.5.156.108, 52.219.195.34, ...\n",
            "Connecting to sudachi.s3-ap-northeast-1.amazonaws.com (sudachi.s3-ap-northeast-1.amazonaws.com)|52.219.136.218|:443... connected.\n",
            "HTTP request sent, awaiting response... 200 OK\n",
            "Length: 545081512 (520M) [application/x-gzip]\n",
            "Saving to: ‘chive-1.1-mc90_gensim.tar.gz’\n",
            "\n",
            "chive-1.1-mc90_gens 100%[===================>] 519.83M  17.3MB/s    in 31s     \n",
            "\n",
            "2023-02-05 18:58:57 (16.6 MB/s) - ‘chive-1.1-mc90_gensim.tar.gz’ saved [545081512/545081512]\n",
            "\n"
          ]
        }
      ]
    },
    {
      "cell_type": "code",
      "source": [
        "# 解凍\n",
        "!tar -zxvf chive-1.1-mc90_gensim.tar.gz"
      ],
      "metadata": {
        "colab": {
          "base_uri": "https://localhost:8080/"
        },
        "id": "KBiKjgoi6kHz",
        "outputId": "99a539f4-c5db-4d83-c30d-2d3ff0ff859e"
      },
      "execution_count": 6,
      "outputs": [
        {
          "output_type": "stream",
          "name": "stdout",
          "text": [
            "chive-1.1-mc90_gensim/\n",
            "chive-1.1-mc90_gensim/LICENSE\n",
            "chive-1.1-mc90_gensim/README.md\n",
            "chive-1.1-mc90_gensim/chive-1.1-mc90.kv.vectors.npy\n",
            "chive-1.1-mc90_gensim/chive-1.1-mc90.kv\n"
          ]
        }
      ]
    },
    {
      "cell_type": "code",
      "source": [
        "# モデルの読み込み\n",
        "model = gensim.models.KeyedVectors.load(\"./chive-1.1-mc90_gensim/chive-1.1-mc90.kv\")\n",
        "\n",
        "# 次元数：300次元\n",
        "model[\"日本\"].shape "
      ],
      "metadata": {
        "colab": {
          "base_uri": "https://localhost:8080/"
        },
        "id": "EnckUIEP51n7",
        "outputId": "8bc188a2-bbf0-4930-98de-27dc3b37cea9"
      },
      "execution_count": 17,
      "outputs": [
        {
          "output_type": "execute_result",
          "data": {
            "text/plain": [
              "(300,)"
            ]
          },
          "metadata": {},
          "execution_count": 17
        }
      ]
    },
    {
      "cell_type": "markdown",
      "source": [
        "### __ベクトルの作成__\n",
        "\n",
        "- faissではfloat32を使用"
      ],
      "metadata": {
        "id": "CFV4IMsj9rqm"
      }
    },
    {
      "cell_type": "code",
      "source": [
        "# データベースベクトル\n",
        "b_words = [\n",
        "    \"日本\",\n",
        "    \"東京\",\n",
        "    \"イギリス\",\n",
        "    \"首都\",\n",
        "    \"朝\",\n",
        "    \"夕方\",\n",
        "    \"夏\",\n",
        "    \"季節\",\n",
        "    \"東大\",\n",
        "    \"京大\",\n",
        "    \"受験\",\n",
        "    \"勉強\",\n",
        "]\n",
        "\n",
        "vectors = []\n",
        "for word in b_words:\n",
        "    vectors.append(model[word])\n",
        "\n",
        "B = np.stack(vectors)\n",
        "B.shape, B.dtype"
      ],
      "metadata": {
        "colab": {
          "base_uri": "https://localhost:8080/"
        },
        "id": "q7xjHS6-9wJu",
        "outputId": "01e84c86-c9a3-4d9e-a306-8001c0fc1980"
      },
      "execution_count": 32,
      "outputs": [
        {
          "output_type": "execute_result",
          "data": {
            "text/plain": [
              "((12, 300), dtype('float32'))"
            ]
          },
          "metadata": {},
          "execution_count": 32
        }
      ]
    },
    {
      "cell_type": "code",
      "source": [
        "# クエリベクトル\n",
        "q_words = [\n",
        "    \"アメリカ\",\n",
        "    \"大阪\",\n",
        "    \"昼\",\n",
        "    \"節分\",\n",
        "    \"大学生\",\n",
        "    \"数学\",\n",
        "]\n",
        "\n",
        "vectors = []\n",
        "for word in q_words:\n",
        "    vectors.append(model[word])\n",
        "\n",
        "Q = np.stack(vectors)\n",
        "Q.shape, Q.dtype"
      ],
      "metadata": {
        "colab": {
          "base_uri": "https://localhost:8080/"
        },
        "id": "iLN9jK7U_67h",
        "outputId": "2037eeb9-8649-404c-ed6a-9add8822c511"
      },
      "execution_count": 34,
      "outputs": [
        {
          "output_type": "execute_result",
          "data": {
            "text/plain": [
              "((6, 300), dtype('float32'))"
            ]
          },
          "metadata": {},
          "execution_count": 34
        }
      ]
    },
    {
      "cell_type": "markdown",
      "source": [
        "### __faissによる類似度検索__"
      ],
      "metadata": {
        "id": "mKyXyfeSBE-8"
      }
    },
    {
      "cell_type": "code",
      "source": [
        "# ユークリッド距離に基づくインデックスを作成\n",
        "\n",
        "index = faiss.IndexFlatL2(300)\n",
        "index.add(B) # データを追加\n",
        "index"
      ],
      "metadata": {
        "colab": {
          "base_uri": "https://localhost:8080/"
        },
        "id": "N0jSqQRwy2Hr",
        "outputId": "2d75bf18-b733-4c25-b8bc-f5126c680969"
      },
      "execution_count": 35,
      "outputs": [
        {
          "output_type": "execute_result",
          "data": {
            "text/plain": [
              "<faiss.swigfaiss_avx2.IndexFlatL2; proxy of <Swig Object of type 'faiss::IndexFlatL2 *' at 0x7f315d01dd50> >"
            ]
          },
          "metadata": {},
          "execution_count": 35
        }
      ]
    },
    {
      "cell_type": "code",
      "source": [
        "# 検索\n",
        "\n",
        "# クエリと上位k件を指定\n",
        "k = 3\n",
        "D, I = index.search(Q, k) \n",
        "\n",
        "# 距離\n",
        "print(D[:k])\n",
        "\n",
        "# インデックス\n",
        "print(I[:k])"
      ],
      "metadata": {
        "colab": {
          "base_uri": "https://localhost:8080/"
        },
        "id": "fmxcHQxY1dwY",
        "outputId": "6b78b26d-af72-4ced-d04d-e4d3923d6c58"
      },
      "execution_count": 52,
      "outputs": [
        {
          "output_type": "stream",
          "name": "stdout",
          "text": [
            "[[ 5.1705456  5.7971163 12.935259 ]\n",
            " [ 7.9590526 11.888107  16.1922   ]\n",
            " [ 4.077402   5.1802454 12.870502 ]]\n",
            "[[0 2 1]\n",
            " [1 0 6]\n",
            " [5 4 1]]\n"
          ]
        }
      ]
    },
    {
      "cell_type": "code",
      "source": [
        "# 検索結果の表示\n",
        "b_words = pd.Series(b_words)\n",
        "q_words = pd.Series(q_words)\n",
        "\n",
        "for i in range(len(Q)):\n",
        "    print(\"クエリ：\", q_words[i])\n",
        "    print(f\"上位{k}件：\", *b_words[I[i]].values.tolist())\n",
        "    print()"
      ],
      "metadata": {
        "colab": {
          "base_uri": "https://localhost:8080/"
        },
        "id": "B3xmyM8E29gA",
        "outputId": "68714c66-c3a8-4224-ecf2-fff1f4c391dc"
      },
      "execution_count": 55,
      "outputs": [
        {
          "output_type": "stream",
          "name": "stdout",
          "text": [
            "クエリ： アメリカ\n",
            "上位3件： 日本 イギリス 東京\n",
            "\n",
            "クエリ： 大阪\n",
            "上位3件： 東京 日本 夏\n",
            "\n",
            "クエリ： 昼\n",
            "上位3件： 夕方 朝 東京\n",
            "\n",
            "クエリ： 節分\n",
            "上位3件： 季節 朝 日本\n",
            "\n",
            "クエリ： 大学生\n",
            "上位3件： 勉強 東大 京大\n",
            "\n",
            "クエリ： 数学\n",
            "上位3件： 勉強 東大 受験\n",
            "\n"
          ]
        }
      ]
    },
    {
      "cell_type": "code",
      "source": [],
      "metadata": {
        "id": "JU-2IfB4A0h-"
      },
      "execution_count": 51,
      "outputs": []
    }
  ]
}