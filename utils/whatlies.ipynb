{
  "cells": [
    {
      "cell_type": "markdown",
      "metadata": {
        "id": "K3wSLfyEUY7p"
      },
      "source": [
        "## __whatliesの使い方__\n",
        "\n",
        "- 単語の分散表現が簡単に得られるライブラリ\n",
        "\n",
        "- Github: https://github.com/koaning/whatlies/\n",
        "\n",
        "- 公式ドキュメント: https://koaning.github.io/whatlies/\n"
      ]
    },
    {
      "cell_type": "code",
      "execution_count": 1,
      "metadata": {
        "colab": {
          "base_uri": "https://localhost:8080/"
        },
        "id": "w31IAd0DUYru",
        "outputId": "170e49d3-a43f-4bf3-f38b-ab95ab92816a"
      },
      "outputs": [
        {
          "name": "stdout",
          "output_type": "stream",
          "text": [
            "Requirement already satisfied: oauthlib>=3.0.0 in /usr/local/lib/python3.8/dist-packages (from requests-oauthlib>=0.7.0->google-auth-oauthlib<0.5,>=0.4.1->tensorboard<2.10,>=2.9->tensorflow<2.10,>=2.9.0->whatlies[all]) (3.2.2)\n"
          ]
        }
      ],
      "source": [
        "# 再起動を要求される場合がある\n",
        "!pip install whatlies[all] | tail -n 1"
      ]
    },
    {
      "cell_type": "code",
      "execution_count": 2,
      "metadata": {
        "id": "w3Gro2abmEd7"
      },
      "outputs": [],
      "source": [
        "import matplotlib.pyplot as plt"
      ]
    },
    {
      "cell_type": "markdown",
      "metadata": {
        "id": "5wsZpVOlWHV-"
      },
      "source": [
        "### __モデル準備__\n",
        "\n",
        "- ここではHugginface Transformersのbert-base-uncasedを使用する\n",
        "\n",
        "- どのライブラリを使用するかで読み込む時のクラスが異なる"
      ]
    },
    {
      "cell_type": "code",
      "execution_count": 3,
      "metadata": {
        "colab": {
          "base_uri": "https://localhost:8080/"
        },
        "id": "oT-XsPLA56X2",
        "outputId": "66aa39a6-b225-4358-98d6-5d4f20b46597"
      },
      "outputs": [
        {
          "name": "stderr",
          "output_type": "stream",
          "text": [
            "/usr/local/lib/python3.8/dist-packages/torch/cuda/__init__.py:497: UserWarning: Can't initialize NVML\n",
            "  warnings.warn(\"Can't initialize NVML\")\n",
            "Some weights of the model checkpoint at bert-base-cased were not used when initializing BertModel: ['cls.predictions.transform.LayerNorm.bias', 'cls.predictions.decoder.weight', 'cls.seq_relationship.bias', 'cls.predictions.transform.dense.weight', 'cls.seq_relationship.weight', 'cls.predictions.transform.LayerNorm.weight', 'cls.predictions.transform.dense.bias', 'cls.predictions.bias']\n",
            "- This IS expected if you are initializing BertModel from the checkpoint of a model trained on another task or with another architecture (e.g. initializing a BertForSequenceClassification model from a BertForPreTraining model).\n",
            "- This IS NOT expected if you are initializing BertModel from the checkpoint of a model that you expect to be exactly identical (initializing a BertForSequenceClassification model from a BertForSequenceClassification model).\n"
          ]
        }
      ],
      "source": [
        "from whatlies.language import HFTransformersLanguage\n",
        "\n",
        "model = HFTransformersLanguage('bert-base-cased')"
      ]
    },
    {
      "cell_type": "markdown",
      "metadata": {
        "id": "eN6bC2ylvAEr"
      },
      "source": [
        "### __Embedding__\n",
        "\n",
        "- 単一の単語ベクトルオブジェクト"
      ]
    },
    {
      "cell_type": "code",
      "execution_count": 4,
      "metadata": {
        "colab": {
          "base_uri": "https://localhost:8080/"
        },
        "id": "wzOc6q4AvmeR",
        "outputId": "7739244c-f21a-41b2-c18e-5d041c68dcc5"
      },
      "outputs": [
        {
          "data": {
            "text/plain": [
              "Emb[man]"
            ]
          },
          "execution_count": 4,
          "metadata": {},
          "output_type": "execute_result"
        }
      ],
      "source": [
        "# 単語ベクトル\n",
        "vec = model[\"man\"]\n",
        "vec"
      ]
    },
    {
      "cell_type": "code",
      "execution_count": 5,
      "metadata": {
        "colab": {
          "base_uri": "https://localhost:8080/"
        },
        "id": "9tAb2NkdyCq6",
        "outputId": "b4d6698e-bf16-4c64-efa4-bf2779c821fe"
      },
      "outputs": [
        {
          "data": {
            "text/plain": [
              "array([ 7.35702276e-01, -8.53750646e-01,  2.75138587e-01, -2.63032377e-01,\n",
              "       -4.88841146e-01,  1.54976174e-01,  2.49472976e-01, -2.26361096e-01,\n",
              "        4.15411033e-03, -1.10293436e+00, -3.94659713e-02,  5.84293723e-01,\n",
              "       -4.57021147e-01,  2.47342229e-01, -6.10680401e-01,  5.09065628e-01,\n",
              "        9.60807279e-02,  4.80557680e-01,  1.77223474e-01, -2.61685938e-01,\n",
              "        2.10271686e-01, -2.98628688e-01,  7.35670745e-01, -5.04213035e-01,\n",
              "       -8.31782743e-02,  1.87999055e-01,  7.00842381e-01,  3.77140939e-01,\n",
              "       -9.72958922e-01,  2.64147818e-01, -3.84708084e-02,  3.53861392e-01,\n",
              "        1.14613570e-01,  9.45687145e-02, -8.59551370e-01, -1.21511310e-01,\n",
              "        2.53698975e-01,  1.31355792e-01,  9.72172171e-02, -6.47867396e-02,\n",
              "       -4.60057437e-01, -2.56427564e-03,  5.02052546e-01, -3.50374788e-01,\n",
              "       -3.43052775e-01, -2.05958068e-01,  2.51644347e-02,  3.12913328e-01,\n",
              "       -5.87850153e-01,  2.23781615e-01,  2.54003495e-01, -3.30451995e-01,\n",
              "        1.86404720e-01,  8.96346476e-03, -8.22434798e-02,  1.19311385e-01,\n",
              "       -3.13461512e-01, -1.12170242e-01, -6.67725861e-01,  1.95366740e-01,\n",
              "       -1.64377496e-01,  4.41357315e-01,  3.50630343e-01,  6.69538081e-02,\n",
              "       -7.31592998e-02,  2.12242112e-01,  2.29510352e-01,  1.23405427e-01,\n",
              "       -1.21115841e-01,  6.64347038e-02, -3.70653391e-01, -1.14771888e-01,\n",
              "       -2.77532451e-03,  9.56275642e-01,  1.60445645e-01, -2.10581824e-01,\n",
              "        7.23681897e-02,  3.95435631e-01, -7.35773370e-02,  4.80454341e-02,\n",
              "        1.66098356e-01,  1.08225294e-03, -1.78878203e-01, -1.07181385e-01,\n",
              "       -2.04503685e-01,  8.30346048e-02, -1.24126198e-02, -4.35519516e-01,\n",
              "       -9.98572558e-02,  1.21575862e-01,  6.35830224e-01,  1.98138937e-01,\n",
              "       -5.33281974e-02,  7.49372318e-02,  1.58885345e-01,  3.40186357e-01,\n",
              "       -2.48702347e-01,  4.46398109e-02,  3.90785599e+00,  3.29099119e-01,\n",
              "       -4.40895557e-01,  1.85104087e-01, -1.62584215e-01, -2.35869959e-01,\n",
              "       -5.55432700e-02, -7.89926350e-01,  8.38833451e-02, -4.26285714e-01,\n",
              "       -1.34032190e-01,  5.92281938e-01,  7.27464676e-01,  3.61184180e-02,\n",
              "        2.25231573e-01, -2.42774114e-01,  1.55904263e-01,  8.25916529e-02,\n",
              "       -2.41385505e-01,  2.61813939e-01, -2.70454168e-01, -4.74978089e-01,\n",
              "        2.01007709e-01,  4.52844322e-01,  7.26348817e-01,  4.27588105e-01,\n",
              "       -9.88327060e-03, -1.05231494e-01,  2.31524155e-01,  3.59310508e-02,\n",
              "        4.01573807e-01, -3.16228837e-01, -6.28992021e-01, -4.65440214e-01,\n",
              "        5.16755581e-02,  9.72492024e-02,  9.69424769e-02,  4.01492625e-01,\n",
              "       -3.20817441e-01,  5.90118952e-02, -7.28598535e-01,  2.69934058e-01,\n",
              "        2.23358318e-01, -4.22537953e-01,  3.97892118e-01, -1.17976256e-01,\n",
              "       -1.72078922e-01,  2.68121624e+00, -2.50289202e-01, -1.35304913e-01,\n",
              "        3.75561297e-01,  3.36870134e-01,  5.73296361e-02, -3.63871217e-01,\n",
              "       -2.27760494e-01,  1.53763276e-02, -5.30129552e-01, -1.14528067e-01,\n",
              "        2.01104164e-01,  7.21130446e-02,  4.11286026e-01, -5.82129657e-02,\n",
              "       -8.41996133e-01, -6.31665528e-01, -2.23892450e-01,  2.89313078e-01,\n",
              "       -3.17994088e-01, -4.49960195e-02,  1.32650912e-01, -9.22734082e-01,\n",
              "       -1.20598421e-01,  4.04939741e-01, -1.87237144e-01,  1.44741666e-02,\n",
              "       -2.20920491e+00,  4.58172411e-01,  9.33059379e-02,  1.25853464e-01,\n",
              "        8.39948133e-02,  1.73774827e-02,  2.29187220e-01, -3.43079656e-01,\n",
              "        4.95792180e-01, -2.13903204e-01,  2.95927942e-01,  9.48745105e-03,\n",
              "        2.57375631e-02,  1.78131789e-01,  2.15057641e-01, -9.93748531e-02,\n",
              "        5.69197908e-02,  3.50439608e-01, -2.15148777e-02, -1.99897021e-01,\n",
              "        1.07978649e-01,  1.13313578e-01,  5.87577224e-01, -8.19282606e-02,\n",
              "       -1.93744481e-01, -2.17352584e-01,  5.50512135e-01, -5.49146309e-02,\n",
              "       -1.84761524e-01,  9.78784859e-02, -3.83948386e-02,  6.44221529e-02,\n",
              "        5.34747660e-01, -7.73538277e-02,  4.14600551e-01, -3.33783291e-02,\n",
              "        1.16277166e-01, -3.67323756e-01, -2.98912227e-01, -6.24970123e-02,\n",
              "        1.36516273e-01,  1.73774064e-02,  4.85199511e-01, -1.10470295e-01,\n",
              "       -3.01939309e-01, -3.59630138e-01, -6.14813790e-02, -1.70171738e-01,\n",
              "       -4.15835410e-01, -5.49711473e-02,  2.01403335e-01,  3.49098057e-01,\n",
              "        7.75334716e-01, -2.42799535e-01,  3.46108191e-02,  2.00023763e-02,\n",
              "        1.19161502e-01, -1.18516862e-01,  3.02261919e-01,  1.29774973e-01,\n",
              "        9.56465527e-02,  6.53569996e-02, -4.75605190e-01,  1.77044392e-01,\n",
              "       -1.74018264e-01, -1.65828806e-03, -4.37378377e-01,  3.32843930e-01,\n",
              "        6.45463020e-02,  2.72100151e-01,  5.43667972e-01, -1.52805090e-01,\n",
              "        1.54007331e-01,  3.80723327e-02,  4.82475489e-01,  2.67623812e-01,\n",
              "       -3.67533058e-01,  3.80592406e-01,  7.60571361e-01,  7.80391544e-02,\n",
              "       -5.25667906e-01,  2.14045778e-01,  5.63706644e-02,  5.96037686e-01,\n",
              "       -2.54735500e-01, -1.25950730e+00, -1.10991485e-01,  5.32557964e-02,\n",
              "       -1.61713168e-01, -1.84583664e+00, -6.87108515e-03, -7.97619671e-02,\n",
              "        2.35885337e-01, -2.30430454e-01,  7.57542700e-02,  4.73866254e-01,\n",
              "       -6.05853915e-01, -1.82494730e-01, -5.90112627e-01, -3.86542708e-01,\n",
              "       -8.29449832e-01, -1.61262751e-01, -4.21194851e-01,  2.96035558e-01,\n",
              "        5.42162806e-02,  7.12687001e-02, -4.96524014e-02, -4.48906362e-01,\n",
              "       -1.57917738e-01, -2.00006053e-01, -7.44355768e-02,  2.23859504e-01,\n",
              "       -2.59428531e-01,  3.23672503e-01,  3.30373883e-01,  8.04357111e-01,\n",
              "       -1.02515884e-01,  3.12683010e+00,  5.45857906e-01, -1.95130065e-01,\n",
              "       -1.20858349e-01,  2.13768601e-01,  9.29494724e-02, -4.03509289e-03,\n",
              "       -6.36928141e-01,  7.61131570e-02, -2.68109958e-03, -2.27408901e-01,\n",
              "        3.62246156e-01, -2.59157330e-01, -8.99270475e-01, -2.53382951e-01,\n",
              "       -2.65464216e-01,  9.29131806e-02, -2.37204760e-01,  5.36678731e-01,\n",
              "       -9.87067103e-01,  3.55550349e-01,  1.89636815e-02,  2.38326296e-01,\n",
              "       -3.04417908e-01, -2.52199620e-01, -4.95612025e-01, -4.87562507e-01,\n",
              "       -4.57987756e-01,  4.98710573e-01, -2.02091187e-01, -1.01901507e+00,\n",
              "        8.77176225e-01,  1.34724295e-02, -1.02077879e-01, -1.81467876e-01,\n",
              "       -1.47029459e-01, -1.33264109e-01, -2.33122200e-01, -4.61519927e-01,\n",
              "        1.11559883e-01, -4.35519032e-02,  1.43574566e-01,  5.16179129e-02,\n",
              "       -3.10318500e-01,  6.74962550e-02, -2.49975026e-01,  2.02473223e-01,\n",
              "       -2.74428844e-01, -2.92737745e-02, -4.28483307e-01, -7.00239912e-02,\n",
              "       -2.60110885e-01, -4.82057687e-03,  2.61287689e-01,  5.82902618e-02,\n",
              "        2.13211272e-02,  3.29785079e-01, -1.02604836e-01, -3.93256456e-01,\n",
              "        7.28072673e-02, -1.34085855e-02, -1.91657301e-02,  4.04059231e-01,\n",
              "       -5.17753124e-01,  4.39662308e-01, -1.61604241e-01,  3.04911971e-01,\n",
              "       -8.07798505e-02, -1.59832388e-01, -2.77391225e-01,  1.69703007e-01,\n",
              "        1.75645217e-01, -1.97563004e+00,  4.18337047e-01,  5.43129086e-01,\n",
              "       -7.34981103e-03, -2.43828803e-01,  7.16011524e-02, -1.51431248e-01,\n",
              "        3.92218083e-01,  3.12210768e-01,  2.55278230e-01,  1.24672279e-01,\n",
              "        1.06305383e-01,  1.15337059e-01, -2.22856477e-01,  1.15279257e-01,\n",
              "       -2.90827811e-01,  1.75320566e-01,  4.43809144e-02, -3.55680525e-01,\n",
              "       -5.20058870e-01,  8.40944424e-02,  1.81724757e-01, -1.05959684e-01,\n",
              "        1.41352281e-01,  3.29502612e-01,  4.26760614e-01, -1.24176085e-01,\n",
              "        2.16074586e-02,  2.64427543e-01,  3.00463557e-01, -3.06860775e-01,\n",
              "       -2.67938346e-01, -2.93061137e-01, -1.04901716e-01, -3.63115549e-01,\n",
              "       -1.77791446e-01,  2.95126617e-01, -5.89157604e-02, -4.43214625e-01,\n",
              "       -2.57191546e-02,  1.67560652e-01, -8.42104927e-02,  6.89925253e-01,\n",
              "       -1.26361832e-01, -3.21497947e-01, -4.09045249e-01, -5.94431348e-02,\n",
              "       -1.61217499e+00, -2.88734078e-01,  3.87604773e-01, -2.17715800e-01,\n",
              "        1.65686846e-01,  2.68777221e-01, -2.52520055e-01, -1.44690648e-01,\n",
              "        5.72346926e-01,  1.97939351e-01,  2.70640314e-01,  4.59714770e-01,\n",
              "       -8.98218155e-02, -2.80038089e-01,  1.18201055e-01,  1.34033039e-01,\n",
              "       -3.05887729e-01,  8.62567276e-02,  2.14068487e-01, -9.64899138e-02,\n",
              "       -2.46406138e-01,  1.65604904e-01,  1.44808386e-02,  2.96759635e-01,\n",
              "        1.67654976e-01, -5.93306899e-01, -3.59885186e-01,  7.77401105e-02,\n",
              "        1.07452378e-01, -5.62175214e-01,  1.53527364e-01,  3.88443208e+00,\n",
              "       -3.35598230e-01,  5.59589639e-02,  8.68467987e-02, -2.22575992e-01,\n",
              "       -1.53903008e-01, -1.45546079e-01,  3.08308512e-01,  6.05354011e-01,\n",
              "        4.45658937e-02,  6.70632496e-02, -1.14749998e-01,  4.37294804e-02,\n",
              "        3.51488382e-01, -5.73055148e-01,  5.00115454e-01, -7.00613409e-02,\n",
              "        1.11097537e-01, -8.97813588e-02, -5.29407673e-02,  1.90616623e-01,\n",
              "        4.11279529e-01,  5.05536735e-01, -4.36209679e-01,  3.01997095e-01,\n",
              "        3.72741848e-01,  7.78313279e-02, -6.03857577e-01, -1.83138072e-01,\n",
              "       -3.06798339e-01,  3.89637798e-01,  1.98453348e-02, -6.13989383e-02,\n",
              "        1.01291321e-01,  3.12800020e-01,  1.37827188e-01,  2.59686768e-01,\n",
              "       -3.38120088e-02, -2.05416903e-01, -4.16564792e-01,  3.26459110e-01,\n",
              "        5.91080964e-01,  9.33399916e-01, -1.70175284e-02,  3.66458148e-01,\n",
              "       -1.86867744e-01, -1.07729621e-01, -4.27404076e-01,  1.18939921e-01,\n",
              "        2.10820988e-01, -1.57144785e-01,  4.99986887e-01,  2.92427629e-01,\n",
              "        2.51680799e-02,  1.26855820e-01,  5.54201186e-01, -2.99553499e-02,\n",
              "        3.00766349e-01, -1.54596880e-01,  8.61254185e-02, -6.78086095e-03,\n",
              "       -4.02181476e-01, -4.29214031e-01, -2.51860797e-01,  1.86045825e-01,\n",
              "       -7.39632547e-01,  2.23180696e-01, -2.84462452e-01, -3.91132295e-01,\n",
              "       -2.24394277e-01, -4.43588078e-01,  1.18041381e-01, -6.75593257e-01,\n",
              "        2.85639226e-01,  6.03139959e-02, -1.81701839e-01, -1.27056837e-01,\n",
              "       -1.74050912e-01,  1.44272849e-01,  2.57789314e-01, -5.02987325e-01,\n",
              "       -2.79572257e-03,  2.49938950e-01, -3.47568482e-01, -4.06171560e-01,\n",
              "        2.70922869e-01, -7.68401206e-01, -3.81480791e-02,  3.64908844e-01,\n",
              "       -2.75778949e-01, -1.63445398e-01, -7.60722995e-01, -1.12047948e-01,\n",
              "       -3.08837593e-01, -4.53151315e-01,  3.92314404e-01,  2.27946073e-01,\n",
              "       -1.38933986e-01, -3.77714843e-01, -1.39108952e-02,  7.63642311e-01,\n",
              "        1.94159225e-01,  4.09512192e-01, -1.67227779e-02,  1.05121873e-01,\n",
              "        3.44462276e-01,  2.99609840e-01,  1.45080939e-01,  2.05657750e-01,\n",
              "        4.18833077e-01,  2.67732710e-01,  2.76802182e-01,  4.87311482e-01,\n",
              "       -4.81394172e-01,  3.58013391e-01,  1.80689603e-01, -1.08038299e-01,\n",
              "       -4.96565968e-01, -8.03413582e+00,  3.63667876e-01,  2.93849111e-01,\n",
              "        5.40391386e-01, -4.25798208e-01, -3.72606277e-01,  6.71968341e-01,\n",
              "        2.81361252e-01,  6.63198531e-01,  5.75392306e-01, -2.87933737e-01,\n",
              "       -1.59757599e-01, -1.84099019e+00, -2.01162383e-01,  6.27587084e-03,\n",
              "       -5.72007000e-01,  4.64025825e-01, -6.27165020e-01, -2.94927716e-01,\n",
              "       -7.77582452e-02, -2.88884968e-01,  7.46560618e-02,  3.53934169e-01,\n",
              "        7.68098757e-02, -1.16692066e-01,  2.29677364e-01, -3.52324583e-02,\n",
              "       -1.83689624e-01,  5.94919205e-01, -7.05925599e-02,  1.47563234e-01,\n",
              "        2.29908004e-01,  5.36648512e-01,  2.62785330e-02,  6.18141651e-01,\n",
              "       -1.60685167e-01, -6.32324636e-01,  2.31171086e-01,  2.36939952e-01,\n",
              "       -2.44400308e-01,  3.43282223e-01,  1.05104350e-01,  1.35401919e-01,\n",
              "        3.56276661e-01, -8.86394262e-01, -2.31242150e-01, -7.34125376e-01,\n",
              "       -8.43715250e-01, -1.02579758e-01, -1.77593365e-01,  1.54694110e-01,\n",
              "        3.21887046e-01, -8.19180906e-02,  2.14803323e-01, -2.79249251e-01,\n",
              "       -9.66508538e-02, -4.88999188e-02,  1.08823262e-01,  4.24565256e-01,\n",
              "        1.14629351e-01, -5.98281205e-01, -6.17914379e-01,  3.74856323e-01,\n",
              "       -1.77702516e-01, -1.77595899e-01, -2.17625558e-01, -6.20903671e-01,\n",
              "       -1.24715194e-02, -8.22254568e-02,  3.16734202e-02, -7.82013685e-02,\n",
              "       -3.95020470e-03, -2.28539072e-02,  1.65577531e-01, -6.15551248e-02,\n",
              "        4.93427753e-01,  4.43198442e-01, -5.17438889e-01,  2.13643953e-01,\n",
              "        3.84306699e-01, -4.71144199e-01, -5.94482571e-02,  4.11580235e-01,\n",
              "       -9.67752188e-02,  4.02350314e-02, -2.68758029e-01, -9.33052227e-02,\n",
              "        5.19620299e-01,  9.17681400e-03, -1.36058286e-01,  4.07080306e-03,\n",
              "       -3.55038077e-01,  1.47501733e-02,  1.70592636e-01,  7.57418200e-02,\n",
              "        3.97523880e-01, -1.31146818e-01, -2.40636885e-01, -5.28954744e-01,\n",
              "        1.21180816e-02, -7.02697486e-02, -9.49020609e-02,  3.65785539e-01,\n",
              "       -3.96406829e-01, -3.75576764e-02, -1.80017650e-01,  1.84268951e+00,\n",
              "        2.40469262e-01, -1.95009768e-01, -6.57318115e-01, -2.36465260e-02,\n",
              "       -5.82345128e-01,  8.08055624e-02,  5.91126494e-02,  1.10118747e+00,\n",
              "       -3.58696356e-02,  1.00045413e-01,  4.29950625e-01,  3.24036688e-01,\n",
              "       -5.25535606e-02,  1.03582449e-01,  5.69448829e-01,  3.63937289e-01,\n",
              "        3.73446792e-01, -1.50979266e-01, -2.80269384e-01, -1.55031886e-02,\n",
              "       -1.90473989e-01, -2.53886104e-01, -2.15764388e-01,  4.65311527e-01,\n",
              "        6.16987683e-02, -7.32455492e-01, -4.20809761e-02,  2.96673238e-01,\n",
              "       -3.96896333e-01,  4.92480218e-01,  5.61676361e-03,  4.98267822e-03,\n",
              "        7.03694820e-01, -4.06976104e-01,  7.70693943e-02,  2.34734491e-01,\n",
              "       -2.20282719e-01,  1.72840625e-01, -9.43502411e-03,  2.85267919e-01,\n",
              "       -2.93085158e-01, -5.18606365e-01,  6.03844762e-01, -2.26597130e-01,\n",
              "        1.42081067e-01, -1.66796327e-01, -7.47329235e-01,  1.52518645e-01,\n",
              "        3.78890425e-01, -4.46907490e-01, -2.50101984e-01, -4.87267822e-02,\n",
              "        3.63274693e-01, -3.80388021e-01, -3.05520654e-01, -2.22136855e-01,\n",
              "        6.01337627e-02,  1.50012806e-01, -2.07539737e-01,  1.07669443e-01,\n",
              "        3.34753186e-01, -2.61519641e-01, -7.57840872e-02, -1.65688396e-01,\n",
              "        4.73486006e-01, -6.49412349e-02, -1.33390546e-01, -7.51797333e-02,\n",
              "        1.26847252e-01,  1.09693788e-01, -1.30656481e-01, -1.49471402e+00,\n",
              "       -8.46177191e-02,  1.76836804e-01, -1.13863192e-01, -3.70490253e-01,\n",
              "       -3.15526992e-01,  1.90700620e-01,  2.99252510e-01, -3.05667669e-01,\n",
              "        8.95214751e-02, -1.05153359e-01,  1.54052436e+00, -3.33794504e-01,\n",
              "        6.46985397e-02, -2.81267650e-02,  1.41774282e-01, -5.92691362e-01,\n",
              "        7.11156011e-01,  3.66477311e-01, -4.18402910e-01, -1.16313666e-01,\n",
              "        1.24917912e+00,  7.03019798e-02,  2.05676809e-01,  1.74647585e-01,\n",
              "       -7.67894462e-02,  8.16064849e-02, -1.42244935e-01, -8.46599266e-02,\n",
              "        4.68443483e-01, -4.00536567e-01,  3.78495902e-01, -5.88041544e-02])"
            ]
          },
          "execution_count": 5,
          "metadata": {},
          "output_type": "execute_result"
        }
      ],
      "source": [
        "vec.vector"
      ]
    },
    {
      "cell_type": "code",
      "execution_count": 6,
      "metadata": {
        "colab": {
          "base_uri": "https://localhost:8080/"
        },
        "id": "mA44E6hppJfg",
        "outputId": "16d982d6-05b1-4bf4-96ba-2bcfd38abdc8"
      },
      "outputs": [
        {
          "data": {
            "text/plain": [
              "768"
            ]
          },
          "execution_count": 6,
          "metadata": {},
          "output_type": "execute_result"
        }
      ],
      "source": [
        "vec.ndim # 次元数"
      ]
    },
    {
      "cell_type": "code",
      "execution_count": 7,
      "metadata": {
        "colab": {
          "base_uri": "https://localhost:8080/",
          "height": 34
        },
        "id": "CuhbkMNxkp-Q",
        "outputId": "ba8c6830-6bed-4fd9-f4f9-6ed7d11db7de"
      },
      "outputs": [
        {
          "data": {
            "application/vnd.google.colaboratory.intrinsic+json": {
              "type": "string"
            },
            "text/plain": [
              "'man'"
            ]
          },
          "execution_count": 7,
          "metadata": {},
          "output_type": "execute_result"
        }
      ],
      "source": [
        "vec.name # 名前"
      ]
    },
    {
      "cell_type": "code",
      "execution_count": 8,
      "metadata": {
        "colab": {
          "base_uri": "https://localhost:8080/"
        },
        "id": "cCTFdUnSwp4-",
        "outputId": "f26b4097-9ce7-4675-ddaf-24b9c617b9f8"
      },
      "outputs": [
        {
          "data": {
            "text/plain": [
              "0.032624599501395735"
            ]
          },
          "execution_count": 8,
          "metadata": {},
          "output_type": "execute_result"
        }
      ],
      "source": [
        "# コサイン類似度\n",
        "vec.distance(model[\"woman\"])"
      ]
    },
    {
      "cell_type": "code",
      "execution_count": 9,
      "metadata": {
        "colab": {
          "base_uri": "https://localhost:8080/",
          "height": 296
        },
        "id": "jUBHeGhExNZ8",
        "outputId": "fae93eb2-b26e-4ba3-ba31-b149af7c4030"
      },
      "outputs": [
        {
          "data": {
            "text/plain": [
              "Emb[man]"
            ]
          },
          "execution_count": 9,
          "metadata": {},
          "output_type": "execute_result"
        },
        {
          "data": {
            "image/png": "[encoded data removed]",
            "text/plain": [
              "<Figure size 432x288 with 1 Axes>"
            ]
          },
          "metadata": {
            "needs_background": "light"
          },
          "output_type": "display_data"
        }
      ],
      "source": [
        "# plotで可視化\n",
        "# ベクトルの0, 1次元目\n",
        "\n",
        "vec.plot()"
      ]
    },
    {
      "cell_type": "code",
      "execution_count": 10,
      "metadata": {
        "colab": {
          "base_uri": "https://localhost:8080/",
          "height": 279
        },
        "id": "fYREO-2dl-zN",
        "outputId": "a1aae677-5498-4736-9095-f0015899c2d1"
      },
      "outputs": [
        {
          "data": {
            "image/png": "[encoded data removed]",
            "text/plain": [
              "<Figure size 432x288 with 1 Axes>"
            ]
          },
          "metadata": {
            "needs_background": "light"
          },
          "output_type": "display_data"
        }
      ],
      "source": [
        "# ベクトルの0, 1次元目\n",
        "\n",
        "model[\"man\"].plot(color=\"blue\")\n",
        "model[\"woman\"].plot(color=\"red\")\n",
        "model[\"king\"].plot(color=\"blue\")\n",
        "model[\"queen\"].plot(color=\"red\")\n",
        "(model[\"king\"] - model[\"man\"] + model[\"woman\"]).plot(color=\"orange\", show_ops=True)\n",
        "\n",
        "plt.show()"
      ]
    },
    {
      "cell_type": "markdown",
      "metadata": {
        "id": "IvbCmqEPyG3T"
      },
      "source": [
        "### __Embeddings__\n",
        "\n",
        "- 単語ベクトルのセット"
      ]
    },
    {
      "cell_type": "code",
      "execution_count": 11,
      "metadata": {
        "colab": {
          "base_uri": "https://localhost:8080/"
        },
        "id": "Q5fZPo68nA9I",
        "outputId": "f49c2921-6b8a-4e58-c576-ba60ddd9688c"
      },
      "outputs": [
        {
          "data": {
            "text/plain": [
              "EmbSet"
            ]
          },
          "execution_count": 11,
          "metadata": {},
          "output_type": "execute_result"
        }
      ],
      "source": [
        "words = [\n",
        "    \"man\",\n",
        "    \"woman\",\n",
        "    \"mother\",\n",
        "    \"father\",\n",
        "    \"brother\",\n",
        "    \"sister\",\n",
        "    \"nurse\",\n",
        "    \"president\"\n",
        "]\n",
        "\n",
        "embeddings = model[words]\n",
        "embeddings"
      ]
    },
    {
      "cell_type": "code",
      "execution_count": 12,
      "metadata": {
        "colab": {
          "base_uri": "https://localhost:8080/"
        },
        "id": "PZThzJiszFqA",
        "outputId": "19ecfb50-ccc7-4bd1-a11a-b8b725d4d7b9"
      },
      "outputs": [
        {
          "data": {
            "text/plain": [
              "{'man': Emb[man],\n",
              " 'woman': Emb[woman],\n",
              " 'mother': Emb[mother],\n",
              " 'father': Emb[father],\n",
              " 'brother': Emb[brother],\n",
              " 'sister': Emb[sister],\n",
              " 'nurse': Emb[nurse],\n",
              " 'president': Emb[president]}"
            ]
          },
          "execution_count": 12,
          "metadata": {},
          "output_type": "execute_result"
        }
      ],
      "source": [
        "# 辞書\n",
        "embeddings.embeddings"
      ]
    },
    {
      "cell_type": "code",
      "execution_count": 14,
      "metadata": {
        "colab": {
          "base_uri": "https://localhost:8080/"
        },
        "id": "dV_9zR3SyNP8",
        "outputId": "416d8f21-f910-4a14-cc23-7a6b9a2f6ca3"
      },
      "outputs": [
        {
          "data": {
            "text/plain": [
              "768"
            ]
          },
          "execution_count": 14,
          "metadata": {},
          "output_type": "execute_result"
        }
      ],
      "source": [
        "embeddings.ndim # 次元数"
      ]
    },
    {
      "cell_type": "code",
      "execution_count": 15,
      "metadata": {
        "colab": {
          "base_uri": "https://localhost:8080/"
        },
        "id": "CPizvzplz8SS",
        "outputId": "92cfe33e-0117-489a-aefd-02493b7d97b0"
      },
      "outputs": [
        {
          "data": {
            "text/plain": [
              "{'man': Emb[man],\n",
              " 'woman': Emb[woman],\n",
              " 'nurse': Emb[nurse],\n",
              " 'mother': Emb[mother],\n",
              " 'brother': Emb[brother]}"
            ]
          },
          "execution_count": 15,
          "metadata": {},
          "output_type": "execute_result"
        }
      ],
      "source": [
        "# embeddingsの中からvecとのコサイン類似度が最も高いトップ5つを取り出す\n",
        "n = 5\n",
        "top_n =  embeddings.embset_similar(vec, n=n)\n",
        "top_n.embeddings"
      ]
    },
    {
      "cell_type": "code",
      "execution_count": 16,
      "metadata": {
        "colab": {
          "base_uri": "https://localhost:8080/",
          "height": 393
        },
        "id": "F6h4cQFh4orD",
        "outputId": "d66ce319-eaab-4c9a-c014-9f2b6ae09cfb"
      },
      "outputs": [
        {
          "data": {
            "text/html": [
              "\n",
              "  <div id=\"df-eb14cc40-ce05-48a5-a466-9e6cf9849b04\">\n",
              "    <div class=\"colab-df-container\">\n",
              "      <div>\n",
              "<style scoped>\n",
              "    .dataframe tbody tr th:only-of-type {\n",
              "        vertical-align: middle;\n",
              "    }\n",
              "\n",
              "    .dataframe tbody tr th {\n",
              "        vertical-align: top;\n",
              "    }\n",
              "\n",
              "    .dataframe thead th {\n",
              "        text-align: right;\n",
              "    }\n",
              "</style>\n",
              "<table border=\"1\" class=\"dataframe\">\n",
              "  <thead>\n",
              "    <tr style=\"text-align: right;\">\n",
              "      <th></th>\n",
              "      <th>0</th>\n",
              "      <th>1</th>\n",
              "      <th>2</th>\n",
              "      <th>3</th>\n",
              "      <th>4</th>\n",
              "      <th>5</th>\n",
              "      <th>6</th>\n",
              "      <th>7</th>\n",
              "      <th>8</th>\n",
              "      <th>9</th>\n",
              "      <th>...</th>\n",
              "      <th>758</th>\n",
              "      <th>759</th>\n",
              "      <th>760</th>\n",
              "      <th>761</th>\n",
              "      <th>762</th>\n",
              "      <th>763</th>\n",
              "      <th>764</th>\n",
              "      <th>765</th>\n",
              "      <th>766</th>\n",
              "      <th>767</th>\n",
              "    </tr>\n",
              "  </thead>\n",
              "  <tbody>\n",
              "    <tr>\n",
              "      <th>man</th>\n",
              "      <td>0.735702</td>\n",
              "      <td>-0.853751</td>\n",
              "      <td>0.275139</td>\n",
              "      <td>-0.263032</td>\n",
              "      <td>-0.488841</td>\n",
              "      <td>0.154976</td>\n",
              "      <td>0.249473</td>\n",
              "      <td>-0.226361</td>\n",
              "      <td>0.004154</td>\n",
              "      <td>-1.102934</td>\n",
              "      <td>...</td>\n",
              "      <td>0.205677</td>\n",
              "      <td>0.174648</td>\n",
              "      <td>-0.076789</td>\n",
              "      <td>0.081606</td>\n",
              "      <td>-0.142245</td>\n",
              "      <td>-0.084660</td>\n",
              "      <td>0.468443</td>\n",
              "      <td>-0.400537</td>\n",
              "      <td>0.378496</td>\n",
              "      <td>-0.058804</td>\n",
              "    </tr>\n",
              "    <tr>\n",
              "      <th>woman</th>\n",
              "      <td>0.521913</td>\n",
              "      <td>-0.879266</td>\n",
              "      <td>0.060370</td>\n",
              "      <td>-0.176487</td>\n",
              "      <td>-0.540108</td>\n",
              "      <td>0.215018</td>\n",
              "      <td>0.111524</td>\n",
              "      <td>-0.278458</td>\n",
              "      <td>0.100437</td>\n",
              "      <td>-1.330511</td>\n",
              "      <td>...</td>\n",
              "      <td>0.261293</td>\n",
              "      <td>0.335453</td>\n",
              "      <td>-0.051299</td>\n",
              "      <td>-0.008677</td>\n",
              "      <td>-0.197600</td>\n",
              "      <td>0.263881</td>\n",
              "      <td>0.381820</td>\n",
              "      <td>-0.562843</td>\n",
              "      <td>0.427173</td>\n",
              "      <td>0.170795</td>\n",
              "    </tr>\n",
              "    <tr>\n",
              "      <th>mother</th>\n",
              "      <td>0.713956</td>\n",
              "      <td>-0.488438</td>\n",
              "      <td>0.494171</td>\n",
              "      <td>-0.416265</td>\n",
              "      <td>-0.478481</td>\n",
              "      <td>0.221047</td>\n",
              "      <td>0.292241</td>\n",
              "      <td>-0.140585</td>\n",
              "      <td>0.425156</td>\n",
              "      <td>-1.416261</td>\n",
              "      <td>...</td>\n",
              "      <td>0.517102</td>\n",
              "      <td>0.209877</td>\n",
              "      <td>-0.410970</td>\n",
              "      <td>0.034689</td>\n",
              "      <td>0.125349</td>\n",
              "      <td>0.386220</td>\n",
              "      <td>0.458891</td>\n",
              "      <td>-0.249502</td>\n",
              "      <td>0.183645</td>\n",
              "      <td>0.132165</td>\n",
              "    </tr>\n",
              "    <tr>\n",
              "      <th>father</th>\n",
              "      <td>0.722235</td>\n",
              "      <td>-0.547676</td>\n",
              "      <td>0.605546</td>\n",
              "      <td>-0.388732</td>\n",
              "      <td>-0.474591</td>\n",
              "      <td>0.240334</td>\n",
              "      <td>0.223540</td>\n",
              "      <td>-0.117277</td>\n",
              "      <td>0.376108</td>\n",
              "      <td>-1.477076</td>\n",
              "      <td>...</td>\n",
              "      <td>0.508865</td>\n",
              "      <td>0.226729</td>\n",
              "      <td>-0.280439</td>\n",
              "      <td>-0.071649</td>\n",
              "      <td>0.030589</td>\n",
              "      <td>0.359194</td>\n",
              "      <td>0.439264</td>\n",
              "      <td>-0.334525</td>\n",
              "      <td>0.222363</td>\n",
              "      <td>0.125289</td>\n",
              "    </tr>\n",
              "    <tr>\n",
              "      <th>brother</th>\n",
              "      <td>0.708300</td>\n",
              "      <td>-0.526910</td>\n",
              "      <td>0.619008</td>\n",
              "      <td>-0.661505</td>\n",
              "      <td>-0.375360</td>\n",
              "      <td>0.031324</td>\n",
              "      <td>0.272441</td>\n",
              "      <td>-0.290881</td>\n",
              "      <td>0.371223</td>\n",
              "      <td>-1.412667</td>\n",
              "      <td>...</td>\n",
              "      <td>0.495953</td>\n",
              "      <td>0.263610</td>\n",
              "      <td>-0.323919</td>\n",
              "      <td>0.192368</td>\n",
              "      <td>-0.204430</td>\n",
              "      <td>0.336483</td>\n",
              "      <td>0.150105</td>\n",
              "      <td>-0.793313</td>\n",
              "      <td>0.132177</td>\n",
              "      <td>0.150516</td>\n",
              "    </tr>\n",
              "    <tr>\n",
              "      <th>sister</th>\n",
              "      <td>0.576540</td>\n",
              "      <td>-0.465227</td>\n",
              "      <td>0.535682</td>\n",
              "      <td>-0.545976</td>\n",
              "      <td>-0.448610</td>\n",
              "      <td>0.020714</td>\n",
              "      <td>0.358624</td>\n",
              "      <td>-0.268761</td>\n",
              "      <td>0.479211</td>\n",
              "      <td>-1.291273</td>\n",
              "      <td>...</td>\n",
              "      <td>0.535700</td>\n",
              "      <td>0.454228</td>\n",
              "      <td>-0.435025</td>\n",
              "      <td>0.260752</td>\n",
              "      <td>-0.201237</td>\n",
              "      <td>0.404509</td>\n",
              "      <td>0.164100</td>\n",
              "      <td>-0.685034</td>\n",
              "      <td>0.050586</td>\n",
              "      <td>0.034387</td>\n",
              "    </tr>\n",
              "    <tr>\n",
              "      <th>nurse</th>\n",
              "      <td>0.387310</td>\n",
              "      <td>-0.770559</td>\n",
              "      <td>0.254229</td>\n",
              "      <td>-0.101708</td>\n",
              "      <td>-0.687913</td>\n",
              "      <td>0.152097</td>\n",
              "      <td>0.214048</td>\n",
              "      <td>-0.085412</td>\n",
              "      <td>-0.032861</td>\n",
              "      <td>-1.365629</td>\n",
              "      <td>...</td>\n",
              "      <td>0.144453</td>\n",
              "      <td>0.229798</td>\n",
              "      <td>-0.158114</td>\n",
              "      <td>0.074284</td>\n",
              "      <td>-0.284130</td>\n",
              "      <td>0.161089</td>\n",
              "      <td>0.406411</td>\n",
              "      <td>-0.243820</td>\n",
              "      <td>0.447955</td>\n",
              "      <td>0.393990</td>\n",
              "    </tr>\n",
              "    <tr>\n",
              "      <th>president</th>\n",
              "      <td>0.378099</td>\n",
              "      <td>-0.714750</td>\n",
              "      <td>0.025341</td>\n",
              "      <td>-0.335549</td>\n",
              "      <td>-0.305372</td>\n",
              "      <td>-0.006030</td>\n",
              "      <td>0.556718</td>\n",
              "      <td>0.353088</td>\n",
              "      <td>-0.164284</td>\n",
              "      <td>-0.889078</td>\n",
              "      <td>...</td>\n",
              "      <td>0.131414</td>\n",
              "      <td>0.734299</td>\n",
              "      <td>-0.102780</td>\n",
              "      <td>-0.173483</td>\n",
              "      <td>-0.124533</td>\n",
              "      <td>0.480740</td>\n",
              "      <td>-0.016584</td>\n",
              "      <td>-0.164770</td>\n",
              "      <td>0.009163</td>\n",
              "      <td>0.110320</td>\n",
              "    </tr>\n",
              "  </tbody>\n",
              "</table>\n",
              "<p>8 rows × 768 columns</p>\n",
              "</div>\n",
              "      <button class=\"colab-df-convert\" onclick=\"convertToInteractive('df-eb14cc40-ce05-48a5-a466-9e6cf9849b04')\"\n",
              "              title=\"Convert this dataframe to an interactive table.\"\n",
              "              style=\"display:none;\">\n",
              "        \n",
              "  <svg xmlns=\"http://www.w3.org/2000/svg\" height=\"24px\"viewBox=\"0 0 24 24\"\n",
              "       width=\"24px\">\n",
              "    <path d=\"M0 0h24v24H0V0z\" fill=\"none\"/>\n",
              "    <path d=\"M18.56 5.44l.94 2.06.94-2.06 2.06-.94-2.06-.94-.94-2.06-.94 2.06-2.06.94zm-11 1L8.5 8.5l.94-2.06 2.06-.94-2.06-.94L8.5 2.5l-.94 2.06-2.06.94zm10 10l.94 2.06.94-2.06 2.06-.94-2.06-.94-.94-2.06-.94 2.06-2.06.94z\"/><path d=\"M17.41 7.96l-1.37-1.37c-.4-.4-.92-.59-1.43-.59-.52 0-1.04.2-1.43.59L10.3 9.45l-7.72 7.72c-.78.78-.78 2.05 0 2.83L4 21.41c.39.39.9.59 1.41.59.51 0 1.02-.2 1.41-.59l7.78-7.78 2.81-2.81c.8-.78.8-2.07 0-2.86zM5.41 20L4 18.59l7.72-7.72 1.47 1.35L5.41 20z\"/>\n",
              "  </svg>\n",
              "      </button>\n",
              "      \n",
              "  <style>\n",
              "    .colab-df-container {\n",
              "      display:flex;\n",
              "      flex-wrap:wrap;\n",
              "      gap: 12px;\n",
              "    }\n",
              "\n",
              "    .colab-df-convert {\n",
              "      background-color: #E8F0FE;\n",
              "      border: none;\n",
              "      border-radius: 50%;\n",
              "      cursor: pointer;\n",
              "      display: none;\n",
              "      fill: #1967D2;\n",
              "      height: 32px;\n",
              "      padding: 0 0 0 0;\n",
              "      width: 32px;\n",
              "    }\n",
              "\n",
              "    .colab-df-convert:hover {\n",
              "      background-color: #E2EBFA;\n",
              "      box-shadow: 0px 1px 2px rgba(60, 64, 67, 0.3), 0px 1px 3px 1px rgba(60, 64, 67, 0.15);\n",
              "      fill: #174EA6;\n",
              "    }\n",
              "\n",
              "    [theme=dark] .colab-df-convert {\n",
              "      background-color: #3B4455;\n",
              "      fill: #D2E3FC;\n",
              "    }\n",
              "\n",
              "    [theme=dark] .colab-df-convert:hover {\n",
              "      background-color: #434B5C;\n",
              "      box-shadow: 0px 1px 3px 1px rgba(0, 0, 0, 0.15);\n",
              "      filter: drop-shadow(0px 1px 2px rgba(0, 0, 0, 0.3));\n",
              "      fill: #FFFFFF;\n",
              "    }\n",
              "  </style>\n",
              "\n",
              "      <script>\n",
              "        const buttonEl =\n",
              "          document.querySelector('#df-eb14cc40-ce05-48a5-a466-9e6cf9849b04 button.colab-df-convert');\n",
              "        buttonEl.style.display =\n",
              "          google.colab.kernel.accessAllowed ? 'block' : 'none';\n",
              "\n",
              "        async function convertToInteractive(key) {\n",
              "          const element = document.querySelector('#df-eb14cc40-ce05-48a5-a466-9e6cf9849b04');\n",
              "          const dataTable =\n",
              "            await google.colab.kernel.invokeFunction('convertToInteractive',\n",
              "                                                     [key], {});\n",
              "          if (!dataTable) return;\n",
              "\n",
              "          const docLinkHtml = 'Like what you see? Visit the ' +\n",
              "            '<a target=\"_blank\" href=https://colab.research.google.com/notebooks/data_table.ipynb>data table notebook</a>'\n",
              "            + ' to learn more about interactive tables.';\n",
              "          element.innerHTML = '';\n",
              "          dataTable['output_type'] = 'display_data';\n",
              "          await google.colab.output.renderOutput(dataTable, element);\n",
              "          const docLink = document.createElement('div');\n",
              "          docLink.innerHTML = docLinkHtml;\n",
              "          element.appendChild(docLink);\n",
              "        }\n",
              "      </script>\n",
              "    </div>\n",
              "  </div>\n",
              "  "
            ],
            "text/plain": [
              "                0         1         2         3         4         5    \\\n",
              "man        0.735702 -0.853751  0.275139 -0.263032 -0.488841  0.154976   \n",
              "woman      0.521913 -0.879266  0.060370 -0.176487 -0.540108  0.215018   \n",
              "mother     0.713956 -0.488438  0.494171 -0.416265 -0.478481  0.221047   \n",
              "father     0.722235 -0.547676  0.605546 -0.388732 -0.474591  0.240334   \n",
              "brother    0.708300 -0.526910  0.619008 -0.661505 -0.375360  0.031324   \n",
              "sister     0.576540 -0.465227  0.535682 -0.545976 -0.448610  0.020714   \n",
              "nurse      0.387310 -0.770559  0.254229 -0.101708 -0.687913  0.152097   \n",
              "president  0.378099 -0.714750  0.025341 -0.335549 -0.305372 -0.006030   \n",
              "\n",
              "                6         7         8         9    ...       758       759  \\\n",
              "man        0.249473 -0.226361  0.004154 -1.102934  ...  0.205677  0.174648   \n",
              "woman      0.111524 -0.278458  0.100437 -1.330511  ...  0.261293  0.335453   \n",
              "mother     0.292241 -0.140585  0.425156 -1.416261  ...  0.517102  0.209877   \n",
              "father     0.223540 -0.117277  0.376108 -1.477076  ...  0.508865  0.226729   \n",
              "brother    0.272441 -0.290881  0.371223 -1.412667  ...  0.495953  0.263610   \n",
              "sister     0.358624 -0.268761  0.479211 -1.291273  ...  0.535700  0.454228   \n",
              "nurse      0.214048 -0.085412 -0.032861 -1.365629  ...  0.144453  0.229798   \n",
              "president  0.556718  0.353088 -0.164284 -0.889078  ...  0.131414  0.734299   \n",
              "\n",
              "                760       761       762       763       764       765  \\\n",
              "man       -0.076789  0.081606 -0.142245 -0.084660  0.468443 -0.400537   \n",
              "woman     -0.051299 -0.008677 -0.197600  0.263881  0.381820 -0.562843   \n",
              "mother    -0.410970  0.034689  0.125349  0.386220  0.458891 -0.249502   \n",
              "father    -0.280439 -0.071649  0.030589  0.359194  0.439264 -0.334525   \n",
              "brother   -0.323919  0.192368 -0.204430  0.336483  0.150105 -0.793313   \n",
              "sister    -0.435025  0.260752 -0.201237  0.404509  0.164100 -0.685034   \n",
              "nurse     -0.158114  0.074284 -0.284130  0.161089  0.406411 -0.243820   \n",
              "president -0.102780 -0.173483 -0.124533  0.480740 -0.016584 -0.164770   \n",
              "\n",
              "                766       767  \n",
              "man        0.378496 -0.058804  \n",
              "woman      0.427173  0.170795  \n",
              "mother     0.183645  0.132165  \n",
              "father     0.222363  0.125289  \n",
              "brother    0.132177  0.150516  \n",
              "sister     0.050586  0.034387  \n",
              "nurse      0.447955  0.393990  \n",
              "president  0.009163  0.110320  \n",
              "\n",
              "[8 rows x 768 columns]"
            ]
          },
          "execution_count": 16,
          "metadata": {},
          "output_type": "execute_result"
        }
      ],
      "source": [
        "# pd.DataFrameに変換\n",
        "embeddings.to_dataframe()"
      ]
    },
    {
      "cell_type": "code",
      "execution_count": 17,
      "metadata": {
        "colab": {
          "base_uri": "https://localhost:8080/"
        },
        "id": "2oWJodzb4wbf",
        "outputId": "0530561d-8951-4869-ed2d-ab2b60fa8ba5"
      },
      "outputs": [
        {
          "data": {
            "text/plain": [
              "array([[ 0.73570228, -0.85375065,  0.27513859, ..., -0.40053657,\n",
              "         0.3784959 , -0.05880415],\n",
              "       [ 0.52191311, -0.8792659 ,  0.06037042, ..., -0.56284267,\n",
              "         0.4271729 ,  0.17079507],\n",
              "       [ 0.71395624, -0.48843792,  0.49417084, ..., -0.24950245,\n",
              "         0.18364537,  0.13216504],\n",
              "       ...,\n",
              "       [ 0.57654035, -0.46522671,  0.53568202, ..., -0.6850341 ,\n",
              "         0.05058642,  0.03438716],\n",
              "       [ 0.38730979, -0.77055883,  0.25422907, ..., -0.24382007,\n",
              "         0.44795531,  0.39399046],\n",
              "       [ 0.37809858, -0.71475035,  0.02534149, ..., -0.16476987,\n",
              "         0.00916275,  0.11032003]])"
            ]
          },
          "execution_count": 17,
          "metadata": {},
          "output_type": "execute_result"
        }
      ],
      "source": [
        "# np.arrayに変換\n",
        "embeddings.to_X()"
      ]
    },
    {
      "cell_type": "code",
      "execution_count": 18,
      "metadata": {
        "colab": {
          "base_uri": "https://localhost:8080/",
          "height": 296
        },
        "id": "LuBSOtQU0r6e",
        "outputId": "a48b7a80-4b04-45c5-ac3c-9f100770b0da"
      },
      "outputs": [
        {
          "data": {
            "text/plain": [
              "EmbSet"
            ]
          },
          "execution_count": 18,
          "metadata": {},
          "output_type": "execute_result"
        },
        {
          "data": {
            "image/png": "[encoded data removed]",
            "text/plain": [
              "<Figure size 432x288 with 1 Axes>"
            ]
          },
          "metadata": {
            "needs_background": "light"
          },
          "output_type": "display_data"
        }
      ],
      "source": [
        "# plotで可視化\n",
        "# Embedding.plotと使い方は同じ\n",
        "embeddings.plot()"
      ]
    },
    {
      "cell_type": "code",
      "execution_count": 20,
      "metadata": {
        "colab": {
          "base_uri": "https://localhost:8080/",
          "height": 255
        },
        "id": "pq11Fivt1jAg",
        "outputId": "dbb91d09-8140-4259-ea62-dce10c4b8f10"
      },
      "outputs": [
        {
          "data": {
            "image/png": "[encoded data removed]",
            "text/plain": [
              "<Figure size 432x288 with 1 Axes>"
            ]
          },
          "metadata": {
            "needs_background": "light"
          },
          "output_type": "display_data"
        }
      ],
      "source": [
        "# 3次元可視化\n",
        "embeddings.plot_3d()\n",
        "plt.show()"
      ]
    },
    {
      "cell_type": "code",
      "execution_count": 21,
      "metadata": {
        "colab": {
          "base_uri": "https://localhost:8080/",
          "height": 384
        },
        "id": "cv50EJo9oBg_",
        "outputId": "643bfd93-711b-4429-ff2c-b6f67978baae"
      },
      "outputs": [
        {
          "data": {
            "text/html": [
              "\n",
              "<div id=\"altair-viz-b3b16ded6ed342ceaab120901137b115\"></div>\n",
              "<script type=\"text/javascript\">\n",
              "  var VEGA_DEBUG = (typeof VEGA_DEBUG == \"undefined\") ? {} : VEGA_DEBUG;\n",
              "  (function(spec, embedOpt){\n",
              "    let outputDiv = document.currentScript.previousElementSibling;\n",
              "    if (outputDiv.id !== \"altair-viz-b3b16ded6ed342ceaab120901137b115\") {\n",
              "      outputDiv = document.getElementById(\"altair-viz-b3b16ded6ed342ceaab120901137b115\");\n",
              "    }\n",
              "    const paths = {\n",
              "      \"vega\": \"https://cdn.jsdelivr.net/npm//vega@5?noext\",\n",
              "      \"vega-lib\": \"https://cdn.jsdelivr.net/npm//vega-lib?noext\",\n",
              "      \"vega-lite\": \"https://cdn.jsdelivr.net/npm//vega-lite@4.17.0?noext\",\n",
              "      \"vega-embed\": \"https://cdn.jsdelivr.net/npm//vega-embed@6?noext\",\n",
              "    };\n",
              "\n",
              "    function maybeLoadScript(lib, version) {\n",
              "      var key = `${lib.replace(\"-\", \"\")}_version`;\n",
              "      return (VEGA_DEBUG[key] == version) ?\n",
              "        Promise.resolve(paths[lib]) :\n",
              "        new Promise(function(resolve, reject) {\n",
              "          var s = document.createElement('script');\n",
              "          document.getElementsByTagName(\"head\")[0].appendChild(s);\n",
              "          s.async = true;\n",
              "          s.onload = () => {\n",
              "            VEGA_DEBUG[key] = version;\n",
              "            return resolve(paths[lib]);\n",
              "          };\n",
              "          s.onerror = () => reject(`Error loading script: ${paths[lib]}`);\n",
              "          s.src = paths[lib];\n",
              "        });\n",
              "    }\n",
              "\n",
              "    function showError(err) {\n",
              "      outputDiv.innerHTML = `<div class=\"error\" style=\"color:red;\">${err}</div>`;\n",
              "      throw err;\n",
              "    }\n",
              "\n",
              "    function displayChart(vegaEmbed) {\n",
              "      vegaEmbed(outputDiv, spec, embedOpt)\n",
              "        .catch(err => showError(`Javascript Error: ${err.message}<br>This usually means there's a typo in your chart specification. See the javascript console for the full traceback.`));\n",
              "    }\n",
              "\n",
              "    if(typeof define === \"function\" && define.amd) {\n",
              "      requirejs.config({paths});\n",
              "      require([\"vega-embed\"], displayChart, err => showError(`Error loading script: ${err.message}`));\n",
              "    } else {\n",
              "      maybeLoadScript(\"vega\", \"5\")\n",
              "        .then(() => maybeLoadScript(\"vega-lite\", \"4.17.0\"))\n",
              "        .then(() => maybeLoadScript(\"vega-embed\", \"6\"))\n",
              "        .catch(showError)\n",
              "        .then(() => displayChart(vegaEmbed));\n",
              "    }\n",
              "  })({\"config\": {\"view\": {\"continuousWidth\": 400, \"continuousHeight\": 300}}, \"layer\": [{\"mark\": {\"type\": \"circle\", \"size\": 60}, \"encoding\": {\"color\": {\"field\": \"\", \"legend\": null, \"type\": \"nominal\"}, \"tooltip\": [{\"field\": \"name\", \"type\": \"nominal\"}, {\"field\": \"original\", \"type\": \"nominal\"}], \"x\": {\"axis\": {\"title\": \"Dimension 0\"}, \"field\": \"x_axis\", \"type\": \"quantitative\"}, \"y\": {\"axis\": {\"title\": \"Dimension 1\"}, \"field\": \"y_axis\", \"type\": \"quantitative\"}}, \"selection\": {\"selector001\": {\"type\": \"interval\", \"bind\": \"scales\", \"encodings\": [\"x\", \"y\"]}}, \"title\": \"Dimension 0 vs. Dimension 1\"}, {\"mark\": {\"type\": \"text\", \"color\": \"black\", \"dx\": -15, \"dy\": 3}, \"encoding\": {\"text\": {\"field\": \"original\", \"type\": \"nominal\"}, \"x\": {\"field\": \"x_axis\", \"type\": \"quantitative\"}, \"y\": {\"field\": \"y_axis\", \"type\": \"quantitative\"}}}], \"data\": {\"name\": \"data-40f5f9fb07fc2c86a15666254b2a29f9\"}, \"$schema\": \"https://vega.github.io/schema/vega-lite/v4.17.0.json\", \"datasets\": {\"data-40f5f9fb07fc2c86a15666254b2a29f9\": [{\"x_axis\": 0.7357022762298584, \"y_axis\": -0.8537506461143494, \"name\": \"man\", \"original\": \"man\"}, {\"x_axis\": 0.5219131112098694, \"y_axis\": -0.8792659044265747, \"name\": \"woman\", \"original\": \"woman\"}, {\"x_axis\": 0.7139562368392944, \"y_axis\": -0.4884379208087921, \"name\": \"mother\", \"original\": \"mother\"}, {\"x_axis\": 0.7222353219985962, \"y_axis\": -0.547676146030426, \"name\": \"father\", \"original\": \"father\"}, {\"x_axis\": 0.7082998752593994, \"y_axis\": -0.526909589767456, \"name\": \"brother\", \"original\": \"brother\"}, {\"x_axis\": 0.5765403509140015, \"y_axis\": -0.4652267098426819, \"name\": \"sister\", \"original\": \"sister\"}, {\"x_axis\": 0.3873097896575928, \"y_axis\": -0.7705588340759277, \"name\": \"nurse\", \"original\": \"nurse\"}, {\"x_axis\": 0.37809857726097107, \"y_axis\": -0.714750349521637, \"name\": \"president\", \"original\": \"president\"}]}}, {\"mode\": \"vega-lite\"});\n",
              "</script>"
            ],
            "text/plain": [
              "alt.LayerChart(...)"
            ]
          },
          "execution_count": 21,
          "metadata": {},
          "output_type": "execute_result"
        }
      ],
      "source": [
        "# x軸を0次元目、y軸を1次元目として可視化\n",
        "embeddings.plot_interactive()"
      ]
    },
    {
      "cell_type": "code",
      "execution_count": 22,
      "metadata": {
        "colab": {
          "base_uri": "https://localhost:8080/",
          "height": 384
        },
        "id": "DHlYx_coxwOi",
        "outputId": "8dc9fba7-b689-43a4-fe7c-94e626eeb32d"
      },
      "outputs": [
        {
          "data": {
            "text/html": [
              "\n",
              "<div id=\"altair-viz-1c6bd547c27247c6beb84db8bbc27c40\"></div>\n",
              "<script type=\"text/javascript\">\n",
              "  var VEGA_DEBUG = (typeof VEGA_DEBUG == \"undefined\") ? {} : VEGA_DEBUG;\n",
              "  (function(spec, embedOpt){\n",
              "    let outputDiv = document.currentScript.previousElementSibling;\n",
              "    if (outputDiv.id !== \"altair-viz-1c6bd547c27247c6beb84db8bbc27c40\") {\n",
              "      outputDiv = document.getElementById(\"altair-viz-1c6bd547c27247c6beb84db8bbc27c40\");\n",
              "    }\n",
              "    const paths = {\n",
              "      \"vega\": \"https://cdn.jsdelivr.net/npm//vega@5?noext\",\n",
              "      \"vega-lib\": \"https://cdn.jsdelivr.net/npm//vega-lib?noext\",\n",
              "      \"vega-lite\": \"https://cdn.jsdelivr.net/npm//vega-lite@4.17.0?noext\",\n",
              "      \"vega-embed\": \"https://cdn.jsdelivr.net/npm//vega-embed@6?noext\",\n",
              "    };\n",
              "\n",
              "    function maybeLoadScript(lib, version) {\n",
              "      var key = `${lib.replace(\"-\", \"\")}_version`;\n",
              "      return (VEGA_DEBUG[key] == version) ?\n",
              "        Promise.resolve(paths[lib]) :\n",
              "        new Promise(function(resolve, reject) {\n",
              "          var s = document.createElement('script');\n",
              "          document.getElementsByTagName(\"head\")[0].appendChild(s);\n",
              "          s.async = true;\n",
              "          s.onload = () => {\n",
              "            VEGA_DEBUG[key] = version;\n",
              "            return resolve(paths[lib]);\n",
              "          };\n",
              "          s.onerror = () => reject(`Error loading script: ${paths[lib]}`);\n",
              "          s.src = paths[lib];\n",
              "        });\n",
              "    }\n",
              "\n",
              "    function showError(err) {\n",
              "      outputDiv.innerHTML = `<div class=\"error\" style=\"color:red;\">${err}</div>`;\n",
              "      throw err;\n",
              "    }\n",
              "\n",
              "    function displayChart(vegaEmbed) {\n",
              "      vegaEmbed(outputDiv, spec, embedOpt)\n",
              "        .catch(err => showError(`Javascript Error: ${err.message}<br>This usually means there's a typo in your chart specification. See the javascript console for the full traceback.`));\n",
              "    }\n",
              "\n",
              "    if(typeof define === \"function\" && define.amd) {\n",
              "      requirejs.config({paths});\n",
              "      require([\"vega-embed\"], displayChart, err => showError(`Error loading script: ${err.message}`));\n",
              "    } else {\n",
              "      maybeLoadScript(\"vega\", \"5\")\n",
              "        .then(() => maybeLoadScript(\"vega-lite\", \"4.17.0\"))\n",
              "        .then(() => maybeLoadScript(\"vega-embed\", \"6\"))\n",
              "        .catch(showError)\n",
              "        .then(() => displayChart(vegaEmbed));\n",
              "    }\n",
              "  })({\"config\": {\"view\": {\"continuousWidth\": 400, \"continuousHeight\": 300}}, \"layer\": [{\"mark\": {\"type\": \"circle\", \"size\": 60}, \"encoding\": {\"color\": {\"field\": \"\", \"legend\": null, \"type\": \"nominal\"}, \"tooltip\": [{\"field\": \"name\", \"type\": \"nominal\"}, {\"field\": \"original\", \"type\": \"nominal\"}], \"x\": {\"axis\": {\"title\": \"man\"}, \"field\": \"x_axis\", \"type\": \"quantitative\"}, \"y\": {\"axis\": {\"title\": \"woman\"}, \"field\": \"y_axis\", \"type\": \"quantitative\"}}, \"selection\": {\"selector002\": {\"type\": \"interval\", \"bind\": \"scales\", \"encodings\": [\"x\", \"y\"]}}, \"title\": \"man vs. woman\"}, {\"mark\": {\"type\": \"text\", \"color\": \"black\", \"dx\": -15, \"dy\": 3}, \"encoding\": {\"text\": {\"field\": \"original\", \"type\": \"nominal\"}, \"x\": {\"field\": \"x_axis\", \"type\": \"quantitative\"}, \"y\": {\"field\": \"y_axis\", \"type\": \"quantitative\"}}}], \"data\": {\"name\": \"data-196a65b2ab21de5658b354f6b51aa5e8\"}, \"$schema\": \"https://vega.github.io/schema/vega-lite/v4.17.0.json\", \"datasets\": {\"data-196a65b2ab21de5658b354f6b51aa5e8\": [{\"x_axis\": 1.0, \"y_axis\": 0.9396546776799455, \"name\": \"man\", \"original\": \"man\"}, {\"x_axis\": 0.995913911481192, \"y_axis\": 1.0, \"name\": \"woman\", \"original\": \"woman\"}, {\"x_axis\": 1.0892026991011066, \"y_axis\": 1.0610361464767952, \"name\": \"mother\", \"original\": \"mother\"}, {\"x_axis\": 1.0969494249110476, \"y_axis\": 1.0611041346145569, \"name\": \"father\", \"original\": \"father\"}, {\"x_axis\": 1.0794658898640843, \"y_axis\": 1.0465325310126046, \"name\": \"brother\", \"original\": \"brother\"}, {\"x_axis\": 1.0677196984390909, \"y_axis\": 1.046230417372799, \"name\": \"sister\", \"original\": \"sister\"}, {\"x_axis\": 1.008089679146498, \"y_axis\": 0.982786803855267, \"name\": \"nurse\", \"original\": \"nurse\"}, {\"x_axis\": 0.8306903224698289, \"y_axis\": 0.8135860362479047, \"name\": \"president\", \"original\": \"president\"}]}}, {\"mode\": \"vega-lite\"});\n",
              "</script>"
            ],
            "text/plain": [
              "alt.LayerChart(...)"
            ]
          },
          "execution_count": 22,
          "metadata": {},
          "output_type": "execute_result"
        }
      ],
      "source": [
        "# x軸をman、y軸をwomanとして可視化\n",
        "embeddings.plot_interactive(\"man\", \"woman\")"
      ]
    },
    {
      "cell_type": "code",
      "execution_count": 23,
      "metadata": {
        "colab": {
          "base_uri": "https://localhost:8080/",
          "height": 386
        },
        "id": "j0K1gsj2sdeK",
        "outputId": "c56f126b-5d0f-458b-a1f5-af49c629eb36"
      },
      "outputs": [
        {
          "data": {
            "text/html": [
              "\n",
              "<div id=\"altair-viz-2ce1c052394c49a1871f004b83dea9cf\"></div>\n",
              "<script type=\"text/javascript\">\n",
              "  var VEGA_DEBUG = (typeof VEGA_DEBUG == \"undefined\") ? {} : VEGA_DEBUG;\n",
              "  (function(spec, embedOpt){\n",
              "    let outputDiv = document.currentScript.previousElementSibling;\n",
              "    if (outputDiv.id !== \"altair-viz-2ce1c052394c49a1871f004b83dea9cf\") {\n",
              "      outputDiv = document.getElementById(\"altair-viz-2ce1c052394c49a1871f004b83dea9cf\");\n",
              "    }\n",
              "    const paths = {\n",
              "      \"vega\": \"https://cdn.jsdelivr.net/npm//vega@5?noext\",\n",
              "      \"vega-lib\": \"https://cdn.jsdelivr.net/npm//vega-lib?noext\",\n",
              "      \"vega-lite\": \"https://cdn.jsdelivr.net/npm//vega-lite@4.17.0?noext\",\n",
              "      \"vega-embed\": \"https://cdn.jsdelivr.net/npm//vega-embed@6?noext\",\n",
              "    };\n",
              "\n",
              "    function maybeLoadScript(lib, version) {\n",
              "      var key = `${lib.replace(\"-\", \"\")}_version`;\n",
              "      return (VEGA_DEBUG[key] == version) ?\n",
              "        Promise.resolve(paths[lib]) :\n",
              "        new Promise(function(resolve, reject) {\n",
              "          var s = document.createElement('script');\n",
              "          document.getElementsByTagName(\"head\")[0].appendChild(s);\n",
              "          s.async = true;\n",
              "          s.onload = () => {\n",
              "            VEGA_DEBUG[key] = version;\n",
              "            return resolve(paths[lib]);\n",
              "          };\n",
              "          s.onerror = () => reject(`Error loading script: ${paths[lib]}`);\n",
              "          s.src = paths[lib];\n",
              "        });\n",
              "    }\n",
              "\n",
              "    function showError(err) {\n",
              "      outputDiv.innerHTML = `<div class=\"error\" style=\"color:red;\">${err}</div>`;\n",
              "      throw err;\n",
              "    }\n",
              "\n",
              "    function displayChart(vegaEmbed) {\n",
              "      vegaEmbed(outputDiv, spec, embedOpt)\n",
              "        .catch(err => showError(`Javascript Error: ${err.message}<br>This usually means there's a typo in your chart specification. See the javascript console for the full traceback.`));\n",
              "    }\n",
              "\n",
              "    if(typeof define === \"function\" && define.amd) {\n",
              "      requirejs.config({paths});\n",
              "      require([\"vega-embed\"], displayChart, err => showError(`Error loading script: ${err.message}`));\n",
              "    } else {\n",
              "      maybeLoadScript(\"vega\", \"5\")\n",
              "        .then(() => maybeLoadScript(\"vega-lite\", \"4.17.0\"))\n",
              "        .then(() => maybeLoadScript(\"vega-embed\", \"6\"))\n",
              "        .catch(showError)\n",
              "        .then(() => displayChart(vegaEmbed));\n",
              "    }\n",
              "  })({\"config\": {\"view\": {\"continuousWidth\": 400, \"continuousHeight\": 300}}, \"hconcat\": [{\"mark\": {\"type\": \"circle\", \"size\": 60}, \"encoding\": {\"color\": {\"field\": \"is_color\", \"type\": \"nominal\"}, \"tooltip\": [{\"field\": \"name\", \"type\": \"nominal\"}, {\"field\": \"original\", \"type\": \"nominal\"}], \"x\": {\"axis\": {\"title\": \"Dimension 0\"}, \"field\": \"x_axis\", \"type\": \"quantitative\"}, \"y\": {\"axis\": {\"title\": \"Dimension 1\"}, \"field\": \"y_axis\", \"type\": \"quantitative\"}}, \"selection\": {\"selector003\": {\"type\": \"interval\", \"on\": \"[mousedown[!event.shiftKey], mouseup] > mousemove\", \"translate\": \"[mousedown[!event.shiftKey], mouseup] > mousemove!\"}}, \"title\": \"Click and Drag Here\"}, {\"mark\": \"text\", \"encoding\": {\"color\": {\"field\": \"is_color\", \"type\": \"nominal\"}, \"text\": {\"field\": \"original\", \"type\": \"nominal\"}, \"y\": {\"axis\": null, \"field\": \"row_number\", \"type\": \"ordinal\"}}, \"title\": \"Text Selection\", \"transform\": [{\"window\": [{\"op\": \"row_number\", \"field\": \"\", \"as\": \"row_number\"}]}, {\"filter\": {\"selection\": \"selector003\"}}, {\"window\": [{\"op\": \"rank\", \"field\": \"row_number\", \"as\": \"rank\"}]}, {\"filter\": \"(datum.rank < 15)\"}], \"width\": 250}], \"data\": {\"name\": \"data-d439ceeed7e2ad4049e12a04767826f9\"}, \"$schema\": \"https://vega.github.io/schema/vega-lite/v4.17.0.json\", \"datasets\": {\"data-d439ceeed7e2ad4049e12a04767826f9\": [{\"x_axis\": 0.7357022762298584, \"y_axis\": -0.8537506461143494, \"name\": \"man\", \"original\": \"man\", \"is_color\": \"\"}, {\"x_axis\": 0.5219131112098694, \"y_axis\": -0.8792659044265747, \"name\": \"woman\", \"original\": \"woman\", \"is_color\": \"\"}, {\"x_axis\": 0.7139562368392944, \"y_axis\": -0.4884379208087921, \"name\": \"mother\", \"original\": \"mother\", \"is_color\": \"\"}, {\"x_axis\": 0.7222353219985962, \"y_axis\": -0.547676146030426, \"name\": \"father\", \"original\": \"father\", \"is_color\": \"\"}, {\"x_axis\": 0.7082998752593994, \"y_axis\": -0.526909589767456, \"name\": \"brother\", \"original\": \"brother\", \"is_color\": \"\"}, {\"x_axis\": 0.5765403509140015, \"y_axis\": -0.4652267098426819, \"name\": \"sister\", \"original\": \"sister\", \"is_color\": \"\"}, {\"x_axis\": 0.3873097896575928, \"y_axis\": -0.7705588340759277, \"name\": \"nurse\", \"original\": \"nurse\", \"is_color\": \"\"}, {\"x_axis\": 0.37809857726097107, \"y_axis\": -0.714750349521637, \"name\": \"president\", \"original\": \"president\", \"is_color\": \"\"}]}}, {\"mode\": \"vega-lite\"});\n",
              "</script>"
            ],
            "text/plain": [
              "alt.HConcatChart(...)"
            ]
          },
          "execution_count": 23,
          "metadata": {},
          "output_type": "execute_result"
        }
      ],
      "source": [
        "# 拡大・縮小・移動ができない代わりに、boxを作成するとその範囲内の単語を表示してくれる\n",
        "embeddings.plot_brush(color=\"is_color\")"
      ]
    },
    {
      "cell_type": "code",
      "execution_count": 24,
      "metadata": {
        "colab": {
          "base_uri": "https://localhost:8080/",
          "height": 306
        },
        "id": "Jv0EiNVysVjo",
        "outputId": "e3ed6bb3-b4f9-46de-9157-c9ee9f81aad0"
      },
      "outputs": [
        {
          "data": {
            "image/png": "[encoded data removed]",
            "text/plain": [
              "<Figure size 432x288 with 2 Axes>"
            ]
          },
          "metadata": {
            "needs_background": "light"
          },
          "output_type": "display_data"
        }
      ],
      "source": [
        "# コサイン類似度\n",
        "embeddings.plot_similarity()"
      ]
    },
    {
      "cell_type": "markdown",
      "metadata": {
        "id": "8T6R3XcMu6Uo"
      },
      "source": [
        "### __次元圧縮__\n",
        "\n",
        "- transformersモジュールに以下のクラスがある\n",
        "\n",
        "    - Pca\n",
        "\n",
        "    - Umap\n",
        "\n",
        "    - Tsne\n",
        "\n",
        "- Embeggings.transformメソッドに引数として入れて使用する\n",
        "\n",
        "    - 返り値はEmbeddings"
      ]
    },
    {
      "cell_type": "code",
      "execution_count": 25,
      "metadata": {
        "colab": {
          "base_uri": "https://localhost:8080/"
        },
        "id": "-hGUFzYVrN22",
        "outputId": "0114df98-8642-4416-dc8d-68158052f588"
      },
      "outputs": [
        {
          "data": {
            "text/plain": [
              "EmbSet.pca_2()"
            ]
          },
          "execution_count": 25,
          "metadata": {},
          "output_type": "execute_result"
        }
      ],
      "source": [
        "# PCA\n",
        "from whatlies.transformers import Pca\n",
        "\n",
        "pca_embeddings = embeddings.transform(Pca(2))\n",
        "pca_embeddings"
      ]
    },
    {
      "cell_type": "code",
      "execution_count": 26,
      "metadata": {
        "colab": {
          "base_uri": "https://localhost:8080/",
          "height": 379
        },
        "id": "toQFAJSU23Eo",
        "outputId": "763e158b-45fa-42ee-d345-e6b4c32f90e0"
      },
      "outputs": [
        {
          "data": {
            "text/html": [
              "\n",
              "<div id=\"altair-viz-ddc486521aed4d30aaf5db2e64ca5a9d\"></div>\n",
              "<script type=\"text/javascript\">\n",
              "  var VEGA_DEBUG = (typeof VEGA_DEBUG == \"undefined\") ? {} : VEGA_DEBUG;\n",
              "  (function(spec, embedOpt){\n",
              "    let outputDiv = document.currentScript.previousElementSibling;\n",
              "    if (outputDiv.id !== \"altair-viz-ddc486521aed4d30aaf5db2e64ca5a9d\") {\n",
              "      outputDiv = document.getElementById(\"altair-viz-ddc486521aed4d30aaf5db2e64ca5a9d\");\n",
              "    }\n",
              "    const paths = {\n",
              "      \"vega\": \"https://cdn.jsdelivr.net/npm//vega@5?noext\",\n",
              "      \"vega-lib\": \"https://cdn.jsdelivr.net/npm//vega-lib?noext\",\n",
              "      \"vega-lite\": \"https://cdn.jsdelivr.net/npm//vega-lite@4.17.0?noext\",\n",
              "      \"vega-embed\": \"https://cdn.jsdelivr.net/npm//vega-embed@6?noext\",\n",
              "    };\n",
              "\n",
              "    function maybeLoadScript(lib, version) {\n",
              "      var key = `${lib.replace(\"-\", \"\")}_version`;\n",
              "      return (VEGA_DEBUG[key] == version) ?\n",
              "        Promise.resolve(paths[lib]) :\n",
              "        new Promise(function(resolve, reject) {\n",
              "          var s = document.createElement('script');\n",
              "          document.getElementsByTagName(\"head\")[0].appendChild(s);\n",
              "          s.async = true;\n",
              "          s.onload = () => {\n",
              "            VEGA_DEBUG[key] = version;\n",
              "            return resolve(paths[lib]);\n",
              "          };\n",
              "          s.onerror = () => reject(`Error loading script: ${paths[lib]}`);\n",
              "          s.src = paths[lib];\n",
              "        });\n",
              "    }\n",
              "\n",
              "    function showError(err) {\n",
              "      outputDiv.innerHTML = `<div class=\"error\" style=\"color:red;\">${err}</div>`;\n",
              "      throw err;\n",
              "    }\n",
              "\n",
              "    function displayChart(vegaEmbed) {\n",
              "      vegaEmbed(outputDiv, spec, embedOpt)\n",
              "        .catch(err => showError(`Javascript Error: ${err.message}<br>This usually means there's a typo in your chart specification. See the javascript console for the full traceback.`));\n",
              "    }\n",
              "\n",
              "    if(typeof define === \"function\" && define.amd) {\n",
              "      requirejs.config({paths});\n",
              "      require([\"vega-embed\"], displayChart, err => showError(`Error loading script: ${err.message}`));\n",
              "    } else {\n",
              "      maybeLoadScript(\"vega\", \"5\")\n",
              "        .then(() => maybeLoadScript(\"vega-lite\", \"4.17.0\"))\n",
              "        .then(() => maybeLoadScript(\"vega-embed\", \"6\"))\n",
              "        .catch(showError)\n",
              "        .then(() => displayChart(vegaEmbed));\n",
              "    }\n",
              "  })({\"config\": {\"view\": {\"continuousWidth\": 400, \"continuousHeight\": 300}}, \"layer\": [{\"mark\": {\"type\": \"circle\", \"size\": 60}, \"encoding\": {\"color\": {\"field\": \"\", \"legend\": null, \"type\": \"nominal\"}, \"tooltip\": [{\"field\": \"name\", \"type\": \"nominal\"}, {\"field\": \"original\", \"type\": \"nominal\"}], \"x\": {\"axis\": {\"title\": \"Dimension 0\"}, \"field\": \"x_axis\", \"type\": \"quantitative\"}, \"y\": {\"axis\": {\"title\": \"Dimension 1\"}, \"field\": \"y_axis\", \"type\": \"quantitative\"}}, \"selection\": {\"selector004\": {\"type\": \"interval\", \"bind\": \"scales\", \"encodings\": [\"x\", \"y\"]}}, \"title\": \"Dimension 0 vs. Dimension 1\"}, {\"mark\": {\"type\": \"text\", \"color\": \"black\", \"dx\": -15, \"dy\": 3}, \"encoding\": {\"text\": {\"field\": \"original\", \"type\": \"nominal\"}, \"x\": {\"field\": \"x_axis\", \"type\": \"quantitative\"}, \"y\": {\"field\": \"y_axis\", \"type\": \"quantitative\"}}}], \"data\": {\"name\": \"data-9e777cd4d35bd30ebe4825803265d739\"}, \"$schema\": \"https://vega.github.io/schema/vega-lite/v4.17.0.json\", \"datasets\": {\"data-9e777cd4d35bd30ebe4825803265d739\": [{\"x_axis\": 2.6504491105507872, \"y_axis\": -2.699399230470466, \"name\": \"man\", \"original\": \"man\"}, {\"x_axis\": 2.5888095696842606, \"y_axis\": -2.5567431142775656, \"name\": \"woman\", \"original\": \"woman\"}, {\"x_axis\": -3.413787021069852, \"y_axis\": 0.162628846753948, \"name\": \"mother\", \"original\": \"mother\"}, {\"x_axis\": -3.7681777968536636, \"y_axis\": 0.39177314355794646, \"name\": \"father\", \"original\": \"father\"}, {\"x_axis\": -2.8233200035142305, \"y_axis\": 1.4631392953889657, \"name\": \"brother\", \"original\": \"brother\"}, {\"x_axis\": -2.7560706567483884, \"y_axis\": 1.379772924006385, \"name\": \"sister\", \"original\": \"sister\"}, {\"x_axis\": 0.35276845331794054, \"y_axis\": -1.527472138034382, \"name\": \"nurse\", \"original\": \"nurse\"}, {\"x_axis\": 7.169328344633149, \"y_axis\": 3.386300273075167, \"name\": \"president\", \"original\": \"president\"}]}}, {\"mode\": \"vega-lite\"});\n",
              "</script>"
            ],
            "text/plain": [
              "alt.LayerChart(...)"
            ]
          },
          "execution_count": 26,
          "metadata": {},
          "output_type": "execute_result"
        }
      ],
      "source": [
        "pca_embeddings.plot_interactive()"
      ]
    },
    {
      "cell_type": "code",
      "execution_count": 27,
      "metadata": {
        "colab": {
          "base_uri": "https://localhost:8080/",
          "height": 944
        },
        "id": "uJMMKpZ5usOi",
        "outputId": "995b9581-5d21-4abd-8337-c98d4000b34b"
      },
      "outputs": [
        {
          "data": {
            "image/png": "[encoded data removed]",
            "text/plain": [
              "<Figure size 288x1152 with 1 Axes>"
            ]
          },
          "metadata": {
            "needs_background": "light"
          },
          "output_type": "display_data"
        }
      ],
      "source": [
        "# 単語ベクトルをピクセル単位で可視化\n",
        "# ある程度次元を減らしてから使うと良い\n",
        "pca_embeddings.plot_pixels()"
      ]
    },
    {
      "cell_type": "code",
      "execution_count": 28,
      "metadata": {
        "colab": {
          "base_uri": "https://localhost:8080/",
          "height": 439
        },
        "id": "qDM__YdFrl4J",
        "outputId": "d04bc088-2081-4a41-aaab-8911c486b07f"
      },
      "outputs": [
        {
          "name": "stderr",
          "output_type": "stream",
          "text": [
            "/usr/local/lib/python3.8/dist-packages/umap/umap_.py:2344: UserWarning: n_neighbors is larger than the dataset size; truncating to X.shape[0] - 1\n",
            "  warn(\n"
          ]
        },
        {
          "data": {
            "text/html": [
              "\n",
              "<div id=\"altair-viz-6296e98d46b84dc3944b9335840c02f0\"></div>\n",
              "<script type=\"text/javascript\">\n",
              "  var VEGA_DEBUG = (typeof VEGA_DEBUG == \"undefined\") ? {} : VEGA_DEBUG;\n",
              "  (function(spec, embedOpt){\n",
              "    let outputDiv = document.currentScript.previousElementSibling;\n",
              "    if (outputDiv.id !== \"altair-viz-6296e98d46b84dc3944b9335840c02f0\") {\n",
              "      outputDiv = document.getElementById(\"altair-viz-6296e98d46b84dc3944b9335840c02f0\");\n",
              "    }\n",
              "    const paths = {\n",
              "      \"vega\": \"https://cdn.jsdelivr.net/npm//vega@5?noext\",\n",
              "      \"vega-lib\": \"https://cdn.jsdelivr.net/npm//vega-lib?noext\",\n",
              "      \"vega-lite\": \"https://cdn.jsdelivr.net/npm//vega-lite@4.17.0?noext\",\n",
              "      \"vega-embed\": \"https://cdn.jsdelivr.net/npm//vega-embed@6?noext\",\n",
              "    };\n",
              "\n",
              "    function maybeLoadScript(lib, version) {\n",
              "      var key = `${lib.replace(\"-\", \"\")}_version`;\n",
              "      return (VEGA_DEBUG[key] == version) ?\n",
              "        Promise.resolve(paths[lib]) :\n",
              "        new Promise(function(resolve, reject) {\n",
              "          var s = document.createElement('script');\n",
              "          document.getElementsByTagName(\"head\")[0].appendChild(s);\n",
              "          s.async = true;\n",
              "          s.onload = () => {\n",
              "            VEGA_DEBUG[key] = version;\n",
              "            return resolve(paths[lib]);\n",
              "          };\n",
              "          s.onerror = () => reject(`Error loading script: ${paths[lib]}`);\n",
              "          s.src = paths[lib];\n",
              "        });\n",
              "    }\n",
              "\n",
              "    function showError(err) {\n",
              "      outputDiv.innerHTML = `<div class=\"error\" style=\"color:red;\">${err}</div>`;\n",
              "      throw err;\n",
              "    }\n",
              "\n",
              "    function displayChart(vegaEmbed) {\n",
              "      vegaEmbed(outputDiv, spec, embedOpt)\n",
              "        .catch(err => showError(`Javascript Error: ${err.message}<br>This usually means there's a typo in your chart specification. See the javascript console for the full traceback.`));\n",
              "    }\n",
              "\n",
              "    if(typeof define === \"function\" && define.amd) {\n",
              "      requirejs.config({paths});\n",
              "      require([\"vega-embed\"], displayChart, err => showError(`Error loading script: ${err.message}`));\n",
              "    } else {\n",
              "      maybeLoadScript(\"vega\", \"5\")\n",
              "        .then(() => maybeLoadScript(\"vega-lite\", \"4.17.0\"))\n",
              "        .then(() => maybeLoadScript(\"vega-embed\", \"6\"))\n",
              "        .catch(showError)\n",
              "        .then(() => displayChart(vegaEmbed));\n",
              "    }\n",
              "  })({\"config\": {\"view\": {\"continuousWidth\": 400, \"continuousHeight\": 300}}, \"layer\": [{\"mark\": {\"type\": \"circle\", \"size\": 60}, \"encoding\": {\"color\": {\"field\": \"\", \"legend\": null, \"type\": \"nominal\"}, \"tooltip\": [{\"field\": \"name\", \"type\": \"nominal\"}, {\"field\": \"original\", \"type\": \"nominal\"}], \"x\": {\"axis\": {\"title\": \"Dimension 0\"}, \"field\": \"x_axis\", \"type\": \"quantitative\"}, \"y\": {\"axis\": {\"title\": \"Dimension 1\"}, \"field\": \"y_axis\", \"type\": \"quantitative\"}}, \"selection\": {\"selector005\": {\"type\": \"interval\", \"bind\": \"scales\", \"encodings\": [\"x\", \"y\"]}}, \"title\": \"Dimension 0 vs. Dimension 1\"}, {\"mark\": {\"type\": \"text\", \"color\": \"black\", \"dx\": -15, \"dy\": 3}, \"encoding\": {\"text\": {\"field\": \"original\", \"type\": \"nominal\"}, \"x\": {\"field\": \"x_axis\", \"type\": \"quantitative\"}, \"y\": {\"field\": \"y_axis\", \"type\": \"quantitative\"}}}], \"data\": {\"name\": \"data-ba1ceea1b8b7b876cabc235949646f0b\"}, \"$schema\": \"https://vega.github.io/schema/vega-lite/v4.17.0.json\", \"datasets\": {\"data-ba1ceea1b8b7b876cabc235949646f0b\": [{\"x_axis\": -2.678985595703125, \"y_axis\": 2.7244954109191895, \"name\": \"man\", \"original\": \"man\"}, {\"x_axis\": -4.024230480194092, \"y_axis\": 3.0624961853027344, \"name\": \"woman\", \"original\": \"woman\"}, {\"x_axis\": -3.021667957305908, \"y_axis\": 1.6619665622711182, \"name\": \"mother\", \"original\": \"mother\"}, {\"x_axis\": -3.315140962600708, \"y_axis\": 0.925134003162384, \"name\": \"father\", \"original\": \"father\"}, {\"x_axis\": -4.144352912902832, \"y_axis\": 1.157353401184082, \"name\": \"brother\", \"original\": \"brother\"}, {\"x_axis\": -4.254897594451904, \"y_axis\": 1.9110116958618164, \"name\": \"sister\", \"original\": \"sister\"}, {\"x_axis\": -3.45672869682312, \"y_axis\": 2.3298444747924805, \"name\": \"nurse\", \"original\": \"nurse\"}, {\"x_axis\": -3.2016124725341797, \"y_axis\": 3.3497908115386963, \"name\": \"president\", \"original\": \"president\"}]}}, {\"mode\": \"vega-lite\"});\n",
              "</script>"
            ],
            "text/plain": [
              "alt.LayerChart(...)"
            ]
          },
          "execution_count": 28,
          "metadata": {},
          "output_type": "execute_result"
        }
      ],
      "source": [
        "# UMAPで可視化\n",
        "from whatlies.transformers import Umap\n",
        "\n",
        "umap_embedding = embeddings.transform(Umap(2))\n",
        "umap_embedding.plot_interactive()"
      ]
    },
    {
      "cell_type": "code",
      "execution_count": 29,
      "metadata": {
        "colab": {
          "base_uri": "https://localhost:8080/",
          "height": 543
        },
        "id": "bga6-zRuvZVz",
        "outputId": "23413e2f-70dc-4c1c-a9f4-f6c0118e3cae"
      },
      "outputs": [
        {
          "name": "stderr",
          "output_type": "stream",
          "text": [
            "/usr/local/lib/python3.8/dist-packages/sklearn/manifold/_t_sne.py:780: FutureWarning: The default initialization in TSNE will change from 'random' to 'pca' in 1.2.\n",
            "  warnings.warn(\n",
            "/usr/local/lib/python3.8/dist-packages/sklearn/manifold/_t_sne.py:790: FutureWarning: The default learning rate in TSNE will change from 200.0 to 'auto' in 1.2.\n",
            "  warnings.warn(\n",
            "/usr/local/lib/python3.8/dist-packages/sklearn/manifold/_t_sne.py:780: FutureWarning: The default initialization in TSNE will change from 'random' to 'pca' in 1.2.\n",
            "  warnings.warn(\n",
            "/usr/local/lib/python3.8/dist-packages/sklearn/manifold/_t_sne.py:790: FutureWarning: The default learning rate in TSNE will change from 200.0 to 'auto' in 1.2.\n",
            "  warnings.warn(\n"
          ]
        },
        {
          "data": {
            "text/html": [
              "\n",
              "<div id=\"altair-viz-27e01e0d4b7742f39881aa463aef86f6\"></div>\n",
              "<script type=\"text/javascript\">\n",
              "  var VEGA_DEBUG = (typeof VEGA_DEBUG == \"undefined\") ? {} : VEGA_DEBUG;\n",
              "  (function(spec, embedOpt){\n",
              "    let outputDiv = document.currentScript.previousElementSibling;\n",
              "    if (outputDiv.id !== \"altair-viz-27e01e0d4b7742f39881aa463aef86f6\") {\n",
              "      outputDiv = document.getElementById(\"altair-viz-27e01e0d4b7742f39881aa463aef86f6\");\n",
              "    }\n",
              "    const paths = {\n",
              "      \"vega\": \"https://cdn.jsdelivr.net/npm//vega@5?noext\",\n",
              "      \"vega-lib\": \"https://cdn.jsdelivr.net/npm//vega-lib?noext\",\n",
              "      \"vega-lite\": \"https://cdn.jsdelivr.net/npm//vega-lite@4.17.0?noext\",\n",
              "      \"vega-embed\": \"https://cdn.jsdelivr.net/npm//vega-embed@6?noext\",\n",
              "    };\n",
              "\n",
              "    function maybeLoadScript(lib, version) {\n",
              "      var key = `${lib.replace(\"-\", \"\")}_version`;\n",
              "      return (VEGA_DEBUG[key] == version) ?\n",
              "        Promise.resolve(paths[lib]) :\n",
              "        new Promise(function(resolve, reject) {\n",
              "          var s = document.createElement('script');\n",
              "          document.getElementsByTagName(\"head\")[0].appendChild(s);\n",
              "          s.async = true;\n",
              "          s.onload = () => {\n",
              "            VEGA_DEBUG[key] = version;\n",
              "            return resolve(paths[lib]);\n",
              "          };\n",
              "          s.onerror = () => reject(`Error loading script: ${paths[lib]}`);\n",
              "          s.src = paths[lib];\n",
              "        });\n",
              "    }\n",
              "\n",
              "    function showError(err) {\n",
              "      outputDiv.innerHTML = `<div class=\"error\" style=\"color:red;\">${err}</div>`;\n",
              "      throw err;\n",
              "    }\n",
              "\n",
              "    function displayChart(vegaEmbed) {\n",
              "      vegaEmbed(outputDiv, spec, embedOpt)\n",
              "        .catch(err => showError(`Javascript Error: ${err.message}<br>This usually means there's a typo in your chart specification. See the javascript console for the full traceback.`));\n",
              "    }\n",
              "\n",
              "    if(typeof define === \"function\" && define.amd) {\n",
              "      requirejs.config({paths});\n",
              "      require([\"vega-embed\"], displayChart, err => showError(`Error loading script: ${err.message}`));\n",
              "    } else {\n",
              "      maybeLoadScript(\"vega\", \"5\")\n",
              "        .then(() => maybeLoadScript(\"vega-lite\", \"4.17.0\"))\n",
              "        .then(() => maybeLoadScript(\"vega-embed\", \"6\"))\n",
              "        .catch(showError)\n",
              "        .then(() => displayChart(vegaEmbed));\n",
              "    }\n",
              "  })({\"config\": {\"view\": {\"continuousWidth\": 400, \"continuousHeight\": 300}}, \"layer\": [{\"mark\": {\"type\": \"circle\", \"size\": 60}, \"encoding\": {\"color\": {\"field\": \"\", \"legend\": null, \"type\": \"nominal\"}, \"tooltip\": [{\"field\": \"name\", \"type\": \"nominal\"}, {\"field\": \"original\", \"type\": \"nominal\"}], \"x\": {\"axis\": {\"title\": \"Dimension 0\"}, \"field\": \"x_axis\", \"type\": \"quantitative\"}, \"y\": {\"axis\": {\"title\": \"Dimension 1\"}, \"field\": \"y_axis\", \"type\": \"quantitative\"}}, \"selection\": {\"selector006\": {\"type\": \"interval\", \"bind\": \"scales\", \"encodings\": [\"x\", \"y\"]}}, \"title\": \"Dimension 0 vs. Dimension 1\"}, {\"mark\": {\"type\": \"text\", \"color\": \"black\", \"dx\": -15, \"dy\": 3}, \"encoding\": {\"text\": {\"field\": \"original\", \"type\": \"nominal\"}, \"x\": {\"field\": \"x_axis\", \"type\": \"quantitative\"}, \"y\": {\"field\": \"y_axis\", \"type\": \"quantitative\"}}}], \"data\": {\"name\": \"data-519e222d9f0ee64e9a3a99dc909948a5\"}, \"$schema\": \"https://vega.github.io/schema/vega-lite/v4.17.0.json\", \"datasets\": {\"data-519e222d9f0ee64e9a3a99dc909948a5\": [{\"x_axis\": 140.15826416015625, \"y_axis\": -41.87477111816406, \"name\": \"man\", \"original\": \"man\"}, {\"x_axis\": -45.166255950927734, \"y_axis\": -49.69305419921875, \"name\": \"woman\", \"original\": \"woman\"}, {\"x_axis\": 91.45297241210938, \"y_axis\": -108.52542114257812, \"name\": \"mother\", \"original\": \"mother\"}, {\"x_axis\": 46.602577209472656, \"y_axis\": -24.63428497314453, \"name\": \"father\", \"original\": \"father\"}, {\"x_axis\": -30.206148147583008, \"y_axis\": 31.49007797241211, \"name\": \"brother\", \"original\": \"brother\"}, {\"x_axis\": 8.976412773132324, \"y_axis\": -112.00753021240234, \"name\": \"sister\", \"original\": \"sister\"}, {\"x_axis\": 42.592613220214844, \"y_axis\": 70.4115219116211, \"name\": \"nurse\", \"original\": \"nurse\"}, {\"x_axis\": 118.41035461425781, \"y_axis\": 37.759098052978516, \"name\": \"president\", \"original\": \"president\"}]}}, {\"mode\": \"vega-lite\"});\n",
              "</script>"
            ],
            "text/plain": [
              "alt.LayerChart(...)"
            ]
          },
          "execution_count": 29,
          "metadata": {},
          "output_type": "execute_result"
        }
      ],
      "source": [
        "# t-SNEで可視化\n",
        "from whatlies.transformers import Tsne\n",
        "\n",
        "tsne_embedding = embeddings.transform(Tsne(2))\n",
        "tsne_embedding.plot_interactive()"
      ]
    }
  ],
  "metadata": {
    "colab": {
      "provenance": []
    },
    "kernelspec": {
      "display_name": "Python 3",
      "language": "python",
      "name": "python3"
    },
    "language_info": {
      "name": "python",
      "version": "3.10.2 (v3.10.2:a58ebcc701, Jan 13 2022, 14:50:16) [Clang 13.0.0 (clang-1300.0.29.30)]"
    },
    "vscode": {
      "interpreter": {
        "hash": "aee8b7b246df8f9039afb4144a1f6fd8d2ca17a180786b69acc140d282b71a49"
      }
    }
  },
  "nbformat": 4,
  "nbformat_minor": 0
}
