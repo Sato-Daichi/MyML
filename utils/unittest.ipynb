{
  "cells": [
    {
      "cell_type": "markdown",
      "metadata": {
        "id": "OGdhALgi11qZ"
      },
      "source": [
        "## __単体テストの方法__"
      ]
    },
    {
      "cell_type": "markdown",
      "metadata": {
        "id": "HquSKqiB5VNp"
      },
      "source": [
        "### __準備__"
      ]
    },
    {
      "cell_type": "code",
      "execution_count": 1,
      "metadata": {
        "id": "ZcNyTWIK1y5v"
      },
      "outputs": [],
      "source": [
        "import unittest # 標準ライブラリ"
      ]
    },
    {
      "cell_type": "code",
      "execution_count": 2,
      "metadata": {
        "id": "cA3YQKmR2qUz"
      },
      "outputs": [],
      "source": [
        "# テストしたい関数\n",
        "\n",
        "def add(a, b):\n",
        "    return a + b"
      ]
    },
    {
      "cell_type": "markdown",
      "metadata": {
        "id": "bZpk3Y-K5MUh"
      },
      "source": [
        "### __unittestの使い方__\n",
        "\n",
        "1. `unittest.TestCase`を継承したクラスの中にテストを書く\n",
        "\n",
        "2. テストの関数名は`test`で始める\n",
        "\n",
        "3. `self.assertEqual()`などのように、unittestで用意されている判定法を使う\n",
        "\n"
      ]
    },
    {
      "cell_type": "code",
      "execution_count": 3,
      "metadata": {
        "id": "D6pyV3qC11Q0"
      },
      "outputs": [],
      "source": [
        "# テストケース\n",
        "# クラス名は自由\n",
        "\n",
        "class AddTest(unittest.TestCase):\n",
        "    def test_add(self):\n",
        "        result = add(1, 2)\n",
        "        self.assertEqual(result, 3)"
      ]
    },
    {
      "cell_type": "markdown",
      "metadata": {
        "id": "yW2KajKp4r4g"
      },
      "source": [
        "pyファイルを実行することでunittestを実行できるので、テストしたい関数とテストケースを`test.py`に書き込む\n",
        "\n",
        "uniitestはNotebookでは基本的に使う場面がない"
      ]
    },
    {
      "cell_type": "markdown",
      "metadata": {},
      "source": [
        "### __成功例__"
      ]
    },
    {
      "cell_type": "code",
      "execution_count": 4,
      "metadata": {
        "colab": {
          "base_uri": "https://localhost:8080/"
        },
        "id": "2JdQjqCv23Il",
        "outputId": "ddaa03f0-2ffd-4a97-d985-5f6c4224bb83"
      },
      "outputs": [
        {
          "name": "stdout",
          "output_type": "stream",
          "text": [
            "Writing test_success.py\n"
          ]
        }
      ],
      "source": [
        "%%writefile test_success.py\n",
        "import unittest\n",
        "\n",
        "# テストしたい関数\n",
        "\n",
        "def add(a, b):\n",
        "    return a + b\n",
        "\n",
        "class AddTest(unittest.TestCase):\n",
        "    def test_add1(self):\n",
        "        result = add(1, 2)\n",
        "        self.assertEqual(result, 3)\n",
        "    def test_add2(self):\n",
        "        result = add(2, 3)\n",
        "        self.assertEqual(result, 5)\n",
        "\n",
        "if __name__ == \"__main__\":\n",
        "    unittest.main()"
      ]
    },
    {
      "cell_type": "code",
      "execution_count": 5,
      "metadata": {
        "colab": {
          "base_uri": "https://localhost:8080/"
        },
        "id": "9UZtvbxk3Ezz",
        "outputId": "279d0e9a-f194-4497-d5ae-374855ae31ca"
      },
      "outputs": [
        {
          "name": "stdout",
          "output_type": "stream",
          "text": [
            "..\n",
            "----------------------------------------------------------------------\n",
            "Ran 2 tests in 0.000s\n",
            "\n",
            "OK\n"
          ]
        }
      ],
      "source": [
        "# 実行\n",
        "!python test_success.py"
      ]
    },
    {
      "cell_type": "markdown",
      "metadata": {},
      "source": [
        "### __失敗例__"
      ]
    },
    {
      "cell_type": "code",
      "execution_count": 6,
      "metadata": {
        "colab": {
          "base_uri": "https://localhost:8080/"
        },
        "id": "HekcFsQb4-e1",
        "outputId": "e46f6aac-0efe-48ba-fce2-caf6d2cbe7cf"
      },
      "outputs": [
        {
          "name": "stdout",
          "output_type": "stream",
          "text": [
            "Writing test_fail.py\n"
          ]
        }
      ],
      "source": [
        "%%writefile test_fail.py\n",
        "import unittest\n",
        "\n",
        "# テストしたい関数\n",
        "\n",
        "def add(a, b):\n",
        "    return a + b\n",
        "\n",
        "class AddTest(unittest.TestCase):\n",
        "    def test_add1(self):\n",
        "        result = add(1, 2)\n",
        "        self.assertEqual(result, 3)\n",
        "    def test_add2(self):\n",
        "        result = add(2, 3)\n",
        "        self.assertEqual(result, 0) # FAIL\n",
        "\n",
        "if __name__ == \"__main__\":\n",
        "    unittest.main()"
      ]
    },
    {
      "cell_type": "code",
      "execution_count": 7,
      "metadata": {
        "colab": {
          "base_uri": "https://localhost:8080/"
        },
        "id": "8JTVQPs-6UoH",
        "outputId": "ad6960ec-8129-4212-c784-506ad5ea8f6b"
      },
      "outputs": [
        {
          "name": "stdout",
          "output_type": "stream",
          "text": [
            ".F\n",
            "======================================================================\n",
            "FAIL: test_add2 (__main__.AddTest)\n",
            "----------------------------------------------------------------------\n",
            "Traceback (most recent call last):\n",
            "  File \"test_fail.py\", line 14, in test_add2\n",
            "    self.assertEqual(result, 0)\n",
            "AssertionError: 5 != 0\n",
            "\n",
            "----------------------------------------------------------------------\n",
            "Ran 2 tests in 0.000s\n",
            "\n",
            "FAILED (failures=1)\n"
          ]
        }
      ],
      "source": [
        "# 実行\n",
        "!python test_fail.py"
      ]
    },
    {
      "cell_type": "code",
      "execution_count": 7,
      "metadata": {
        "id": "NpcLNJN06XmY"
      },
      "outputs": [],
      "source": []
    }
  ],
  "metadata": {
    "colab": {
      "collapsed_sections": [],
      "provenance": []
    },
    "kernelspec": {
      "display_name": "Python 3.10.2 64-bit",
      "language": "python",
      "name": "python3"
    },
    "language_info": {
      "name": "python",
      "version": "3.10.2"
    },
    "vscode": {
      "interpreter": {
        "hash": "aee8b7b246df8f9039afb4144a1f6fd8d2ca17a180786b69acc140d282b71a49"
      }
    }
  },
  "nbformat": 4,
  "nbformat_minor": 0
}
