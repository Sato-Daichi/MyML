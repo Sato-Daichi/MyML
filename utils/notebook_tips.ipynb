{
  "cells": [
    {
      "cell_type": "markdown",
      "metadata": {
        "id": "xI-MoB3cRBoQ"
      },
      "source": [
        "## __NotebookのTips__\n",
        "\n",
        "Notebookでよく使う機能やTipsをまとめる"
      ]
    },
    {
      "cell_type": "markdown",
      "metadata": {
        "id": "gqGMAoMKU7RD"
      },
      "source": [
        "### __マジックコマンド__"
      ]
    },
    {
      "cell_type": "code",
      "execution_count": null,
      "metadata": {
        "id": "JAEAamZ4RUsT"
      },
      "outputs": [],
      "source": [
        "# ファイルの書き込み\n",
        "\n",
        "%%writefile sample.py\n",
        "\n",
        "import numpy as np\n",
        "import pandas as pd"
      ]
    },
    {
      "cell_type": "markdown",
      "metadata": {
        "id": "Hr2Um667VPhn"
      },
      "source": [
        "### __シェルコマンド__"
      ]
    },
    {
      "cell_type": "markdown",
      "metadata": {
        "id": "giDXrmkfWCJp"
      },
      "source": [
        "__`nvidia-smi`コマンド__\n",
        "\n",
        "- NVIDIA System Management Interfaceの略\n",
        "\n",
        "- GPUの情報を確認できる\n",
        "\n",
        "- 表示される情報例\n",
        "\n",
        "    - Nvidia ドライバのバージョン (Driver Version)\n",
        "\n",
        "    - CUDA のバージョン (CUDA Version)\n",
        "    \n",
        "    - GPU の種類 (GPU Name)\n",
        "    \n",
        "    - GPU のファンの回転率 (Fan)\n",
        "    \n",
        "    - GPU の温度 (Temp)\n",
        "    \n",
        "    - 電源使用量 (Pwr:Usage/Cap)"
      ]
    },
    {
      "cell_type": "code",
      "execution_count": 1,
      "metadata": {
        "colab": {
          "base_uri": "https://localhost:8080/"
        },
        "id": "bTPx4g1CSzQ_",
        "outputId": "32691aeb-fb34-41b0-c979-1647d3ad0548"
      },
      "outputs": [
        {
          "name": "stdout",
          "output_type": "stream",
          "text": [
            "Sun Oct 23 14:48:28 2022       \n",
            "+-----------------------------------------------------------------------------+\n",
            "| NVIDIA-SMI 460.32.03    Driver Version: 460.32.03    CUDA Version: 11.2     |\n",
            "|-------------------------------+----------------------+----------------------+\n",
            "| GPU  Name        Persistence-M| Bus-Id        Disp.A | Volatile Uncorr. ECC |\n",
            "| Fan  Temp  Perf  Pwr:Usage/Cap|         Memory-Usage | GPU-Util  Compute M. |\n",
            "|                               |                      |               MIG M. |\n",
            "|===============================+======================+======================|\n",
            "|   0  Tesla T4            Off  | 00000000:00:04.0 Off |                    0 |\n",
            "| N/A   36C    P8     9W /  70W |      0MiB / 15109MiB |      0%      Default |\n",
            "|                               |                      |                  N/A |\n",
            "+-------------------------------+----------------------+----------------------+\n",
            "                                                                               \n",
            "+-----------------------------------------------------------------------------+\n",
            "| Processes:                                                                  |\n",
            "|  GPU   GI   CI        PID   Type   Process name                  GPU Memory |\n",
            "|        ID   ID                                                   Usage      |\n",
            "|=============================================================================|\n",
            "|  No running processes found                                                 |\n",
            "+-----------------------------------------------------------------------------+\n"
          ]
        }
      ],
      "source": [
        "!nvidia-smi"
      ]
    },
    {
      "cell_type": "markdown",
      "metadata": {
        "id": "XSQl6tX3VyGa"
      },
      "source": [
        "__`wget`コマンド__\n",
        "\n",
        "- Web上のファイルやHTMLファイルをダウンロードする\n",
        "\n",
        "- `wget URL`で使う\n",
        "\n",
        "- デフォルトではカレントディレクトリに保存される\n",
        "\n",
        "- オプション\n",
        "\n",
        "    - `-P ディレクトリ名`: 保存先を指定"
      ]
    },
    {
      "cell_type": "code",
      "execution_count": 3,
      "metadata": {
        "colab": {
          "base_uri": "https://localhost:8080/"
        },
        "id": "xQA-EgeLVW0Z",
        "outputId": "220568af-9909-4488-9055-470a7f3da3c7"
      },
      "outputs": [
        {
          "name": "stdout",
          "output_type": "stream",
          "text": [
            "--2022-10-23 15:22:35--  https://www.google.com/\n",
            "Resolving www.google.com (www.google.com)... 74.125.197.103, 74.125.197.104, 74.125.197.99, ...\n",
            "Connecting to www.google.com (www.google.com)|74.125.197.103|:443... connected.\n",
            "HTTP request sent, awaiting response... 200 OK\n",
            "Length: unspecified [text/html]\n",
            "Saving to: ‘index.html’\n",
            "\n",
            "\rindex.html              [<=>                 ]       0  --.-KB/s               \rindex.html              [ <=>                ]  13.73K  --.-KB/s    in 0s      \n",
            "\n",
            "2022-10-23 15:22:35 (48.5 MB/s) - ‘index.html’ saved [14062]\n",
            "\n"
          ]
        }
      ],
      "source": [
        "!wget https://www.google.com/"
      ]
    },
    {
      "cell_type": "markdown",
      "metadata": {
        "id": "42M7sFw6YSNr"
      },
      "source": [
        "__`unzip`コマンド__\n",
        "\n",
        "- ZIP形式のファイルを解凍する\n",
        "\n",
        "- `unzip ファイルパス`で使う\n",
        "\n",
        "- オプション\n",
        "\n",
        "    - `-o`: ファイルを確認なしに上書き\n",
        "\n",
        "    - `-d ディレクトリ`: 指定したディレクトリに展開する"
      ]
    },
    {
      "cell_type": "markdown",
      "metadata": {
        "id": "GKsXpb7DbeaI"
      },
      "source": [
        "__出力を減らす方法__\n",
        "\n",
        "- `%%capture`\n",
        "\n",
        "- `-q`または`--quiet`オプション\n",
        "\n",
        "- `| tail -n 1`で最後の1行だけ表示\n",
        "\n",
        "- `a = !unzip xxx.zip`のように変数に代入する\n"
      ]
    },
    {
      "cell_type": "markdown",
      "metadata": {
        "id": "CH_tjdfrVTHo"
      },
      "source": [
        "### __その他__"
      ]
    },
    {
      "cell_type": "code",
      "execution_count": null,
      "metadata": {
        "id": "jeIyfFFxS7NS"
      },
      "outputs": [],
      "source": [
        "# Google Driveのマウント\n",
        "\n",
        "from google.colab import drive\n",
        "drive.mount('/content/drive')"
      ]
    },
    {
      "cell_type": "markdown",
      "metadata": {
        "id": "LV9W44ekPT3v"
      },
      "source": [
        "「Open in Colab」のボタンは、次のMarkdownで作成できる\n",
        "\n",
        "Githubに上げる際に使うと良さそう\n",
        "\n",
        "```markdown\n",
        "[![Open In Colab](https://colab.research.google.com/assets/colab-badge.svg)](リンク)\n",
        "```\n",
        "\n",
        "[![Open In Colab](https://colab.research.google.com/assets/colab-badge.svg)](https://github.com/encyclo-ut/MyML)"
      ]
    }
  ],
  "metadata": {
    "colab": {
      "collapsed_sections": [],
      "provenance": []
    },
    "kernelspec": {
      "display_name": "Python 3",
      "name": "python3"
    },
    "language_info": {
      "name": "python"
    }
  },
  "nbformat": 4,
  "nbformat_minor": 0
}
