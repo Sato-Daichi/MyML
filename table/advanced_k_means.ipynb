{
  "nbformat": 4,
  "nbformat_minor": 0,
  "metadata": {
    "colab": {
      "provenance": []
    },
    "kernelspec": {
      "name": "python3",
      "display_name": "Python 3"
    },
    "language_info": {
      "name": "python"
    }
  },
  "cells": [
    {
      "cell_type": "markdown",
      "source": [
        "## __k-means法の発展的手法__\n",
        "\n",
        "- 手法\n",
        "\n",
        "    - k-means++\n",
        "\n",
        "    - k-medoids\n",
        "\n",
        "    - x-means\n",
        "\n",
        "    - g-means など\n",
        "\n",
        "- 実装\n",
        "\n",
        "    - PyClusteringというライブラリを使用"
      ],
      "metadata": {
        "id": "gpx7DNmmmHe8"
      }
    },
    {
      "cell_type": "markdown",
      "source": [
        "### __準備__"
      ],
      "metadata": {
        "id": "7pcz1gzS0csC"
      }
    },
    {
      "cell_type": "code",
      "source": [
        "!pip install pyclustering | tail -n 1"
      ],
      "metadata": {
        "colab": {
          "base_uri": "https://localhost:8080/"
        },
        "id": "JrO1s5ljnjoA",
        "outputId": "035cea21-3392-4a32-8ddf-6c849d13158f"
      },
      "execution_count": 1,
      "outputs": [
        {
          "output_type": "stream",
          "name": "stdout",
          "text": [
            "Successfully installed pyclustering-0.10.1.2\n"
          ]
        }
      ]
    },
    {
      "cell_type": "code",
      "execution_count": 2,
      "metadata": {
        "colab": {
          "base_uri": "https://localhost:8080/"
        },
        "id": "9VW_REwTljYD",
        "outputId": "3878fbf1-914b-43b6-d782-9d1a21176a16"
      },
      "outputs": [
        {
          "output_type": "execute_result",
          "data": {
            "text/plain": [
              "(178, 13)"
            ]
          },
          "metadata": {},
          "execution_count": 2
        }
      ],
      "source": [
        "import numpy as np\n",
        "import pandas as pd\n",
        "import matplotlib.pyplot as plt\n",
        "from sklearn.decomposition import PCA\n",
        "from sklearn.datasets import load_wine\n",
        "from pyclustering.cluster import cluster_visualizer\n",
        "\n",
        "# ワインデータ\n",
        "x = load_wine().data\n",
        "x.shape"
      ]
    },
    {
      "cell_type": "code",
      "source": [
        "# 可視化用にPCAで次元削減したデータも用意\n",
        "pca = PCA(n_components=2)\n",
        "x_2dim = pca.fit_transform(x)\n",
        "\n",
        "# サイズ\n",
        "print(x_2dim.shape)\n",
        "\n",
        "# データの情報保持率\n",
        "pca.explained_variance_ratio_"
      ],
      "metadata": {
        "colab": {
          "base_uri": "https://localhost:8080/"
        },
        "id": "hpyuWvIi6JGQ",
        "outputId": "4200796a-86d2-468d-ddf2-f37474c770fd"
      },
      "execution_count": 3,
      "outputs": [
        {
          "output_type": "stream",
          "name": "stdout",
          "text": [
            "(178, 2)\n"
          ]
        },
        {
          "output_type": "execute_result",
          "data": {
            "text/plain": [
              "array([0.99809123, 0.00173592])"
            ]
          },
          "metadata": {},
          "execution_count": 3
        }
      ]
    },
    {
      "cell_type": "markdown",
      "source": [
        "### __Pyclusteringでクラスタリング__\n",
        "\n",
        "- [Github](https://pyclustering.github.io/docs/0.9.0/html/d1/d2a/namespacepyclustering_1_1cluster.html)\n",
        "\n",
        "- 基本的な使い方\n",
        "\n",
        "    1.  `from pyclustering.cluster.〇〇 import 〇〇`でインポート\n",
        "\n",
        "    2. インスタンス化\n",
        "\n",
        "    3. `.process()`で実行\n",
        "\n",
        "    4. `.predict()`か`.get_clusters()`で推論\n",
        "\n",
        "    5. `cluster_visualizer()`で可視化"
      ],
      "metadata": {
        "id": "xB4DU0vR7gku"
      }
    },
    {
      "cell_type": "markdown",
      "source": [
        "### __k-means++__\n",
        "\n",
        "- k-meansの初期値の選び方を変えただけ\n",
        "\n",
        "- 初期値が互いに遠く離れるように選ぶ\n",
        "\n",
        "- `pyclustering.cluster.center_initializer.kmeans_plusplus_initializer`で実装\n",
        "\n",
        "- 初期値の選び方だけ異なるので、他の発展的手法にも使える"
      ],
      "metadata": {
        "id": "9xJGqFPCD21F"
      }
    },
    {
      "cell_type": "code",
      "source": [
        "from pyclustering.cluster.center_initializer import kmeans_plusplus_initializer\n",
        "\n",
        "k = 3 # クラスタ数\n",
        "initial_centers = kmeans_plusplus_initializer(x, k).initialize()\n",
        "initial_centers"
      ],
      "metadata": {
        "colab": {
          "base_uri": "https://localhost:8080/"
        },
        "id": "CE5W5mwdD2mG",
        "outputId": "b2f7a507-4d40-4b59-be79-eb03c413c595"
      },
      "execution_count": 4,
      "outputs": [
        {
          "output_type": "execute_result",
          "data": {
            "text/plain": [
              "[array([1.27e+01, 3.87e+00, 2.40e+00, 2.30e+01, 1.01e+02, 2.83e+00,\n",
              "        2.55e+00, 4.30e-01, 1.95e+00, 2.57e+00, 1.19e+00, 3.13e+00,\n",
              "        4.63e+02]),\n",
              " array([1.377e+01, 1.900e+00, 2.680e+00, 1.710e+01, 1.150e+02, 3.000e+00,\n",
              "        2.790e+00, 3.900e-01, 1.680e+00, 6.300e+00, 1.130e+00, 2.930e+00,\n",
              "        1.375e+03]),\n",
              " array([1.245e+01, 3.030e+00, 2.640e+00, 2.700e+01, 9.700e+01, 1.900e+00,\n",
              "        5.800e-01, 6.300e-01, 1.140e+00, 7.500e+00, 6.700e-01, 1.730e+00,\n",
              "        8.800e+02])]"
            ]
          },
          "metadata": {},
          "execution_count": 4
        }
      ]
    },
    {
      "cell_type": "markdown",
      "source": [
        "### __k-medoids__\n",
        "\n",
        "- 外れ値に強い\n",
        "\n",
        "- k-means法では重心を計算するため、外れ値に弱いという問題がある\n"
      ],
      "metadata": {
        "id": "Zbo-B2TP0Ymd"
      }
    },
    {
      "cell_type": "code",
      "source": [
        "from pyclustering.cluster.kmedoids import kmedoids\n",
        "\n",
        "# 初期値をランダムに決定\n",
        "initial_medoids = np.random.randint(len(x), size=3)\n",
        "\n",
        "# インスタンス化\n",
        "kmedoids_instance = kmedoids(x, initial_medoids)\n",
        "\n",
        "# 実行\n",
        "kmedoids_instance.process()\n",
        "\n",
        "# 推論\n",
        "cluster_labels = kmedoids_instance.predict(x)\n",
        "cluster_labels"
      ],
      "metadata": {
        "colab": {
          "base_uri": "https://localhost:8080/"
        },
        "id": "JvWolI14zwYY",
        "outputId": "412dc539-badd-42ed-f4b2-ceea6b400378"
      },
      "execution_count": 5,
      "outputs": [
        {
          "output_type": "execute_result",
          "data": {
            "text/plain": [
              "array([1, 1, 1, 1, 0, 1, 1, 1, 1, 1, 1, 1, 1, 1, 1, 1, 1, 1, 1, 0, 0, 0,\n",
              "       1, 1, 0, 0, 1, 1, 0, 1, 1, 1, 1, 1, 1, 0, 0, 1, 1, 0, 0, 1, 1, 0,\n",
              "       0, 1, 1, 1, 1, 1, 1, 1, 1, 1, 1, 1, 1, 1, 1, 2, 0, 2, 0, 2, 2, 0,\n",
              "       2, 2, 0, 0, 0, 2, 2, 1, 0, 2, 2, 2, 0, 2, 2, 0, 0, 2, 2, 2, 2, 2,\n",
              "       0, 0, 2, 2, 2, 2, 2, 0, 0, 2, 0, 2, 0, 2, 2, 2, 0, 2, 2, 2, 2, 0,\n",
              "       2, 2, 0, 2, 2, 2, 2, 2, 2, 2, 0, 2, 2, 2, 2, 2, 2, 2, 2, 2, 0, 2,\n",
              "       2, 0, 0, 0, 0, 2, 2, 0, 0, 0, 2, 2, 0, 0, 2, 0, 0, 2, 2, 2, 2, 0,\n",
              "       0, 0, 2, 0, 0, 0, 2, 0, 2, 0, 0, 2, 0, 0, 0, 0, 2, 2, 0, 0, 0, 0,\n",
              "       0, 2])"
            ]
          },
          "metadata": {},
          "execution_count": 5
        }
      ]
    },
    {
      "cell_type": "code",
      "source": [
        "# クラスタに分割したインデックス\n",
        "clusters = kmedoids_instance.get_clusters()\n",
        "\n",
        "# 各クラスタの大きさ\n",
        "for cluster in clusters:\n",
        "    print(len(cluster))"
      ],
      "metadata": {
        "colab": {
          "base_uri": "https://localhost:8080/"
        },
        "id": "vG2ErXRO4-6z",
        "outputId": "b1f3263b-5db7-4657-ea19-0a773a81f068"
      },
      "execution_count": 6,
      "outputs": [
        {
          "output_type": "stream",
          "name": "stdout",
          "text": [
            "63\n",
            "47\n",
            "68\n"
          ]
        }
      ]
    },
    {
      "cell_type": "code",
      "source": [
        "# 可視化\n",
        "visualizer = cluster_visualizer()\n",
        "visualizer.append_clusters(clusters, x_2dim)\n",
        "visualizer.show()"
      ],
      "metadata": {
        "colab": {
          "base_uri": "https://localhost:8080/",
          "height": 487
        },
        "id": "Q0-fiMRa464B",
        "outputId": "13f25522-85cb-4af9-9ccf-a71ff7d4e8ab"
      },
      "execution_count": 7,
      "outputs": [
        {
          "output_type": "display_data",
          "data": {
            "text/plain": [
              "<Figure size 432x288 with 1 Axes>"
            ],
            "image/png": "[encoded data removed]"
          },
          "metadata": {
            "needs_background": "light"
          }
        },
        {
          "output_type": "execute_result",
          "data": {
            "text/plain": [
              "<Figure size 432x288 with 1 Axes>"
            ],
            "image/png": "[encoded data removed]"
          },
          "metadata": {},
          "execution_count": 7
        }
      ]
    },
    {
      "cell_type": "markdown",
      "source": [
        "### __x-means__\n",
        "\n",
        "- BICに基づいて適切なクラスタ数を決めてくれる"
      ],
      "metadata": {
        "id": "A9x8cYX4H6N4"
      }
    },
    {
      "cell_type": "code",
      "source": [
        "from pyclustering.cluster.xmeans import xmeans\n",
        "\n",
        "# インスタンス化\n",
        "xmeans_instance = xmeans(x, initial_centers)\n",
        "\n",
        "# 実行\n",
        "xmeans_instance.process()\n",
        "\n",
        "# 推論\n",
        "cluster_labels = xmeans_instance.predict(x)\n",
        "cluster_labels"
      ],
      "metadata": {
        "colab": {
          "base_uri": "https://localhost:8080/"
        },
        "outputId": "91d990d9-42ce-477e-d802-b3a4b3cccc38",
        "id": "g2yLT2h-85ZQ"
      },
      "execution_count": 8,
      "outputs": [
        {
          "output_type": "execute_result",
          "data": {
            "text/plain": [
              "array([15, 14, 12, 11, 19, 10,  9,  9, 14, 14, 11,  9,  9, 13, 11,  9,  9,\n",
              "       13, 11, 17, 19, 19, 14, 14, 17, 17, 12,  9, 18, 14,  9, 11, 16,  9,\n",
              "       15, 18, 18, 13, 14, 19, 17, 14, 15,  1, 18, 15, 15, 16, 15,  9, 13,\n",
              "        9, 12, 10, 15, 13, 16,  9,  9,  4,  1,  5,  2,  6,  7,  1,  4,  4,\n",
              "       19, 19, 18,  6,  5, 16, 18,  6,  7,  4, 19,  5,  8,  0,  2,  4,  4,\n",
              "        5,  4,  3,  1,  2,  5,  5,  4,  8,  7, 16,  2,  6,  1,  6,  0,  3,\n",
              "        6,  6,  1,  8,  4,  5,  8,  1,  3,  8,  2,  6,  7,  6,  4,  7,  7,\n",
              "        3,  2,  5,  7,  7,  7,  7,  7,  5,  7,  3,  2,  4,  3,  2,  1,  0,\n",
              "        0,  4,  3,  3,  2, 19,  4,  3, 17, 17,  6,  2,  1,  3,  4,  5,  6,\n",
              "        1,  2,  0,  5, 18,  1,  2,  4,  1,  3,  1,  2,  4,  0,  1, 19,  2,\n",
              "        4,  5,  1, 19, 19, 17, 17,  3])"
            ]
          },
          "metadata": {},
          "execution_count": 8
        }
      ]
    },
    {
      "cell_type": "code",
      "source": [
        "# クラスタに分割したインデックス\n",
        "xmeans_clusters = xmeans_instance.get_clusters()\n",
        "\n",
        "# 各クラスタの大きさ\n",
        "for cluster in xmeans_clusters:\n",
        "    print(len(cluster))"
      ],
      "metadata": {
        "colab": {
          "base_uri": "https://localhost:8080/"
        },
        "outputId": "e14dc00f-65bb-4fc4-da2d-c9e2fc8a243e",
        "id": "MJVsiYg_85ZQ"
      },
      "execution_count": 9,
      "outputs": [
        {
          "output_type": "stream",
          "name": "stdout",
          "text": [
            "6\n",
            "15\n",
            "14\n",
            "12\n",
            "17\n",
            "12\n",
            "11\n",
            "12\n",
            "5\n",
            "13\n",
            "2\n",
            "5\n",
            "3\n",
            "5\n",
            "8\n",
            "7\n",
            "5\n",
            "8\n",
            "7\n",
            "11\n"
          ]
        }
      ]
    },
    {
      "cell_type": "code",
      "source": [
        "# 可視化\n",
        "visualizer = cluster_visualizer()\n",
        "visualizer.append_clusters(xmeans_clusters, x_2dim)\n",
        "visualizer.show()"
      ],
      "metadata": {
        "colab": {
          "base_uri": "https://localhost:8080/",
          "height": 487
        },
        "outputId": "196c46eb-f61d-4e5d-aebe-a2a54ae90530",
        "id": "wnKAnCYy85ZQ"
      },
      "execution_count": 10,
      "outputs": [
        {
          "output_type": "display_data",
          "data": {
            "text/plain": [
              "<Figure size 432x288 with 1 Axes>"
            ],
            "image/png": "[encoded data removed]"
          },
          "metadata": {
            "needs_background": "light"
          }
        },
        {
          "output_type": "execute_result",
          "data": {
            "text/plain": [
              "<Figure size 432x288 with 1 Axes>"
            ],
            "image/png": "[encoded data removed]"
          },
          "metadata": {},
          "execution_count": 10
        }
      ]
    },
    {
      "cell_type": "markdown",
      "source": [
        "### __g-means__\n",
        "\n",
        "- ガウス分布を仮定してクラスタ数を決めてくれる"
      ],
      "metadata": {
        "id": "i7Wj3neV85ZP"
      }
    },
    {
      "cell_type": "code",
      "source": [
        "from pyclustering.cluster.gmeans import gmeans\n",
        "\n",
        "# インスタンス化\n",
        "gmeans_instance = gmeans(x)\n",
        "\n",
        "# 実行\n",
        "gmeans_instance.process()\n",
        "\n",
        "# 推論\n",
        "cluster_labels = gmeans_instance.predict(x)\n",
        "cluster_labels"
      ],
      "metadata": {
        "colab": {
          "base_uri": "https://localhost:8080/"
        },
        "outputId": "a544bcb8-9770-4d08-caa7-c9bac597905c",
        "id": "s5kxnYR_H6N5"
      },
      "execution_count": 11,
      "outputs": [
        {
          "output_type": "execute_result",
          "data": {
            "text/plain": [
              "array([1, 1, 1, 1, 0, 1, 1, 1, 1, 1, 1, 1, 1, 1, 1, 1, 1, 1, 1, 0, 0, 0,\n",
              "       1, 1, 0, 0, 1, 1, 1, 1, 1, 1, 1, 1, 1, 1, 1, 1, 1, 0, 0, 1, 1, 0,\n",
              "       1, 1, 1, 1, 1, 1, 1, 1, 1, 1, 1, 1, 1, 1, 1, 0, 0, 0, 0, 0, 0, 0,\n",
              "       0, 0, 0, 0, 1, 0, 0, 1, 1, 0, 0, 0, 0, 0, 0, 0, 0, 0, 0, 0, 0, 0,\n",
              "       0, 0, 0, 0, 0, 0, 0, 1, 0, 0, 0, 0, 0, 0, 0, 0, 0, 0, 0, 0, 0, 0,\n",
              "       0, 0, 0, 0, 0, 0, 0, 0, 0, 0, 0, 0, 0, 0, 0, 0, 0, 0, 0, 0, 0, 0,\n",
              "       0, 0, 0, 0, 0, 0, 0, 0, 0, 0, 0, 0, 0, 0, 0, 0, 0, 0, 0, 0, 0, 0,\n",
              "       0, 0, 0, 1, 0, 0, 0, 0, 0, 0, 0, 0, 0, 0, 0, 0, 0, 0, 0, 0, 0, 0,\n",
              "       0, 0])"
            ]
          },
          "metadata": {},
          "execution_count": 11
        }
      ]
    },
    {
      "cell_type": "code",
      "source": [
        "# クラスタに分割したインデックス\n",
        "gmeans_clusters = gmeans_instance.get_clusters()\n",
        "\n",
        "# 各クラスタの大きさ\n",
        "for cluster in gmeans_clusters:\n",
        "    print(len(cluster))"
      ],
      "metadata": {
        "colab": {
          "base_uri": "https://localhost:8080/"
        },
        "outputId": "09ad95bd-b1fc-4f61-8831-e8b7e1fb2f9c",
        "id": "rnPVlMVuH6N6"
      },
      "execution_count": 12,
      "outputs": [
        {
          "output_type": "stream",
          "name": "stdout",
          "text": [
            "123\n",
            "55\n"
          ]
        }
      ]
    },
    {
      "cell_type": "code",
      "source": [
        "# 可視化\n",
        "visualizer = cluster_visualizer()\n",
        "visualizer.append_clusters(gmeans_clusters, x_2dim)\n",
        "visualizer.show()"
      ],
      "metadata": {
        "colab": {
          "base_uri": "https://localhost:8080/",
          "height": 487
        },
        "outputId": "dbd75e68-6091-47d9-fa98-72055a237c2d",
        "id": "2OXhjBhhH6N6"
      },
      "execution_count": 13,
      "outputs": [
        {
          "output_type": "display_data",
          "data": {
            "text/plain": [
              "<Figure size 432x288 with 1 Axes>"
            ],
            "image/png": "[encoded data removed]"
          },
          "metadata": {
            "needs_background": "light"
          }
        },
        {
          "output_type": "execute_result",
          "data": {
            "text/plain": [
              "<Figure size 432x288 with 1 Axes>"
            ],
            "image/png": "[encoded data removed]"
          },
          "metadata": {},
          "execution_count": 13
        }
      ]
    }
  ]
}